{
 "cells": [
  {
   "cell_type": "markdown",
   "metadata": {
    "tags": []
   },
   "source": [
    "# DLO-JZ : Parallélisation du calcul de pi - Jour 2 \n",
    "\n",
    "*Notebook rédigé par l'équipe assistance IA de l'IDRIS - 02/2024*\n",
    "\n",
    "*TP inspiré du cours MPI de l'IDRIS (TP3) : http://www.idris.fr/media/formations/mpi/idrismpi.pdf*"
   ]
  },
  {
   "cell_type": "markdown",
   "metadata": {},
   "source": [
    "------------------------"
   ]
  },
  {
   "cell_type": "markdown",
   "metadata": {},
   "source": [
    "Ce notebook est prévu pour être exécuté depuis un noeud de calcul Jean-Zay. Le *hostname* doit être `jean-zay-iamXX`."
   ]
  },
  {
   "cell_type": "code",
   "execution_count": null,
   "metadata": {
    "tags": []
   },
   "outputs": [],
   "source": [
    "!hostname"
   ]
  },
  {
   "cell_type": "markdown",
   "metadata": {},
   "source": [
    "Un module PyTorch doit avoir été chargé pour le bon fonctionnement de ce Notebook. `pytorch-gpu/py3/2.1.1` est conseillé :"
   ]
  },
  {
   "cell_type": "code",
   "execution_count": null,
   "metadata": {
    "tags": []
   },
   "outputs": [],
   "source": [
    "!module list"
   ]
  },
  {
   "cell_type": "code",
   "execution_count": null,
   "metadata": {
    "tags": []
   },
   "outputs": [],
   "source": [
    "from idr_pytools import display_slurm_queue, gpu_jobs_submitter, search_log\n",
    "MODULE = 'pytorch-gpu/py3/2.1.1'\n",
    "account = 'for@a100'\n",
    "name = 'pseudo'   ## Pseudonyme à choisir\n",
    "\n",
    "assert name != 'pseudo' and name != '', 'please choose a pseudo'"
   ]
  },
  {
   "cell_type": "markdown",
   "metadata": {},
   "source": [
    "------------------------------------"
   ]
  },
  {
   "cell_type": "markdown",
   "metadata": {
    "tags": []
   },
   "source": [
    "## Consigne\n",
    "\n",
    "Le but de ce TP est de paralléliser le calcul de $\\pi$ par intégration numérique en utilisant la librairie [torch.distributed](https://pytorch.org/docs/stable/distributed.html) de PyTorch.\n",
    "\n",
    "Pour rappel, une approximation de $\\pi$ est la suivante : \n",
    "$$\n",
    "\\pi = \\int_0^1 \\frac{4}{1 + x^2 }\\ dx\n",
    "$$\n",
    "\n",
    "Celle-ci peut être calculée par intégration numérique grâce à la méthode des rectangles (ou méthode du point milieu) :\n",
    "$$\n",
    "\\pi = \\sum_{i=0}^{N-1} f(x_i) * h\n",
    "$$\n",
    "avec $N$ le nombre d'intervalles de discrétisation, $x_i$ les coordonnées centrales des intervalles, $h$ la longueur des intervalles, et $f(x) =  4 / (1 + x^2)$.\n",
    "<div>\n",
    "<img src=\"figures/int_num_rect.png\" width=\"300\"/>\n",
    "</div>"
   ]
  },
  {
   "cell_type": "markdown",
   "metadata": {},
   "source": [
    "## Exécution séquentielle du code"
   ]
  },
  {
   "cell_type": "markdown",
   "metadata": {},
   "source": [
    "Dans le script initial [compute_pi.py](compute_pi.py), vous trouverez une version séquentielle du calcul de $\\pi$. Vérifions qu'elle calcule juste."
   ]
  },
  {
   "cell_type": "code",
   "execution_count": null,
   "metadata": {},
   "outputs": [],
   "source": [
    "n_gpu = 1\n",
    "command = './compute_pi.py'\n",
    "jobid = gpu_jobs_submitter(command, n_gpu, MODULE, name=name,\n",
    "                   account=account, time_max='00:10:00')\n",
    "print(f'jobid = {jobid}')"
   ]
  },
  {
   "cell_type": "code",
   "execution_count": null,
   "metadata": {
    "tags": []
   },
   "outputs": [],
   "source": [
    "#jobid = ['967093']"
   ]
  },
  {
   "cell_type": "code",
   "execution_count": null,
   "metadata": {},
   "outputs": [],
   "source": [
    "display_slurm_queue(name)"
   ]
  },
  {
   "cell_type": "code",
   "execution_count": null,
   "metadata": {},
   "outputs": [],
   "source": [
    "%cat {search_log(contains=jobid[0])[0]}"
   ]
  },
  {
   "cell_type": "code",
   "execution_count": null,
   "metadata": {},
   "outputs": [],
   "source": [
    "#%cat {search_log(contains=jobid[0], with_err=True)['stderr'][0]}"
   ]
  },
  {
   "cell_type": "markdown",
   "metadata": {},
   "source": [
    "## Exécution parallèle du code\n",
    "\n",
    "En complétant les balises `TODO` dans le code [compute_pi.py](compute_pi.py), parallélisez le calcul de $\\pi$ et lancez le calcul sur 4 processus."
   ]
  },
  {
   "cell_type": "markdown",
   "metadata": {},
   "source": [
    "<details>\n",
    "    <summary><b>Aide</b> <i>TODO_0: import torch.distributed and initialize parallel environment</i></summary>\n",
    "    <a href=\"https://pytorch.org/docs/stable/distributed.html#torch.distributed.init_process_group\">https://pytorch.org/docs/stable/distributed.html#torch.distributed.init_process_group</a>    \n",
    "</details>"
   ]
  },
  {
   "cell_type": "markdown",
   "metadata": {},
   "source": [
    "<details>\n",
    "    <summary><b>Aide</b> <i>TODO_4: make ranks communicate so that each rank stores the value pi</i></summary>    \n",
    "    <a href=\"https://pytorch.org/docs/stable/distributed.html#torch.distributed.all_reduce\"> https://pytorch.org/docs/stable/distributed.html#torch.distributed.all_reduce</a>\n",
    "</details>"
   ]
  },
  {
   "cell_type": "code",
   "execution_count": null,
   "metadata": {},
   "outputs": [],
   "source": [
    "n_gpu = 4\n",
    "command = './compute_pi.py'\n",
    "jobid = gpu_jobs_submitter(command, n_gpu, MODULE, name=name,\n",
    "                   account=account, time_max='00:10:00')\n",
    "print(f'jobid = {jobid}')"
   ]
  },
  {
   "cell_type": "code",
   "execution_count": null,
   "metadata": {
    "tags": []
   },
   "outputs": [],
   "source": [
    "#jobid = ['967359']"
   ]
  },
  {
   "cell_type": "code",
   "execution_count": null,
   "metadata": {},
   "outputs": [],
   "source": [
    "display_slurm_queue(name)"
   ]
  },
  {
   "cell_type": "code",
   "execution_count": null,
   "metadata": {},
   "outputs": [],
   "source": [
    "# afficher le log\n",
    "%cat {search_log(contains=jobid[0])[0]}"
   ]
  },
  {
   "cell_type": "code",
   "execution_count": null,
   "metadata": {},
   "outputs": [],
   "source": [
    "# afficher les log d'erreur\n",
    "#%cat {search_log(contains=jobid[0], with_err=True)['stderr'][0]}"
   ]
  }
 ],
 "metadata": {
  "kernelspec": {
   "display_name": "pytorch-gpu-2.1.1_py3.11.5",
   "language": "python",
   "name": "module-conda-env-pytorch-gpu-2.1.1_py3.11.5"
  },
  "language_info": {
   "codemirror_mode": {
    "name": "ipython",
    "version": 3
   },
   "file_extension": ".py",
   "mimetype": "text/x-python",
   "name": "python",
   "nbconvert_exporter": "python",
   "pygments_lexer": "ipython3",
   "version": "3.11.6"
  }
 },
 "nbformat": 4,
 "nbformat_minor": 4
}
