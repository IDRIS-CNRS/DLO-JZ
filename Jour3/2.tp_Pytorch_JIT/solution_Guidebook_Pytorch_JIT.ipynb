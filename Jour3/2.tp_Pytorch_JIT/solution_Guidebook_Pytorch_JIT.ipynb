{
 "cells": [
  {
   "cell_type": "markdown",
   "id": "302e8689-b596-4a8f-abab-b4eddaf2502a",
   "metadata": {
    "tags": []
   },
   "source": [
    "# **PyTorch JIT Optimization**\n",
    "License : CC BY-NC-SA 4.0"
   ]
  },
  {
   "cell_type": "markdown",
   "id": "8d06b861-30b0-4a1e-a425-ed0289fcedfb",
   "metadata": {
    "tags": []
   },
   "source": [
    "---\n",
    "---\n",
    "## **Introduction**"
   ]
  },
  {
   "cell_type": "markdown",
   "id": "a24f1d00-dd9a-43a3-923c-7df05b53a3a6",
   "metadata": {
    "tags": []
   },
   "source": [
    "Welcome to our lab on optimizing deep learning models with PyTorch's JIT compilation, focusing on TorchScript and `torch.compile`. Dive into hands-on applications of these core optimization tools to boost model performance efficiently.\n",
    "\n",
    "**Lab Objectives:**\n",
    "- Understand interpretation vs. compilation in Python and PyTorch.\n",
    "- Master TorchScript through tracing and scripting for JIT compilation.\n",
    "- Explore `torch.compile` to optimize PyTorch models effectively.\n",
    "- Practice exporting models for efficient deployment.\n",
    "\n",
    "\n",
    "**Why JIT?** JIT compilation optimizes PyTorch models by compiling Python code into a more efficient form at runtime, enhancing execution speed and resource efficiency. This is crucial for:\n",
    "- Accelerating execution and reducing resource demands.\n",
    "- Improving hardware utilization.\n",
    "- Simplifying deployment across diverse platforms.\n",
    "\n",
    "\n",
    "This lab explores JIT compilation in PyTorch, showing how it addresses Python's limitations to enhance deep learning model performance, and equips you with techniques to optimize your models."
   ]
  },
  {
   "cell_type": "markdown",
   "id": "e91eefb8-944b-4629-ac01-1b5d9619d28a",
   "metadata": {
    "tags": []
   },
   "source": [
    "---\n",
    "---\n",
    "## **Initial Setup and Instructions**\n",
    "This section prepares the notebook environment for our exercises and introduces key tools we'll use throughout."
   ]
  },
  {
   "cell_type": "markdown",
   "id": "79873762-9104-4f98-9cf5-7590455170e7",
   "metadata": {
    "tags": []
   },
   "source": [
    "### Understanding `ToDo`\n",
    "\n",
    "Throughout this notebook, you'll encounter placeholders marked with `ToDo`. This indicates a section where you, the student, need to complete or modify the code. The `ToDo` class is designed to remind you of tasks that need to be addressed to proceed with the exercises. It's a prompt for active participation in the learning process.\n",
    "\n",
    "Whenever you see a `ToDo` in the code, it's your cue to engage with the material by writing or modifying code. This interactive approach helps reinforce learning through practice.\n",
    "\n",
    "The following cell defines the `ToDo` class. Note that no action is required from you in this specific cell; it's simply a setup for the interactive tasks ahead."
   ]
  },
  {
   "cell_type": "code",
   "execution_count": 1,
   "id": "f0223f46-01b5-40a8-9b3c-6fcf20aa0d53",
   "metadata": {
    "tags": []
   },
   "outputs": [],
   "source": [
    "class ToDo:\n",
    "    def __init__(self, message=None):\n",
    "        if message is None:\n",
    "            self.message = \"This part of the code needs to be completed by the student.\"\n",
    "        else:\n",
    "            self.message = message\n",
    "\n",
    "    def __call__(self, *args, **kwargs):\n",
    "        print(\"TODO: Complete this part of the code.\")\n",
    "        raise NotImplementedError(self.message)\n",
    "\n",
    "    # Example of an additional method that could be useful in the future\n",
    "    def hint(self):\n",
    "        print(f\"Hint: {self.message}\")\n",
    "\n",
    "# Usage\n",
    "todo = ToDo()"
   ]
  },
  {
   "cell_type": "markdown",
   "id": "99c58413-3e49-41d5-9bc5-650469ee253f",
   "metadata": {
    "jp-MarkdownHeadingCollapsed": true,
    "tags": []
   },
   "source": [
    "### Executing Lab Exercises: Interactive and Script-Based Tasks\n",
    "\n",
    "Throughout this lab, you'll engage in exercises directly within this notebook and work on script-based tasks identifiable by `%writefile` at the beginning of the cell. For deploying scripts on a computing cluster, leverage `srun` to execute your code on compute nodes. If you're equipped with a local GPU, run these scripts using `!python code.py`. This dual approach ensures a thorough learning experience, combining interactive exploration with practical script execution."
   ]
  },
  {
   "cell_type": "markdown",
   "id": "cd044c0f-a6ba-48a0-9268-95e2941be38c",
   "metadata": {
    "tags": []
   },
   "source": [
    "### Auto-Reloading\n",
    "\n",
    "To ensure any changes in imported modules are automatically updated in the notebook, we enable auto-reloading. This is particularly useful during development, as it saves time that would otherwise be spent restarting the kernel.\n"
   ]
  },
  {
   "cell_type": "code",
   "execution_count": 2,
   "id": "5fadd0d2-96b5-4512-8088-93dfd16aae77",
   "metadata": {
    "tags": []
   },
   "outputs": [],
   "source": [
    "%load_ext autoreload\n",
    "%autoreload 2"
   ]
  },
  {
   "cell_type": "markdown",
   "id": "81971782-f2ec-47bd-a883-0f62a291208a",
   "metadata": {
    "tags": []
   },
   "source": [
    "\n",
    "### Initial Setup\n",
    "\n",
    "Before starting, create a `generated_files` directory to ensure all generated script files are neatly stored in one place.\n",
    "\n",
    "Also we import utilitary functions to run jobs.\n",
    "\n",
    "> **Task:** Define a name you will use to identify your jobs"
   ]
  },
  {
   "cell_type": "code",
   "execution_count": 3,
   "id": "615833dc-39a4-4d5c-a504-19ce81288b8a",
   "metadata": {
    "tags": []
   },
   "outputs": [
    {
     "name": "stdout",
     "output_type": "stream",
     "text": []
    },
    {
     "name": "stdout",
     "output_type": "stream",
     "text": []
    }
   ],
   "source": [
    "!mkdir -p generated_files"
   ]
  },
  {
   "cell_type": "code",
   "execution_count": 4,
   "id": "7101569c-9684-4f86-a465-1738c01c3ef9",
   "metadata": {},
   "outputs": [],
   "source": [
    "from idr_pytools import display_slurm_queue, gpu_jobs_submitter, search_log\n",
    "from dlojz_tools import controle_technique, compare, GPU_underthehood, plot_accuracy, lrfind_plot, imagenet_starter, turbo_profiler\n",
    "MODULE = 'pytorch-gpu/py3/2.1.1'\n",
    "account = 'sos@a100'\n",
    "name = 'kg'   ## Pseudonyme à choisir"
   ]
  },
  {
   "cell_type": "markdown",
   "id": "3649b5c7-5cb5-4b2b-851e-fcae290a73c9",
   "metadata": {
    "tags": []
   },
   "source": [
    "---\n",
    "---\n",
    "## **Python's Execution Model Explained**"
   ]
  },
  {
   "cell_type": "markdown",
   "id": "98835beb-68c6-405a-80a7-9cc5f909940a",
   "metadata": {
    "tags": []
   },
   "source": [
    "Python, an interpreted language, processes code line by line, which is straightforward for development but can slow down execution. Unlike compiled languages like C, which convert code directly into machine code for faster performance, Python's execution involves an extra step that can introduce performance bottlenecks.\n",
    "\n",
    "### CPython's Hybrid Approach\n",
    "\n",
    "CPython, Python's standard interpreter, compiles code to bytecode before interpreting it, striking a balance between direct interpretation and full compilation. This method reduces some overhead but doesn't achieve the full speed of compiled languages.\n",
    "\n",
    "### Boosting Performance with Cython\n",
    "\n",
    "Cython enhances Python by allowing static typing and compilation to C, significantly speeding up execution. This approach bridges the gap between Python's ease of use and the performance of compiled languages, albeit with the complexity of managing Cython code and the limitations in handling dynamic operations.\n",
    "\n",
    "### JIT in PyTorch\n",
    "\n",
    "PyTorch addresses Python's performance issues with JIT compilation, converting code into an optimized, hardware-specific format at runtime. This method ensures efficient execution of dynamic deep learning models, leveraging the best of both Python's flexibility and the efficiency of compiled execution.\n",
    "\n",
    "Through JIT, PyTorch marries Python's development advantages with the performance benefits of compiled languages, optimizing deep learning model performance and deployment.\n"
   ]
  },
  {
   "cell_type": "markdown",
   "id": "cc943264-ae6e-4d86-a027-886b0ed7e939",
   "metadata": {
    "tags": []
   },
   "source": [
    "---\n",
    "---\n",
    "## **Performance: Python vs. C**"
   ]
  },
  {
   "cell_type": "markdown",
   "id": "b00ba0d0-08dd-4933-b2ff-6bd645486615",
   "metadata": {},
   "source": [
    "\n",
    "Python runs code directly, which is beneficial for rapid development but can result in slower execution times. Conversely, C requires a compilation process that translates code into a binary executable, typically leading to faster execution after this initial setup. The C compilation process involves:\n",
    "\n",
    "1. **Preprocessing:** Macro expansion and inclusion of header files.\n",
    "2. **Compilation:** Conversion of the preprocessed source code to assembly code.\n",
    "3. **Assembly:** Translation of assembly code into machine code, producing an object file (.o).\n",
    "4. **Linking:** Combining object files and libraries into a final executable binary.\n",
    "\n",
    "### Tasks\n",
    "\n",
    "> **Task 1 (Python)**: Create a Python script to sum numbers from 1 to 1 million. Then, time the script's execution.\n",
    "<details>\n",
    "<summary>Solution (click to reveal)</summary>\n",
    "\n",
    "Here's one way to solve the exercise using a loop, encapsulated within a Python script file stored in the `generated_files` directory:\n",
    "\n",
    "```python\n",
    "%%writefile generated_files/sum_python.py\n",
    "total = 0\n",
    "for i in range(1, 1000001):\n",
    "    total += i\n",
    "print(f\"Sum: {total}\")\n",
    "```\n",
    "\n",
    "Alternatively, for a more concise solution using Python's built-in `sum()` function, also stored in the `generated_files` directory:\n",
    "\n",
    "```python\n",
    "%%writefile generated_files/sum_python.py\n",
    "total = sum(range(1, 1000001))\n",
    "print(f\"Sum: {total}\")\n",
    "```\n",
    "\n",
    "Both scripts, when executed, will calculate the sum of numbers from 1 to 1,000,000 and are stored in the `generated_files` directory for organization.\n",
    "\n",
    "</details>\n",
    "\n",
    "> **Task 2 (C)**: Create a C program to sum numbers from 1 to 1 million. Compile and time the program's execution.\n",
    "<details>\n",
    "<summary>Solution (click to reveal)</summary>\n",
    "\n",
    "Here's a solution for summing numbers from 1 to 1,000,000 using a loop, encapsulated within a C program file stored in the `generated_files` directory:\n",
    "\n",
    "```c\n",
    "%%writefile generated_files/sum_c.c\n",
    "#include <stdio.h>\n",
    "\n",
    "int main() {\n",
    "    long total = 0;\n",
    "    for (int i = 1; i <= 1000000; i++) {\n",
    "        total += i;\n",
    "    }\n",
    "\n",
    "    printf(\"Sum: %ld\\n\", total);\n",
    "    return 0;\n",
    "}\n",
    "```\n",
    "\n",
    "This script, when compiled and executed, will calculate the sum of numbers from 1 to 1,000,000 and is stored in the `generated_files` directory for tidy organization.\n",
    "\n",
    "</details>\n",
    "\n",
    "> **Task 3 (Comparison)**: Compare the execution times of both programs. Reflect on the differences and discuss the impact of Python's direct execution versus the compilation and execution process of C.\n",
    "\n",
    "<details>\n",
    "<summary>Solution (click to reveal)</summary>\n",
    "\n",
    "\n",
    "Observations from the execution times:\n",
    "\n",
    "1. **Python's Execution**: Directly interpreted, resulting in slower execution due to real-time interpretation overhead.\n",
    "```\n",
    "real\t0m0.073s\n",
    "user\t0m0.039s\n",
    " sys\t0m0.020s\n",
    "```\n",
    "\n",
    "2. **C's Execution**: Involves compilation and running. The compilation is a one-time overhead, but the resulting executable runs significantly faster than the Python script.\n",
    "```\n",
    "real\t0m0.377s\n",
    "user\t0m0.034s\n",
    " sys\t0m0.082s\n",
    "\n",
    "real\t0m0.013s\n",
    "user\t0m0.004s\n",
    " sys\t0m0.009s\n",
    "```\n",
    "\n",
    "    \n",
    "### Conclusion:\n",
    "\n",
    "The key difference lies in Python's runtime interpretation versus C's upfront compilation. C's compiled executable runs faster, showcasing the efficiency of compiled programs despite the initial compile time.\n",
    "\n",
    "</details>\n",
    "\n",
    "\n",
    "\n",
    "These tasks illustrate performance differences between Python and C. If you're less familiar with these languages, it's okay to focus on the conceptual insights. **The key is understanding, not perfect execution.**"
   ]
  },
  {
   "cell_type": "code",
   "execution_count": 5,
   "id": "e2d56f6c-b87f-4ac4-b068-49750b9f70ec",
   "metadata": {
    "tags": []
   },
   "outputs": [
    {
     "name": "stdout",
     "output_type": "stream",
     "text": [
      "Overwriting generated_files/sum_python.py\n"
     ]
    }
   ],
   "source": [
    "%%writefile generated_files/sum_python.py\n",
    "total = 0\n",
    "for i in range(1, 1000001):\n",
    "    total += i\n",
    "print(f\"Sum: {total}\")"
   ]
  },
  {
   "cell_type": "code",
   "execution_count": 6,
   "id": "8caaee1a-6832-4793-bd3b-27755ae0337c",
   "metadata": {
    "tags": []
   },
   "outputs": [
    {
     "name": "stdout",
     "output_type": "stream",
     "text": [
      "Overwriting generated_files/sum_python.py\n"
     ]
    }
   ],
   "source": [
    "%%writefile generated_files/sum_python.py\n",
    "total = sum(range(1, 1000001))\n",
    "print(f\"Sum: {total}\")"
   ]
  },
  {
   "cell_type": "code",
   "execution_count": 7,
   "id": "cdb684d4-6ce3-4814-9d6a-ec517431b904",
   "metadata": {
    "tags": []
   },
   "outputs": [
    {
     "name": "stdout",
     "output_type": "stream",
     "text": [
      "Overwriting generated_files/sum_c.c\n"
     ]
    }
   ],
   "source": [
    "%%writefile generated_files/sum_c.c\n",
    "#include <stdio.h>\n",
    "\n",
    "int main() {\n",
    "    long total = 0;\n",
    "    for (int i = 1; i <= 1000000; i++) {\n",
    "        total += i;\n",
    "    }\n",
    "\n",
    "    printf(\"Sum: %ld\\n\", total);\n",
    "    return 0;\n",
    "}"
   ]
  },
  {
   "cell_type": "code",
   "execution_count": 8,
   "id": "dcf997c0-932d-44fb-bcae-38ed4ebe396d",
   "metadata": {
    "tags": []
   },
   "outputs": [
    {
     "name": "stdout",
     "output_type": "stream",
     "text": [
      "Python performance:\n",
      "Sum: 500000500000\n",
      "\n",
      "real\t0m0.115s\n",
      "user\t0m0.057s\n",
      "sys\t0m0.028s\n",
      "\n",
      "\n",
      "C performance compilation:\n",
      "\n",
      "real\t0m0.204s\n",
      "user\t0m0.033s\n",
      "sys\t0m0.078s\n",
      "\n",
      "\n",
      "C performance execution:\n",
      "Sum: 500000500000\n",
      "\n",
      "real\t0m0.017s\n",
      "user\t0m0.003s\n",
      "sys\t0m0.009s\n"
     ]
    }
   ],
   "source": [
    "print(\"Python performance:\")\n",
    "!time python generated_files/sum_python.py\n",
    "print(\"\\n\\nC performance compilation:\")\n",
    "!time gcc generated_files/sum_c.c -o generated_files/sum_c\n",
    "print(\"\\n\\nC performance execution:\")\n",
    "!time ./generated_files/sum_c"
   ]
  },
  {
   "cell_type": "markdown",
   "id": "ead24e4e-c9de-4234-baad-fc85b6ba91ac",
   "metadata": {
    "tags": []
   },
   "source": [
    "---\n",
    "---\n",
    "## **TorchScript**"
   ]
  },
  {
   "cell_type": "markdown",
   "id": "3e524430-7ba6-4c53-abbb-30320b7e809c",
   "metadata": {
    "tags": []
   },
   "source": [
    "### JIT (Just-In-Time) Compilation"
   ]
  },
  {
   "cell_type": "markdown",
   "id": "daa5835e-efa2-4665-9212-c99e8fd24dc0",
   "metadata": {},
   "source": [
    "JIT compilation optimizes PyTorch model execution, translating Python code to a more efficient format that enhances performance, particularly during inference. It combines Python's development simplicity with the execution speed closer to compiled languages.\n"
   ]
  },
  {
   "cell_type": "markdown",
   "id": "115d919b-c052-41c5-8f8d-836d6208272c",
   "metadata": {
    "tags": []
   },
   "source": [
    "### TorchScript Mechanism"
   ]
  },
  {
   "cell_type": "markdown",
   "id": "a6fc44f9-d938-4149-bad8-37a7e6601eed",
   "metadata": {
    "tags": []
   },
   "source": [
    "TorchScript is a tool within PyTorch for creating serializable and optimizable models. It enables models to run independently of Python, facilitating deployment in non-Python environments.\n",
    "\n",
    "- **Mechanism**: Converts PyTorch models to TorchScript through **tracing** or **scripting**.\n",
    "  \n",
    "  - **Tracing** records operations on provided inputs, generating a computation graph.\n",
    "  \n",
    "  - **Scripting** directly translates Python code to TorchScript, incorporating complex control flows.\n",
    "\n",
    "#### Advantages\n",
    "- **Improved Performance**: Models execute faster, especially in production.\n",
    "- **Increased Portability**: Enables model execution in environments without Python.\n",
    "- **Enhanced Flexibility**: Supports models with dynamic behaviors and varying inputs.\n",
    "\n",
    "TorchScript is pivotal for JIT in PyTorch, improving models' speed, deployability, and flexibility.\n",
    "\n",
    "Before diving into specifics, let's outline our approach: we'll first explore TorchScript's key features—tracing and scripting—to understand how they convert Python functions for optimized execution in PyTorch. After grasping these functionalities, we will then evaluate the performance gains they offer."
   ]
  },
  {
   "cell_type": "markdown",
   "id": "fbea04e0-285b-457f-a57a-3e3e4df546bb",
   "metadata": {
    "tags": []
   },
   "source": [
    "### Exploring TorchScript Tracing"
   ]
  },
  {
   "cell_type": "markdown",
   "id": "b4b6e684-7ceb-4e78-b4f7-e0c86727079b",
   "metadata": {
    "tags": []
   },
   "source": [
    "\n",
    "\n",
    "TorchScript tracing transforms Python functions into TorchScript by executing the function with a sample input and capturing the operations executed. This creates a static computation graph reflecting the input-specific behavior. While tracing suits straightforward functions well, it may not accurately handle dynamic behavior due to its static nature.\n",
    "\n",
    "\n",
    "> **Task: Implement Tracing with TorchScript for `add_ten` and `conditional_add` by using torch.jit.trace.** Refer to the [torch.jit.trace documentation](https://pytorch.org/docs/stable/generated/torch.jit.trace.html#torch.jit.trace) for more details on the parameters required.\n",
    "\n",
    "\n",
    "\n",
    "<details>\n",
    "<summary>Solution (click to reveal)</summary>\n",
    "Unlike tracing, scripting does not require an example input. Scripting analyzes the code to capture control flows and the overall logic.\n",
    " \n",
    "```python\n",
    "import torch\n",
    "\n",
    "# Define the functions\n",
    "def add_ten(x):\n",
    "    return x + 10\n",
    "\n",
    "def conditional_add(x):\n",
    "    if x < 10:\n",
    "        x = x + 10\n",
    "    else:\n",
    "        x = x + 100\n",
    "    return x\n",
    "\n",
    "# Apply tracing\n",
    "example_input = torch.tensor(1)\n",
    "traced_add_ten = torch.jit.trace(add_ten, example_input)\n",
    "traced_conditional_add = torch.jit.trace(conditional_add, example_input)\n",
    "```\n",
    "</details>"
   ]
  },
  {
   "cell_type": "code",
   "execution_count": 9,
   "id": "dc4d7eff-a2d9-4d4d-a3ea-63a7f9c88bb9",
   "metadata": {
    "tags": []
   },
   "outputs": [
    {
     "name": "stderr",
     "output_type": "stream",
     "text": [
      "/tmp/xpython_7405/1385163837.py:8: TracerWarning: Converting a tensor to a Python boolean might cause the trace to be incorrect. We can't record the data flow of Python values, so this value will be treated as a constant in the future. This means that the trace might not generalize to other inputs!\n",
      "  if x < 10:\n"
     ]
    }
   ],
   "source": [
    "import torch\n",
    "\n",
    "# Define the functions\n",
    "def add_ten(x):\n",
    "    return x + 10\n",
    "\n",
    "def conditional_add(x):\n",
    "    if x < 10:\n",
    "        x = x + 10\n",
    "    else:\n",
    "        x = x + 100\n",
    "    return x\n",
    "\n",
    "# Apply tracing\n",
    "example_input = torch.tensor(1)\n",
    "traced_add_ten = torch.jit.trace(add_ten, example_input)\n",
    "traced_conditional_add = torch.jit.trace(conditional_add, example_input)"
   ]
  },
  {
   "cell_type": "markdown",
   "id": "0c95b82a-d4ff-4767-87f6-dd96f9dce98d",
   "metadata": {},
   "source": [
    "\n",
    "> **Task: Observe Results and Discuss Tracing Limitations for `conditional_add`**. Experiment with `traced_add_ten` and `traced_conditional_add` using various inputs. Specifically, adjust the example input for `traced_conditional_add` and note the changes.\n",
    "\n",
    "<details>\n",
    "<summary>Solution (click to reveal)</summary>\n",
    "\n",
    "```\n",
    "Traced 'add_ten' result: tensor(10)\n",
    "Traced 'add_ten' result: tensor(25)\n",
    "Traced 'conditional_add' with input less than 10: tensor(10)\n",
    "Traced 'conditional_add' with input greater than 10: tensor(25)\n",
    "```\n",
    "    \n",
    "`traced_add_ten` consistently adds ten to any input, reflecting its straightforward logic. In contrast, `traced_conditional_add` may fail to adapt to inputs not matched by the example input used for tracing. This is because tracing captures the function's execution path based on that specific input, missing other conditional branches.\n",
    "\n",
    "Changing the example input for tracing `conditional_add` directly impacts which conditional path is captured. For example, tracing with a value less than 10 captures the \"less than 10\" path, making the function inaccurate for inputs greater than 10, and vice versa.\n",
    "\n",
    "This demonstrates tracing's limitation with dynamic behaviors, emphasizing the need for a representative example input to ensure accurate behavior across all inputs.\n",
    "</details>"
   ]
  },
  {
   "cell_type": "code",
   "execution_count": 10,
   "id": "c362c015-7570-4805-9fa3-34ccb83b35c0",
   "metadata": {
    "tags": []
   },
   "outputs": [
    {
     "name": "stdout",
     "output_type": "stream",
     "text": [
      "Traced 'add_ten' result: tensor(10)\n",
      "Traced 'add_ten' result: tensor(25)\n",
      "Traced 'conditional_add' with input less than 10: tensor(10)\n",
      "Traced 'conditional_add' with input greater than 10: tensor(25)\n"
     ]
    }
   ],
   "source": [
    "# Test the traced functions\n",
    "test_input_less = torch.tensor(0)\n",
    "test_input_more = torch.tensor(15)\n",
    "\n",
    "print(\"Traced 'add_ten' result:\", traced_add_ten(test_input_less))\n",
    "print(\"Traced 'add_ten' result:\", traced_add_ten(test_input_more))\n",
    "print(\"Traced 'conditional_add' with input less than 10:\", traced_conditional_add(test_input_less))\n",
    "print(\"Traced 'conditional_add' with input greater than 10:\", traced_conditional_add(test_input_more))"
   ]
  },
  {
   "cell_type": "markdown",
   "id": "5d9bd26b-79b1-41cf-a4c4-f5b7a3b5a060",
   "metadata": {},
   "source": [
    "> **Task: Compare the Graphs for `add_ten` and `conditional_add` Tracing** generated using the `.graph` attribute of the traced objects. This attribute provides a textual representation of the operations and tensors within the traced function, showcasing the flow of data and the operations applied.\n",
    "\n",
    "<details>\n",
    "<summary>Solution (click to reveal)</summary>\n",
    "\n",
    "```\n",
    "Graph for 'add_ten':\n",
    " graph(%x : Long(requires_grad=0, device=cpu)):\n",
    "  %1 : Long(requires_grad=0, device=cpu) = prim::Constant[value={10}]() # /tmp/ipykernel_3336442/1385163837.py:5:0\n",
    "  %2 : int = prim::Constant[value=1]() # /tmp/ipykernel_3336442/1385163837.py:5:0\n",
    "  %3 : Long(requires_grad=0, device=cpu) = aten::add(%x, %1, %2) # /tmp/ipykernel_3336442/1385163837.py:5:0\n",
    "  return (%3)\n",
    "\n",
    "\n",
    "Graph for 'conditional_add':\n",
    " graph(%x : Long(requires_grad=0, device=cpu)):\n",
    "  %3 : Long(requires_grad=0, device=cpu) = prim::Constant[value={10}]() # /tmp/ipykernel_3336442/1385163837.py:9:0\n",
    "  %4 : int = prim::Constant[value=1]() # /tmp/ipykernel_3336442/1385163837.py:9:0\n",
    "  %5 : Long(requires_grad=0, device=cpu) = aten::add(%x, %3, %4) # /tmp/ipykernel_3336442/1385163837.py:9:0\n",
    "  return (%5)\n",
    "```\n",
    "\n",
    "    \n",
    "The traced graphs for `add_ten` and `conditional_add` are structurally similar, highlighting tracing's static nature. Despite `conditional_add`'s conditional logic, its graph shows a straightforward addition, like `add_ten`, underscoring tracing's limitation in capturing dynamic behavior based solely on the provided example input.\n",
    "\n",
    "</details>"
   ]
  },
  {
   "cell_type": "code",
   "execution_count": 11,
   "id": "8865a68e-d24c-4afb-ac38-ed03e4997d2e",
   "metadata": {
    "tags": []
   },
   "outputs": [
    {
     "name": "stdout",
     "output_type": "stream",
     "text": [
      "Graph for 'add_ten':\n",
      " graph(%x : Long(requires_grad=0, device=cpu)):\n",
      "  %1 : Long(requires_grad=0, device=cpu) = prim::Constant[value={10}]() # /tmp/xpython_7405/1385163837.py:5:0\n",
      "  %2 : int = prim::Constant[value=1]() # /tmp/xpython_7405/1385163837.py:5:0\n",
      "  %3 : Long(requires_grad=0, device=cpu) = aten::add(%x, %1, %2) # /tmp/xpython_7405/1385163837.py:5:0\n",
      "  return (%3)\n",
      "\n",
      "\n",
      "Graph for 'conditional_add':\n",
      " graph(%x : Long(requires_grad=0, device=cpu)):\n",
      "  %3 : Long(requires_grad=0, device=cpu) = prim::Constant[value={10}]() # /tmp/xpython_7405/1385163837.py:9:0\n",
      "  %4 : int = prim::Constant[value=1]() # /tmp/xpython_7405/1385163837.py:9:0\n",
      "  %5 : Long(requires_grad=0, device=cpu) = aten::add(%x, %3, %4) # /tmp/xpython_7405/1385163837.py:9:0\n",
      "  return (%5)\n",
      "\n"
     ]
    }
   ],
   "source": [
    "print(\"Graph for 'add_ten':\\n\", traced_add_ten.graph)\n",
    "print(\"\\nGraph for 'conditional_add':\\n\", traced_conditional_add.graph)"
   ]
  },
  {
   "cell_type": "markdown",
   "id": "8365aa5e-a362-4d21-b97e-3726cad62ad0",
   "metadata": {
    "tags": []
   },
   "source": [
    "### Exploring TorchScript Scripting\n"
   ]
  },
  {
   "cell_type": "markdown",
   "id": "836129f5-73ed-43c7-b008-72e636325bb8",
   "metadata": {
    "tags": []
   },
   "source": [
    "\n",
    "After exploring TorchScript's tracing mechanism, let's delve into scripting, another powerful method for converting Python functions and models into TorchScript.\n",
    "\n",
    "Scripting performs a static analysis of your Python code to create a TorchScript version. Unlike tracing, which records operations performed on example inputs, scripting examines the code itself, capturing its structure, control flows (like loops and if-statements), and the overall logic.\n",
    "\n",
    "**Advantages Over Tracing:**\n",
    "\n",
    "- **Dynamic Behavior**: Scripting accurately captures dynamic behaviors, making it more suitable for functions and models with conditional logic or varying execution paths.\n",
    "- **Complete Translation**: It translates the entire function or model, including all potential execution paths, not just the ones executed with a particular set of example inputs.\n",
    "\n",
    "**Weaknesses:**\n",
    "- **Compatibility**: Not all Python code is directly convertible to TorchScript via scripting. Certain Python features, especially those involving dynamic typing or reflection, might not be supported.\n",
    "- **Complexity**: Understanding errors and debugging the scripted code can be more challenging due to the static analysis and the need to adhere strictly to TorchScript's supported features.\n",
    "\n",
    "To solidify your understanding of TorchScript scripting, you'll convert functions to TorchScript using scripting, observe their behavior, and identify both the strengths and limitations of scripting.\n",
    "\n",
    "\n",
    "> **Task: Convert the previously defined `add_ten` and `conditional_add` functions to TorchScript using torch.jit.script.** Refer to the [torch.jit.script documentation](https://pytorch.org/docs/stable/generated/torch.jit.script.html#torch.jit.script) for more details on the parameters required.\n",
    "\n",
    "\n",
    "<details>\n",
    "<summary>Solution (click to reveal)</summary>\n",
    "\n",
    "Unlike tracing, scripting does not require an example input. Scripting analyzes the code to capture control flows and the overall logic.\n",
    "\n",
    "```python\n",
    "# Apply scripting\n",
    "scripted_add_ten = torch.jit.script(add_ten)\n",
    "scripted_conditional_add = torch.jit.script(conditional_add)\n",
    "```\n",
    "</details>"
   ]
  },
  {
   "cell_type": "code",
   "execution_count": 12,
   "id": "d8b840bf-e563-4262-8c47-6022264ceac7",
   "metadata": {
    "tags": []
   },
   "outputs": [],
   "source": [
    "import torch\n",
    "scripted_add_ten = torch.jit.script(add_ten)\n",
    "scripted_conditional_add = torch.jit.script(conditional_add)"
   ]
  },
  {
   "cell_type": "markdown",
   "id": "44e3e2e6-3e43-4b71-adbc-60a23f75494e",
   "metadata": {},
   "source": [
    "\n",
    "> **Task: Test and Analyze Scripted Functions** with different inputs. Observe how the scripted versions handle different scenarios compared to their traced counterparts, especially for `conditional_add`.\n",
    "\n",
    "<details>\n",
    "<summary>Solution (click to reveal)</summary>\n",
    "\n",
    "```\n",
    "Scripted 'conditional_add' with input less than 10: tensor(15)\n",
    "Scripted 'conditional_add' with input greater than 10: tensor(115)\n",
    "```\n",
    "    \n",
    "Testing the scripted functions with various inputs demonstrates that they accurately reflect the original Python logic, producing correct results for all scenarios, unlike their traced counterparts which may not capture dynamic behaviors effectively.\n",
    "\n",
    "</details>"
   ]
  },
  {
   "cell_type": "code",
   "execution_count": 13,
   "id": "32180e98-59eb-4e60-ae1a-549acc41c2d8",
   "metadata": {
    "tags": []
   },
   "outputs": [
    {
     "name": "stdout",
     "output_type": "stream",
     "text": [
      "Scripted 'conditional_add' with input less than 10: tensor(15)\n",
      "Scripted 'conditional_add' with input greater than 10: tensor(115)\n"
     ]
    }
   ],
   "source": [
    "print(\"Scripted 'conditional_add' with input less than 10:\", scripted_conditional_add(torch.tensor(5)))\n",
    "print(\"Scripted 'conditional_add' with input greater than 10:\", scripted_conditional_add(torch.tensor(15)))"
   ]
  },
  {
   "cell_type": "markdown",
   "id": "8a11df0e-59fc-44a3-94fc-a3c398401794",
   "metadata": {
    "tags": []
   },
   "source": [
    "> **Task: Compare the Graphs for `add_ten` and `conditional_add` Scripting** generated using the `.graph` attribute of the scripted objects. This attribute provides a textual representation of the operations and tensors within the scripted function, showcasing the flow of data and the operations applied. Reflect on scripting's ability to accurately represent the original Python function, regardless of input variability. Contrast this with your observations from tracing, particularly for the `conditional_add` function.\n",
    "\n",
    "<details>\n",
    "<summary>Solution (click to reveal)</summary>\n",
    "    \n",
    "The `.graph` attribute of the scripted `add_ten` and `conditional_add` functions reveals TorchScript's ability to closely mirror the original Python code's logic. Unlike tracing, scripting captures conditional branches and dynamic behaviors accurately, ensuring the scripted functions behave as intended across different inputs. This direct representation highlights scripting's superiority in handling complex, input-dependent logic, a stark contrast to the limitations observed with tracing.\n",
    "\n",
    "```\n",
    "Graph for 'add_ten':\n",
    " graph(%x.1 : Tensor):\n",
    "  %3 : int = prim::Constant[value=1]()\n",
    "  %2 : int = prim::Constant[value=10]() # /tmp/ipykernel_3336442/1385163837.py:5:15\n",
    "  %4 : Tensor = aten::add(%x.1, %2, %3) # /tmp/ipykernel_3336442/1385163837.py:5:11\n",
    "  return (%4)\n",
    "\n",
    "\n",
    "Graph for 'conditional_add':\n",
    " graph(%x.1 : Tensor):\n",
    "  %7 : int = prim::Constant[value=1]()\n",
    "  %2 : int = prim::Constant[value=10]() # /tmp/ipykernel_3336442/1385163837.py:8:11\n",
    "  %11 : int = prim::Constant[value=100]() # /tmp/ipykernel_3336442/1385163837.py:11:16\n",
    "  %3 : Tensor = aten::lt(%x.1, %2) # /tmp/ipykernel_3336442/1385163837.py:8:7\n",
    "  %5 : bool = aten::Bool(%3) # /tmp/ipykernel_3336442/1385163837.py:8:7\n",
    "  %x : Tensor = prim::If(%5) # /tmp/ipykernel_3336442/1385163837.py:8:4\n",
    "    block0():\n",
    "      %x.7 : Tensor = aten::add(%x.1, %2, %7) # /tmp/ipykernel_3336442/1385163837.py:9:12\n",
    "      -> (%x.7)\n",
    "    block1():\n",
    "      %x.13 : Tensor = aten::add(%x.1, %11, %7) # /tmp/ipykernel_3336442/1385163837.py:11:12\n",
    "      -> (%x.13)\n",
    "  return (%x)\n",
    "```\n",
    "    \n",
    "</details>"
   ]
  },
  {
   "cell_type": "code",
   "execution_count": 14,
   "id": "edc84b2a-cd97-4602-92c5-dcf04552e6a6",
   "metadata": {},
   "outputs": [
    {
     "name": "stdout",
     "output_type": "stream",
     "text": [
      "Graph for 'add_ten':\n",
      " graph(%x.1 : Tensor):\n",
      "  %3 : int = prim::Constant[value=1]()\n",
      "  %2 : int = prim::Constant[value=10]() # /tmp/xpython_7405/1385163837.py:5:15\n",
      "  %4 : Tensor = aten::add(%x.1, %2, %3) # /tmp/xpython_7405/1385163837.py:5:11\n",
      "  return (%4)\n",
      "\n",
      "\n",
      "Graph for 'conditional_add':\n",
      " graph(%x.1 : Tensor):\n",
      "  %7 : int = prim::Constant[value=1]()\n",
      "  %2 : int = prim::Constant[value=10]() # /tmp/xpython_7405/1385163837.py:8:11\n",
      "  %11 : int = prim::Constant[value=100]() # /tmp/xpython_7405/1385163837.py:11:16\n",
      "  %3 : Tensor = aten::lt(%x.1, %2) # /tmp/xpython_7405/1385163837.py:8:7\n",
      "  %5 : bool = aten::Bool(%3) # /tmp/xpython_7405/1385163837.py:8:7\n",
      "  %x : Tensor = prim::If(%5) # /tmp/xpython_7405/1385163837.py:8:4\n",
      "    block0():\n",
      "      %x.7 : Tensor = aten::add(%x.1, %2, %7) # /tmp/xpython_7405/1385163837.py:9:12\n",
      "      -> (%x.7)\n",
      "    block1():\n",
      "      %x.13 : Tensor = aten::add(%x.1, %11, %7) # /tmp/xpython_7405/1385163837.py:11:12\n",
      "      -> (%x.13)\n",
      "  return (%x)\n",
      "\n"
     ]
    }
   ],
   "source": [
    "print(\"Graph for 'add_ten':\\n\", scripted_add_ten.graph)\n",
    "print(\"\\nGraph for 'conditional_add':\\n\", scripted_conditional_add.graph)"
   ]
  },
  {
   "cell_type": "markdown",
   "id": "0c680a03-6bf6-430d-929c-185c64b494a9",
   "metadata": {
    "tags": []
   },
   "source": [
    "### Applying TorchScript to a Model: ResNet50 Example\n"
   ]
  },
  {
   "cell_type": "markdown",
   "id": "38adb43a-60cb-43a4-8ec0-334500c3df71",
   "metadata": {
    "tags": []
   },
   "source": [
    "\n",
    "Applying TorchScript's tracing and scripting to ResNet50, a widely-used model for image classification, demonstrates its effectiveness in optimizing deep learning models for production. \n",
    "\n",
    "This example highlights how TorchScript prepares complex models for efficient deployment, showcasing its utility in real-world applications.\n",
    "\n",
    "\n",
    "> **Task: Convert the ResNet50 model to TorchScript using scripting (`torch.jit.script`) or tracing (`torch.jit.trace`).** We then perform inference with a dummy input to verify the model's functionality and speed.\n",
    "\n",
    "\n",
    "<details>\n",
    "<summary>Solution (click to reveal)</summary>\n",
    "\n",
    "Tracing requires an example input and might not capture the model's full behavior, but it can be faster for straightforward models without dynamic control flows.    \n",
    "      \n",
    "Unlike tracing, scripting does not require an example input and provides a comprehensive conversion capturing the model's control flows, making it generally preferred for complex models.\n",
    "\n",
    "```python\n",
    "# For scripting:\n",
    "torchscript_model = torch.jit.script(model)\n",
    "\n",
    "# OR for tracing:\n",
    "torchscript_model = torch.jit.trace(model, input_tensor)\n",
    "```\n",
    "After testing the scripted model, you'll notice it behaves identically to the original pre-trained ResNet50 model, demonstrating TorchScript's effectiveness in preserving the model's functionality. This process not only makes the model portable but also optimizes its performance, particularly in environments where Python is not available or when leveraging specialized hardware accelerators.\n",
    "You could get performance like this using a gpu and `scripting`\n",
    "\n",
    "```\n",
    "Original model output (first 5 scores): [ 0.38384837  0.803145   -0.7964321   0.42339647  0.56345093]\n",
    "TorchScript model output (first 5 scores): [ 0.38384837  0.803145   -0.7964321   0.42339647  0.56345093]\n",
    "Mean Original model inference time: 0.075557 seconds\n",
    "Mean TorchScript model inference time: 0.023330 seconds\n",
    "Mean Performance Gain: 3.24x faster with compiled version    \n",
    "```    \n",
    "</details>"
   ]
  },
  {
   "cell_type": "code",
   "execution_count": 31,
   "id": "5bd3aea0-21fb-4bbd-858f-498573380a16",
   "metadata": {
    "tags": []
   },
   "outputs": [
    {
     "name": "stdout",
     "output_type": "stream",
     "text": [
      "Overwriting generated_files/resnet_torchscript.py\n"
     ]
    }
   ],
   "source": [
    "%%writefile generated_files/resnet_torchscript.py\n",
    "import torch\n",
    "import torchvision.models as models\n",
    "import time\n",
    "from utils import todo\n",
    "\n",
    "start = torch.cuda.Event(enable_timing=True)\n",
    "end = torch.cuda.Event(enable_timing=True)\n",
    "\n",
    "\n",
    "# Define device\n",
    "device = torch.device(\"cuda\" if torch.cuda.is_available() else \"cpu\")\n",
    "\n",
    "# Create a dummy input tensor for inference and move it to the defined device\n",
    "input_tensor = torch.rand(1, 3, 224, 224).to(device, non_blocking=True)\n",
    "\n",
    "# Load a pre-trained ResNet50 model\n",
    "model = models.resnet50(pretrained=False).to(device)\n",
    "\n",
    "# Convert to TorchScript via scripting or tracing\n",
    "#torchscript_model = torch.jit.trace(model, input_tensor)\n",
    "torchscript_model = torch.jit.script(model)\n",
    "\n",
    "nbr_iter = 100\n",
    "\n",
    "# Time inference for the original model\n",
    "start.record()\n",
    "for _ in range(nbr_iter):\n",
    "    original_output = model(input_tensor)\n",
    "end.record()\n",
    "torch.cuda.synchronize()\n",
    "mean_original_inference_time = start.elapsed_time(end)/nbr_iter/10\n",
    "\n",
    "\n",
    "# Time inference for the TorchScript model\n",
    "start.record()\n",
    "for _ in range(nbr_iter):\n",
    "    scripted_output = torchscript_model(input_tensor)\n",
    "end.record()\n",
    "torch.cuda.synchronize()\n",
    "mean_scripted_inference_time = start.elapsed_time(end)/nbr_iter/10\n",
    "\n",
    "\n",
    "# Compare the outputs for consistency (example by checking the first 5 scores)\n",
    "print(\"Original model output (first 5 scores):\", original_output[0][:5].detach().cpu().numpy())\n",
    "print(\"TorchScript model output (first 5 scores):\", scripted_output[0][:5].detach().cpu().numpy())\n",
    "\n",
    "# Compare the performance\n",
    "mean_performance_gain = mean_original_inference_time / mean_scripted_inference_time\n",
    "print(f\"Mean Original model inference time: {mean_original_inference_time:.6f} seconds\")\n",
    "print(f\"Mean TorchScript model inference time: {mean_scripted_inference_time:.6f} seconds\")\n",
    "print(f\"Mean Performance Gain: {mean_performance_gain:.2f}x faster with compiled version\")\n"
   ]
  },
  {
   "cell_type": "code",
   "execution_count": 32,
   "id": "1b9a4574-c633-4a4e-81f1-5b6736a3be2d",
   "metadata": {
    "tags": []
   },
   "outputs": [
    {
     "name": "stdout",
     "output_type": "stream",
     "text": [
      "batch job 0: 1 GPUs distributed on 1 nodes with 1 tasks / 1 gpus per node and 8 cpus per task\n",
      "Submitted batch job 391334\n",
      "jobid = ['391334']\n"
     ]
    }
   ],
   "source": [
    "command = f'generated_files/resnet_torchscript.py'\n",
    "jobid = gpu_jobs_submitter(command, n_gpu=1, module=MODULE, name=name,\n",
    "                    account=account, time_max='00:10:00')\n",
    "print(f'jobid = {jobid}')\n",
    "#!python generated_files/resnet_torchscript.py"
   ]
  },
  {
   "cell_type": "code",
   "execution_count": 33,
   "id": "90d71d3f-599f-48c8-8968-08c4b11981ad",
   "metadata": {
    "tags": []
   },
   "outputs": [
    {
     "name": "stdout",
     "output_type": "stream",
     "text": [
      "             JOBID PARTITION     NAME     USER ST       TIME  NODES NODELIST(REASON)\n",
      "            391334    gpu_p5       kg  ssos023  R       0:12      1 jean-zay-iam05\n",
      "\n",
      " Done!\n"
     ]
    }
   ],
   "source": [
    "display_slurm_queue(name)"
   ]
  },
  {
   "cell_type": "code",
   "execution_count": 34,
   "id": "96ceb50f-1c41-458f-850f-d117884520a6",
   "metadata": {
    "tags": []
   },
   "outputs": [
    {
     "name": "stdout",
     "output_type": "stream",
     "text": [
      "\n",
      "Out file:\n",
      "\n",
      "Original model output (first 5 scores): [ 0.35964632  1.0050862   0.08104255 -0.02321289  0.675766  ]\n",
      "TorchScript model output (first 5 scores): [ 0.35964632  1.0050862   0.08104255 -0.02321289  0.675766  ]\n",
      "Mean Original model inference time: 1.173138 seconds\n",
      "Mean TorchScript model inference time: 0.610578 seconds\n",
      "Mean Performance Gain: 1.92x faster with compiled version\n",
      "Fri Oct 25 02:25:06 PM CEST 2024\n",
      "\n",
      "Error file:\n",
      "\n",
      "Loading cpuarch/amd\n",
      "  WARNING: Using \"module load cpuarch/amd\" is deprecated,\n",
      "    use \"module load arch/a100\" instead.\n",
      "Loading pytorch-gpu/py3/2.1.1\n",
      "  Loading requirement: cuda/11.8.0 nccl/2.18.5-1-cuda cudnn/8.7.0.84-cuda\n",
      "    gcc/8.5.0 openmpi/4.1.5-cuda intel-mkl/2020.4 magma/2.7.1-cuda sox/14.4.2\n",
      "    sparsehash/2.0.3 libjpeg-turbo/2.1.3 ffmpeg/4.4.4\n",
      "+ srun python -u generated_files/resnet_torchscript.py\n",
      "/gpfslocalsup/pub/anaconda-py3/2023.09/envs/pytorch-gpu-2.1.1+py3.11.5/lib/python3.11/site-packages/torchvision-0.16.1+fdea156-py3.11-linux-x86_64.egg/torchvision/models/_utils.py:208: UserWarning: The parameter 'pretrained' is deprecated since 0.13 and may be removed in the future, please use 'weights' instead.\n",
      "  warnings.warn(\n",
      "/gpfslocalsup/pub/anaconda-py3/2023.09/envs/pytorch-gpu-2.1.1+py3.11.5/lib/python3.11/site-packages/torchvision-0.16.1+fdea156-py3.11-linux-x86_64.egg/torchvision/models/_utils.py:223: UserWarning: Arguments other than a weight enum or `None` for 'weights' are deprecated since 0.13 and may be removed in the future. The current behavior is equivalent to passing `weights=None`.\n",
      "  warnings.warn(msg)\n",
      "\n",
      "real\t0m11.534s\n",
      "user\t0m0.005s\n",
      "sys\t0m0.014s\n",
      "+ date\n"
     ]
    }
   ],
   "source": [
    "print(\"\\nOut file:\\n\")\n",
    "%cat {search_log(contains=jobid[0], with_err=True)['stdout'][0]}\n",
    "print(\"\\nError file:\\n\")\n",
    "%cat {search_log(contains=jobid[0], with_err=True)['stderr'][0]}"
   ]
  },
  {
   "cell_type": "markdown",
   "id": "607695ea-81ce-4f8e-a4d4-23d946132937",
   "metadata": {
    "tags": []
   },
   "source": [
    "### Running TorchScript Models in C++\n"
   ]
  },
  {
   "cell_type": "markdown",
   "id": "cd9be0c5-151d-4496-ba5c-e001e1cf4ae5",
   "metadata": {
    "jp-MarkdownHeadingCollapsed": true,
    "tags": []
   },
   "source": [
    "\n",
    "Exporting a model with TorchScript not only optimizes it for production but also makes it accessible for inference within a C++ environment. This capability is particularly valuable for deploying deep learning models in performance-critical and resource-constrained settings where Python may not be available.\n",
    "\n",
    "#### Loading and Using TorchScript Models in C++\n",
    "\n",
    "To use a TorchScript-exported model in C++, you need to load the model using the TorchScript C++ API. The following code snippet provides an example of how this can be achieved:\n",
    "\n",
    "```cpp\n",
    "#include <torch/script.h> // One-stop header.\n",
    "#include <iostream>\n",
    "#include <memory>\n",
    "\n",
    "int main() {\n",
    "    // Load the scripted model\n",
    "    auto model = torch::jit::load(\"resnet50_ts.pt\");\n",
    "\n",
    "    // Create a dummy input tensor\n",
    "    auto input = torch::rand({1, 3, 224, 224});\n",
    "\n",
    "    // Perform inference\n",
    "    at::Tensor output = model.forward({input}).toTensor();\n",
    "\n",
    "    // Print the top 5 predictions\n",
    "    std::cout << output.slice(/*dim=*/1, /*start=*/0, /*end=*/5) << '\\n';\n",
    "}\n",
    "```\n",
    "\n",
    "This C++ code snippet demonstrates loading a TorchScript model (e.g., `resnet50_ts.pt`), preparing input data, and performing inference. Note that this example assumes the presence of a model file `resnet50_ts.pt`, which should be generated from the Python environment as shown in previous sections.\n",
    "\n",
    "#### Documentation and Resources\n",
    "\n",
    "For a comprehensive guide on integrating TorchScript models into C++ applications, the following resources are invaluable:\n",
    "\n",
    "- **PyTorch C++ API**: Explore the detailed [PyTorch C++ API documentation](https://pytorch.org/cppdocs/) for a deeper understanding of using TorchScript models in C++.\n",
    "- **Loading a TorchScript Model in C++**: For more specifics on loading and running models, refer to the [Loading a TorchScript Model](https://pytorch.org/tutorials/advanced/cpp_export.html) tutorial.\n",
    "- **LibTorch**: The PyTorch C++ library, known as LibTorch, is essential for C++ integration and can be downloaded from the [PyTorch website](https://pytorch.org/get-started/locally/).\n",
    "\n",
    "By leveraging TorchScript, you can efficiently bridge Python-based model training with C++ based model deployment, enhancing the portability and scalability of deep learning applications.\n"
   ]
  },
  {
   "cell_type": "markdown",
   "id": "e608d4c4-e4fe-474c-b1c5-8366dc672ed0",
   "metadata": {
    "tags": []
   },
   "source": [
    "### Conclusion on TorchScript\n",
    "\n"
   ]
  },
  {
   "cell_type": "markdown",
   "id": "2aa64616-0b7d-4111-a93f-33abe732c3ca",
   "metadata": {},
   "source": [
    "TorchScript bridges the gap between PyTorch research and production, allowing for model serialization and optimized execution in non-Python environments. It's ideal for deploying stable models across various platforms, offering improved inference speed.\n",
    "\n",
    "**Use Cases:**\n",
    "- Deploying models without Python dependency.\n",
    "- Serializing models for consistent deployment.\n",
    "\n",
    "**Limitations:**\n",
    "- Struggles with highly dynamic models due to static computation graphs.\n",
    "- Limited capture of Python's dynamic features.\n",
    "\n",
    "While TorchScript enhances model portability and performance, its limitations with dynamic models highlight the need for more adaptive solutions. Enter `torch.compile()`, PyTorch's answer to achieving hardware-specific optimizations, marking a significant advancement in model deployment and optimization strategies."
   ]
  },
  {
   "cell_type": "markdown",
   "id": "0d3bcb06-77fd-434a-a637-60674b1a841a",
   "metadata": {
    "tags": []
   },
   "source": [
    "---\n",
    "---\n",
    "## **Torch.compile()**"
   ]
  },
  {
   "cell_type": "markdown",
   "id": "e8bc5f2a-ea13-43d4-8bbc-a69477abe356",
   "metadata": {
    "jp-MarkdownHeadingCollapsed": true,
    "tags": []
   },
   "source": [
    "### Introduction\n",
    "\n",
    "Torch Compile propels PyTorch forward by compiling Python into an optimized execution format, significantly enhancing performance, particularly during inference. It leverages TorchDynamo for dynamic graph capture and TorchInductor, the default backend compiler, to translate models into code that runs efficiently across a variety of hardware. This synergy between Python's simplicity and the efficiency of compiled languages optimizes model execution without sacrificing PyTorch's ease of use.\n",
    "\n",
    "### Operational Mechanism\n",
    "\n",
    "- **TorchDynamo**: Acts as an on-the-fly Python bytecode interpreter, capturing the execution graph of models dynamically at runtime.\n",
    "- **TorchInductor**: Serves as the primary backend, converting the graph into optimized code suitable for multiple accelerators, ensuring flexibility and broad compatibility.\n",
    "\n",
    "### Core Features and Backend Diversity\n",
    "\n",
    "- **Enhanced Performance**: Dramatically reduces execution times across training and inference phases, optimizing models for speed.\n",
    "- **Backend Flexibility**: Offers a range of backends tailored for specific phases—TorchInductor and cudagraphs for training, with the latter optimized for static batch sizes, and TensorRT and OpenVINO for inference, focusing on high-speed execution.\n",
    "- **Dynamic Code Optimization**: Efficiently manages dynamic Python code, including models with conditional logic or variable input sizes, ensuring comprehensive optimization.\n",
    "\n",
    "Torch Compile marks a significant leap in enhancing PyTorch's execution speed, flexibility, and efficiency. It introduces a seamless pathway for model optimization, catering to diverse computational needs and hardware environments, thus broadening the scope of PyTorch's applicability and performance capabilities."
   ]
  },
  {
   "cell_type": "markdown",
   "id": "6bb19e96-673e-445f-854c-5f93ca2c57ee",
   "metadata": {
    "tags": []
   },
   "source": [
    "### Utilizing Torch Compile for Dynamic Python Code\n",
    "\n",
    "Torch Compile significantly enhances PyTorch model performance by adeptly handling dynamic Python code, including conditional statements and loops, optimizing models that exhibit dynamic behavior due to varying inputs or internal states.\n",
    "\n",
    "> **Task: Optimize a dynamically behaving function with Torch Compile.** Use `torch.compile` on the `conditional_add` function, which alters its output based on the input value, to showcase Torch Compile's capability in handling dynamic Python code. For more details on using `torch.compile`, refer to the [official documentation](https://pytorch.org/docs/stable/torch.compiler.html).\n",
    "\n",
    "<details>\n",
    "<summary>Solution (click to reveal)</summary>\n",
    "\n",
    "```python\n",
    "import torch\n",
    "\n",
    "# Define the conditional add function\n",
    "def conditional_add(x):\n",
    "    return x + 10 if x < 10 else x + 100\n",
    "\n",
    "# Apply Torch Compile with a specified backend\n",
    "compiled_conditional_add = torch.compile(conditional_add, backend='cudagraphs')  # or try 'inductor' with various modes as an alternative\n",
    "\n",
    "# Test the compiled function\n",
    "print(compiled_conditional_add(torch.tensor(5)))  # Expected output: 15\n",
    "print(compiled_conditional_add(torch.tensor(15))) # Expected output: 115\n",
    "```\n",
    "</details>\n",
    "\n",
    "This example underscores Torch Compile's capability to adeptly manage conditional logic and complex control flows within Python functions, optimizing models with dynamic behaviors. It suggests selecting a backend like 'inductor' or 'cudagraphs' for specific optimizations and exploring the \"mode\" parameter, primarily compatible with the 'inductor' backend, to further tailor optimizations to your model's needs and hardware configurations."
   ]
  },
  {
   "cell_type": "code",
   "execution_count": 35,
   "id": "d8ab69c0-72a0-449f-b357-80e1ac280dfb",
   "metadata": {
    "tags": []
   },
   "outputs": [
    {
     "name": "stdout",
     "output_type": "stream",
     "text": [
      "tensor(15)\n"
     ]
    },
    {
     "name": "stderr",
     "output_type": "stream",
     "text": [
      "No CUDA runtime is found, using CUDA_HOME='/gpfslocalsys/cuda/12.2.0'\n"
     ]
    },
    {
     "name": "stdout",
     "output_type": "stream",
     "text": [
      "tensor(115)\n"
     ]
    }
   ],
   "source": [
    "import torch\n",
    "torch._dynamo.reset()\n",
    "# Define the conditional add function\n",
    "def conditional_add(x):\n",
    "    if x < 10:\n",
    "        return x + 10\n",
    "    else:\n",
    "        return x + 100\n",
    "\n",
    "# Apply Torch Compile\n",
    "compiled_conditional_add = torch.compile(conditional_add, backend='inductor')\n",
    "\n",
    "# Test the compiled function\n",
    "print(conditional_add(torch.tensor(5)))  # Expected output: 15\n",
    "print(compiled_conditional_add(torch.tensor(15)))  # Expected output: 115\n"
   ]
  },
  {
   "cell_type": "markdown",
   "id": "c0e07150-4398-4b90-aba8-4257cb872950",
   "metadata": {
    "tags": []
   },
   "source": [
    "### Wrapping NumPy Code to C++/CUDA with Torch Compile\n",
    "\n",
    "The `torch.compile` feature in PyTorch 2.1 enables the compilation of NumPy code into efficient, fused vectorized C++ or CUDA code without modifying the original scripts. This capability significantly enhances performance by utilizing PyTorch’s compiler backend, facilitating NumPy code execution on CUDA with minimal syntax changes.\n",
    "\n",
    "> **Task:** Optimize `kmeans` with `torch.compile` and compare CPU vs. GPU speeds. Set `device` to `cpu` or `cuda` to specify execution hardware. The `kmeans` function is commonly used in clustering algorithms to calculate the nearest cluster center for each point in a dataset.\n",
    "\n",
    "<details>\n",
    "<summary>Solution (click to reveal)</summary>\n",
    "\n",
    "```python\n",
    "import numpy as np\n",
    "import torch\n",
    "\n",
    "# Define the kmeans function\n",
    "def kmeans(X, means):\n",
    "    return np.argmin(np.linalg.norm(X - means[:, None], axis=2), axis=0)\n",
    "\n",
    "# Prepare synthetic dataset\n",
    "npts = 10_000_000\n",
    "X = np.repeat([[5, 5], [10, 10]], [npts, npts], axis=0)\n",
    "X = X + np.random.randn(*X.shape)  # Creating two distinct \"blobs\"\n",
    "means = np.array([[5, 5], [10, 10]])\n",
    "\n",
    "# Convert NumPy arrays to tensors\n",
    "X_tensor = torch.tensor(X)\n",
    "means_tensor = torch.tensor(means)\n",
    "\n",
    "# Set the device to CUDA if available, else CPU\n",
    "device = torch.device(\"cuda\" if torch.cuda.is_available() else \"cpu\")\n",
    "X_tensor = X_tensor.to(device)\n",
    "means_tensor = means_tensor.to(device)\n",
    "\n",
    "# Wrap the kmeans function with torch.compile for optimization\n",
    "compiled_kmeans = torch.compile(kmeans)\n",
    "\n",
    "# Execute the compiled function and measure performance\n",
    "compiled_pred = compiled_kmeans(X_tensor, means_tensor)\n",
    "```\n",
    "    \n",
    "</details>\n",
    "\n",
    "<details>\n",
    "<summary>Bonus Solution (click to reveal)</summary>\n",
    "\n",
    "**Bonus Solution for Full GPU Execution:**\n",
    "\n",
    "This approach fully leverages GPU for computation, showcasing massive performance gains (up to 4000x on an A100 GPU for the computing part). However, due to communication costs between CPU and GPU, the overall speedup might reduce (to about 10x). This solution is ideal when running on a GPU.\n",
    "\n",
    "```python\n",
    "import numpy as np\n",
    "import torch\n",
    "\n",
    "# Kmeans function\n",
    "def kmeans(X, means):\n",
    "    return np.argmin(np.linalg.norm(X - means[:, None], axis=2), axis=0)\n",
    "\n",
    "@torch.compile\n",
    "def tensor_fn(X, means):\n",
    "    X, means = X.numpy(), means.numpy()\n",
    "    ret = kmeans(X, means)\n",
    "    return torch.from_numpy(ret)\n",
    "\n",
    "def compiled_kmeans(X, means):\n",
    "    with torch.device(\"cuda\"):\n",
    "        return tensor_fn(X, means)\n",
    "\n",
    "# Set the device to CUDA if available, else CPU\n",
    "device = torch.device(\"cuda\" if torch.cuda.is_available() else \"cpu\")\n",
    "\n",
    "# Prepare synthetic dataset and convert to tensors on the GPU\n",
    "X_tensor = torch.tensor(X).to(device)\n",
    "means_tensor = torch.tensor(means).to(device)\n",
    "\n",
    "# Execute the function fully on GPU and observe massive performance gains\n",
    "cuda_result = compiled_kmeans(X_tensor, means_tensor)\n",
    "```\n",
    "\n",
    "</details>\n",
    "\n",
    "\n",
    "> **Task:** Observe the performance evaluation code and note any differences in execution time between the first run and subsequent runs. Notice also the behavior differences in function of the `device` and the `backend`.\n",
    "\n",
    "<details>\n",
    "<summary>Solution (click to reveal)</summary>\n",
    "\n",
    "You will likely notice that the first run takes longer than the following ones. This behavior is attributed to the initial compilation process that `torch.compile` undergoes during the first execution. Once the code is compiled, PyTorch caches the optimized version, leading to faster execution times in subsequent runs as it bypasses the compilation step and directly executes the optimized code.\n",
    "With the backend inductor, you could achieve with 1 A100 and  such performances :\n",
    "```\n",
    "On GPU (A100) :\n",
    "First Run Compiled Time: 7.7172 seconds\n",
    "Original Execution Time: 1.7764 seconds\n",
    "Mean Compiled Execution Time: 0.0237 seconds\n",
    "Performance Gain: 74.85x faster with compiled version\n",
    "\n",
    "On CPU (8 cores):\n",
    "First Run Compiled Time: 26.3685 seconds\n",
    "Original Execution Time: 1.7909 seconds\n",
    "Mean Compiled Execution Time: 0.0182 seconds\n",
    "Performance Gain: 98.67x faster with compiled version\n",
    "```\n",
    "</details>"
   ]
  },
  {
   "cell_type": "code",
   "execution_count": 46,
   "id": "142ca1f9-ca82-440f-bf8a-ede91bdce108",
   "metadata": {
    "tags": []
   },
   "outputs": [
    {
     "name": "stdout",
     "output_type": "stream",
     "text": [
      "Overwriting generated_files/compile_numpy.py\n"
     ]
    }
   ],
   "source": [
    "%%writefile generated_files/compile_numpy.py\n",
    "\n",
    "import numpy as np\n",
    "import torch\n",
    "import time\n",
    "import sys, os\n",
    "sys.path.append(os.path.dirname(os.path.dirname(__file__)))\n",
    "from utils import todo\n",
    "\n",
    "\n",
    "start = torch.cuda.Event(enable_timing=True)\n",
    "end = torch.cuda.Event(enable_timing=True)\n",
    "\n",
    "\n",
    "torch._dynamo.reset()\n",
    "\n",
    "# Kmeans function\n",
    "def kmeans(X, means):\n",
    "    return np.argmin(np.linalg.norm(X - means[:, None], axis=2), axis=0)\n",
    "\n",
    "# Prepare synthetic dataset\n",
    "npts = 10_000_000\n",
    "X = np.repeat([[5, 5], [10, 10]], [npts, npts], axis=0)\n",
    "X = X + np.random.randn(*X.shape)  # Creating two distinct \"blobs\"\n",
    "means = np.array([[5, 5], [10, 10]])\n",
    "\n",
    "# Set the device to CUDA if available, else CPU\n",
    "device = torch.device(\"cuda\" if torch.cuda.is_available() else \"cpu\")\n",
    "\n",
    "# Convert NumPy arrays to tensors on device\n",
    "X_tensor = torch.tensor(X).to(device)\n",
    "means_tensor = torch.tensor(means).to(device)\n",
    "\n",
    "# Wrap the kmeans function with torch.compile for optimization\n",
    "compiled_kmeans = torch.compile(kmeans, backend='inductor')\n",
    "\n",
    "# Performance evaluation \n",
    "nbr_iter = 10\n",
    "\n",
    "# Execute a first time the compiled function and measure performance\n",
    "start.record()\n",
    "_ = compiled_kmeans(X_tensor, means_tensor)\n",
    "end.record()\n",
    "torch.cuda.synchronize()\n",
    "first_run_compiled_time = start.elapsed_time(end)/nbr_iter/10\n",
    "print(f\"First Run Compiled Time: {first_run_compiled_time:.4f} seconds\")\n",
    "\n",
    "# Original kmeans function execution\n",
    "start.record()\n",
    "for _ in range(nbr_iter):\n",
    "    original_pred = kmeans(X, means)\n",
    "end.record()\n",
    "torch.cuda.synchronize()\n",
    "mean_original_execution_time = start.elapsed_time(end)/nbr_iter/10\n",
    "print(f\"Original Execution Time: {mean_original_execution_time:.4f} seconds\")\n",
    "\n",
    "# Compiled kmeans function execution\n",
    "start.record()\n",
    "for _ in range(nbr_iter):\n",
    "    compiled_pred = compiled_kmeans(X_tensor, means_tensor)\n",
    "end.record()\n",
    "torch.cuda.synchronize()\n",
    "mean_compiled_execution_time = start.elapsed_time(end)/nbr_iter/10\n",
    "print(f\"Mean Compiled Execution Time: {mean_compiled_execution_time:.4f} seconds\")\n",
    "\n",
    "# Compare the performance\n",
    "performance_gain = mean_original_execution_time / mean_compiled_execution_time\n",
    "print(f\"Performance Gain: {performance_gain:.2f}x faster with compiled version\")"
   ]
  },
  {
   "cell_type": "code",
   "execution_count": 47,
   "id": "4945ac5b-cdb7-4271-9697-1ef7b7995d8b",
   "metadata": {
    "tags": []
   },
   "outputs": [
    {
     "name": "stdout",
     "output_type": "stream",
     "text": [
      "batch job 0: 1 GPUs distributed on 1 nodes with 1 tasks / 1 gpus per node and 8 cpus per task\n",
      "Submitted batch job 391449\n",
      "jobid = ['391449']\n"
     ]
    }
   ],
   "source": [
    "command = f'./generated_files/compile_numpy.py'\n",
    "jobid = gpu_jobs_submitter(command, n_gpu=1, module=MODULE, name=name,\n",
    "                    account=account, time_max='00:10:00')\n",
    "print(f'jobid = {jobid}')\n",
    "#!python {command}"
   ]
  },
  {
   "cell_type": "code",
   "execution_count": 48,
   "id": "08d33acc-76cb-45fd-a8fd-f7cfed7694e4",
   "metadata": {},
   "outputs": [
    {
     "name": "stdout",
     "output_type": "stream",
     "text": [
      "             JOBID PARTITION     NAME     USER ST       TIME  NODES NODELIST(REASON)\n",
      "            391449    gpu_p5       kg  ssos023 CG       0:37      1 jean-zay-iam02\n",
      "\n",
      " Done!\n"
     ]
    }
   ],
   "source": [
    "display_slurm_queue(name)"
   ]
  },
  {
   "cell_type": "code",
   "execution_count": 49,
   "id": "a5809bfb-a9b2-4204-b8af-dfe2ab2da549",
   "metadata": {
    "tags": []
   },
   "outputs": [
    {
     "name": "stdout",
     "output_type": "stream",
     "text": [
      "\n",
      "Out file:\n",
      "\n",
      "First Run Compiled Time: 51.2807 seconds\n",
      "Original Execution Time: 175.5729 seconds\n",
      "Mean Compiled Execution Time: 2.1751 seconds\n",
      "Performance Gain: 80.72x faster with compiled version\n",
      "Fri Oct 25 02:39:16 PM CEST 2024\n",
      "\n",
      "Error file:\n",
      "\n",
      "Loading cpuarch/amd\n",
      "  WARNING: Using \"module load cpuarch/amd\" is deprecated,\n",
      "    use \"module load arch/a100\" instead.\n",
      "Loading pytorch-gpu/py3/2.1.1\n",
      "  Loading requirement: cuda/11.8.0 nccl/2.18.5-1-cuda cudnn/8.7.0.84-cuda\n",
      "    gcc/8.5.0 openmpi/4.1.5-cuda intel-mkl/2020.4 magma/2.7.1-cuda sox/14.4.2\n",
      "    sparsehash/2.0.3 libjpeg-turbo/2.1.3 ffmpeg/4.4.4\n",
      "+ srun python -u ./generated_files/compile_numpy.py\n",
      "\n",
      "real\t0m31.967s\n",
      "user\t0m0.004s\n",
      "sys\t0m0.013s\n",
      "+ date\n"
     ]
    }
   ],
   "source": [
    "print(\"\\nOut file:\\n\")\n",
    "%cat {search_log(contains=jobid[0], with_err=True)['stdout'][0]}\n",
    "print(\"\\nError file:\\n\")\n",
    "%cat {search_log(contains=jobid[0], with_err=True)['stderr'][0]}"
   ]
  },
  {
   "attachments": {},
   "cell_type": "markdown",
   "id": "95c9c0fa-644e-4681-b35a-14fa1374ea4d",
   "metadata": {
    "tags": []
   },
   "source": [
    "### Accelerating Model Training with Torch.compile\n",
    "\n",
    "Torch.compile's primary advantage lies in its ability to significantly boost the training efficiency of deep learning models. This powerful feature enables the use of optimized backends like 'cudagraphs' for GPU acceleration and 'inductor' for broad compatibility across CPUs and GPUs, streamlining the training process.\n",
    "\n",
    "To optimize your model's training with Torch.compile, simply wrap your model instance as demonstrated below:\n",
    "\n",
    "```python\n",
    "import torch\n",
    "from your_model import YourModel  # Replace with your actual model class\n",
    "\n",
    "# Initialize your model\n",
    "model_raw = YourModel()\n",
    "\n",
    "# Optimize with Torch.compile\n",
    "model = torch.compile(model_raw, backend='inductor')  # 'cudagraphs' is also an option for GPU optimization\n",
    "```\n",
    "\n",
    "The reference performance of the `train_pipeline.py` script without torch.compile() is : **1170**"
   ]
  },
  {
   "cell_type": "markdown",
   "id": "85ef3a2e-6806-41e9-aba7-dcb89fad178c",
   "metadata": {},
   "source": [
    ">**Task:** Modify the `train_pipeline.py` script, which outlines a standard training routine for a PyTorch model. In the model setup section, incorporate Torch.compile to enhance training efficiency. This adjustment is aimed at expediting training times and improving model performance across your hardware setup. After making the changes, return and run the code in the cell below to observe the improvements.\n",
    "\n",
    "<details>\n",
    "<summary>Solution (click to reveal)</summary>\n",
    "\n",
    "```python\n",
    "    model = torch.compile(model_raw, backend=\"inductor\")\n",
    "```\n",
    "You should achieve a throughput around 1300. As for now, on Jean Zay for this code, only the inductor backend will work with mode default or reduce-overhead.\n",
    "</details>"
   ]
  },
  {
   "cell_type": "code",
   "execution_count": 63,
   "id": "733d7302-b8a8-4f11-8bc2-776938aa2aa5",
   "metadata": {},
   "outputs": [
    {
     "name": "stdout",
     "output_type": "stream",
     "text": [
      "batch job 0: 1 GPUs distributed on 1 nodes with 1 tasks / 1 gpus per node and 8 cpus per task\n",
      "Submitted batch job 391945\n",
      "jobid = ['391945']\n"
     ]
    }
   ],
   "source": [
    "command = f'train_pipeline_solution.py -b 512 --image-size 224 --test'\n",
    "jobid = gpu_jobs_submitter(command, n_gpu=1, module=MODULE, name=name,\n",
    "                    account=account, time_max='00:10:00')\n",
    "print(f'jobid = {jobid}')"
   ]
  },
  {
   "cell_type": "markdown",
   "id": "13693154-9935-411d-ac18-5cf75cb0fb1a",
   "metadata": {},
   "source": [
    "Copier-coller la sortie `jobid = ['xxxxx']` dans la cellule suivante.\n",
    "\n",
    "Puis, rebasculer la cellule précédente en mode `Raw NBConvert`, afin d'éviter de relancer un job par erreur."
   ]
  },
  {
   "cell_type": "code",
   "execution_count": 64,
   "id": "88995d13-d999-4c14-a676-fd168685eee1",
   "metadata": {},
   "outputs": [
    {
     "name": "stdout",
     "output_type": "stream",
     "text": [
      "             JOBID PARTITION     NAME     USER ST       TIME  NODES NODELIST(REASON)\n",
      "            391945    gpu_p5       kg  ssos023 CG       4:11      1 jean-zay-iam05\n",
      "\n",
      " Done!\n"
     ]
    }
   ],
   "source": [
    "display_slurm_queue(name)"
   ]
  },
  {
   "cell_type": "code",
   "execution_count": 65,
   "id": "3052d886-2c6b-493b-b1c3-7c5c64dae1d2",
   "metadata": {
    "tags": []
   },
   "outputs": [
    {
     "name": "stdout",
     "output_type": "stream",
     "text": [
      "\n",
      "Out file:\n",
      "\n",
      ">>> Training on  1  nodes and  1  processes\n",
      "model: Resnet-152\n",
      "number of parameters: 60192808\n",
      "global batch size: 512 - mini batch size: 512\n",
      "Optimizer: SGD (\n",
      "Parameter Group 0\n",
      "    dampening: 0\n",
      "    differentiable: False\n",
      "    foreach: None\n",
      "    lr: 0.1\n",
      "    maximize: False\n",
      "    momentum: 0.9\n",
      "    nesterov: False\n",
      "    weight_decay: 0.0\n",
      ")\n",
      "DATALOADER 16 True True True 3 False \n",
      "image batch shape : torch.Size([512, 3, 224, 224])\n",
      ">>> Training complete in: 0:03:21.922387\n",
      ">>> Training performance time: min 0.3820149898529053 avg 0.38593101501464844 seconds (+/- 0.005637480747936325)\n",
      ">>> Loading performance time: min 0.00023984909057617188 avg 0.00041416713169642856 seconds (+/- 0.00026806241714163423)\n",
      ">>> Forward performance time: 0.09138905758760413 seconds (+/- 0.00042906958795130117)\n",
      ">>> Backward performance time: 0.29577454742120235 seconds (+/- 0.005662765865608085)\n",
      ">>> Peak Power during training: 409.824 W)\n",
      ">>> Validation time: 0:01:04.400617\n",
      ">>> Sortie trace #####################################\n",
      ">>>JSON {\"GPU process - Forward/Backward\": [106.84949469566345, 0.3820149898529053, 0.3823535442352295, 0.38201904296875, 0.409404993057251, 0.3828108310699463, 0.4004337787628174, 0.3855454921722412, 0.3858036994934082, 0.38541173934936523, 0.38542628288269043, 0.38637614250183105, 0.3859250545501709, 0.3853156566619873, 0.38518404960632324, 0.3851592540740967, 0.38540077209472656, 0.38609933853149414, 0.3861100673675537, 0.3849368095397949, 0.38556432723999023, 0.3860588073730469, 0.4055817127227783, 0.38622283935546875, 0.38584184646606445, 0.38593101501464844, 0.3856332302093506, 0.38533496856689453, 0.38626766204833984, 0.38590359687805176, 0.3859572410583496, 0.38556408882141113, 0.3865644931793213, 0.38628697395324707, 0.3860504627227783, 0.38620591163635254, 0.38571739196777344, 0.3855316638946533, 0.3857402801513672, 0.3859381675720215, 0.40664029121398926, 0.3859724998474121, 0.38634490966796875, 0.3860471248626709, 0.38680529594421387, 0.3868439197540283, 0.38547825813293457, 0.38669896125793457, 0.3865022659301758, 0.3874807357788086], \"CPU process - Dataloader\": [11.671828985214233, 0.00038242340087890625, 0.00024700164794921875, 0.0002837181091308594, 0.00026702880859375, 0.0002849102020263672, 0.0002574920654296875, 0.00023984909057617188, 0.0003037452697753906, 0.00031876564025878906, 0.0006973743438720703, 0.00034427642822265625, 0.00032401084899902344, 0.00032806396484375, 0.0003039836883544922, 0.0002980232238769531, 0.00033283233642578125, 0.0003235340118408203, 0.00036978721618652344, 0.00029778480529785156, 0.0003058910369873047, 0.0005633831024169922, 0.0003943443298339844, 0.00034308433532714844, 0.0008895397186279297, 0.0003132820129394531, 0.0006127357482910156, 0.0004456043243408203, 0.0009698867797851562, 0.0003314018249511719, 0.0003020763397216797, 0.0003204345703125, 0.0003325939178466797, 0.0013244152069091797, 0.00031828880310058594, 0.0003066062927246094, 0.00035500526428222656, 0.00031304359436035156, 0.0003418922424316406, 0.000370025634765625, 0.0003058910369873047, 0.00032639503479003906, 0.00038242340087890625, 0.0003185272216796875, 0.0003025531768798828, 0.0003712177276611328, 0.0002841949462890625, 0.0016789436340332031, 0.00032019615173339844, 0.0003457069396972656]}\n",
      ">>> Number of batch per epoch: 2503\n",
      "Max Memory Allocated 46975994880 Bytes\n",
      "Fri Oct 25 03:25:08 PM CEST 2024\n",
      "\n",
      "Error file:\n",
      "\n",
      "Loading cpuarch/amd\n",
      "  WARNING: Using \"module load cpuarch/amd\" is deprecated,\n",
      "    use \"module load arch/a100\" instead.\n",
      "Loading pytorch-gpu/py3/2.1.1\n",
      "  Loading requirement: cuda/11.8.0 nccl/2.18.5-1-cuda cudnn/8.7.0.84-cuda\n",
      "    gcc/8.5.0 openmpi/4.1.5-cuda intel-mkl/2020.4 magma/2.7.1-cuda sox/14.4.2\n",
      "    sparsehash/2.0.3 libjpeg-turbo/2.1.3 ffmpeg/4.4.4\n",
      "+ srun python -u train_pipeline_solution.py -b 512 --image-size 224 --test\n",
      "/gpfslocalsup/pub/anaconda-py3/2023.09/envs/pytorch-gpu-2.1.1+py3.11.5/lib/python3.11/site-packages/torch/utils/data/dataloader.py:557: UserWarning: This DataLoader will create 16 worker processes in total. Our suggested max number of worker in current system is 8, which is smaller than what this DataLoader is going to create. Please be aware that excessive worker creation might get DataLoader running slow or even freeze, lower the worker number to avoid potential slowness/freeze if necessary.\n",
      "  warnings.warn(_create_warning_msg(\n",
      "/gpfslocalsup/pub/anaconda-py3/2023.09/envs/pytorch-gpu-2.1.1+py3.11.5/lib/python3.11/site-packages/torch/utils/data/dataloader.py:557: UserWarning: This DataLoader will create 16 worker processes in total. Our suggested max number of worker in current system is 8, which is smaller than what this DataLoader is going to create. Please be aware that excessive worker creation might get DataLoader running slow or even freeze, lower the worker number to avoid potential slowness/freeze if necessary.\n",
      "  warnings.warn(_create_warning_msg(\n",
      "/gpfslocalsup/pub/anaconda-py3/2023.09/envs/pytorch-gpu-2.1.1+py3.11.5/lib/python3.11/site-packages/torch/optim/lr_scheduler.py:136: UserWarning: Detected call of `lr_scheduler.step()` before `optimizer.step()`. In PyTorch 1.1.0 and later, you should call them in the opposite order: `optimizer.step()` before `lr_scheduler.step()`.  Failure to do this will result in PyTorch skipping the first value of the learning rate schedule. See more details at https://pytorch.org/docs/stable/optim.html#how-to-adjust-learning-rate\n",
      "  warnings.warn(\"Detected call of `lr_scheduler.step()` before `optimizer.step()`. \"\n",
      "/gpfslocalsup/pub/anaconda-py3/2023.09/envs/pytorch-gpu-2.1.1+py3.11.5/lib/python3.11/site-packages/torch/utils/data/dataloader.py:557: UserWarning: This DataLoader will create 16 worker processes in total. Our suggested max number of worker in current system is 8, which is smaller than what this DataLoader is going to create. Please be aware that excessive worker creation might get DataLoader running slow or even freeze, lower the worker number to avoid potential slowness/freeze if necessary.\n",
      "  warnings.warn(_create_warning_msg(\n",
      "\n",
      "real\t4m6.320s\n",
      "user\t0m0.008s\n",
      "sys\t0m0.014s\n",
      "+ date\n"
     ]
    }
   ],
   "source": [
    "print(\"\\nOut file:\\n\")\n",
    "%cat {search_log(contains=jobid[0], with_err=True)['stdout'][0]}\n",
    "print(\"\\nError file:\\n\")\n",
    "%cat {search_log(contains=jobid[0], with_err=True)['stderr'][0]}"
   ]
  },
  {
   "cell_type": "code",
   "execution_count": 66,
   "id": "ba2b2c37-d03d-4277-a003-9add498588cd",
   "metadata": {},
   "outputs": [
    {
     "data": {
      "application/vnd.plotly.v1+json": {
       "config": {
        "plotlyServerURL": "https://plot.ly"
       },
       "data": [
        {
         "domain": {
          "x": [
           0,
           0.5
          ],
          "y": [
           0,
           1
          ]
         },
         "gauge": {
          "axis": {
           "range": [
            null,
            10000
           ]
          },
          "steps": [
           {
            "color": "lightgray",
            "range": [
             0,
             1200
            ]
           },
           {
            "color": "gray",
            "range": [
             1200,
             2800
            ]
           }
          ]
         },
         "mode": "gauge+number",
         "title": {
          "text": "Images/second"
         },
         "type": "indicator",
         "value": 1325.2397691504225
        }
       ],
       "layout": {
        "annotations": [
         {
          "align": "center",
          "font": {
           "size": 28
          },
          "showarrow": false,
          "text": "GPU : 1.33 k",
          "x": 0.25,
          "xanchor": "center",
          "y": 0.1
         },
         {
          "align": "center",
          "font": {
           "size": 24
          },
          "showarrow": false,
          "text": "1 GPU",
          "x": 0.6,
          "xanchor": "center",
          "y": 0.8
         },
         {
          "align": "center",
          "font": {
           "size": 20
          },
          "showarrow": false,
          "text": "kg@JZ_391945_1nodes_1tasks_2024-10-25_15",
          "x": 0.5,
          "xanchor": "center",
          "y": 1.2
         },
         {
          "align": "center",
          "font": {
           "size": 24
          },
          "showarrow": false,
          "text": "batch size: 512",
          "x": 0.9,
          "xanchor": "center",
          "y": 0.8
         },
         {
          "align": "left",
          "font": {
           "size": 16
          },
          "showarrow": false,
          "text": " SGD (\n<br>Parameter Group 0\n<br>    dampening: 0\n<br>    differentiable: False\n<br>    foreach: None\n<br>    lr: 0.1\n<br>    maximize: False\n<br>    momentum: 0.9\n<br>    nesterov: False\n<br>    weight_decay: 0.0\n<br>)\n<br>",
          "x": 0.85,
          "xanchor": "center",
          "y": 0
         },
         {
          "align": "center",
          "font": {
           "size": 28
          },
          "showarrow": false,
          "text": "409 W",
          "x": 0.25,
          "xanchor": "center",
          "y": 0.5
         }
        ],
        "autosize": false,
        "height": 500,
        "images": [
         {
          "sizex": 0.2,
          "sizey": 0.2,
          "source": "data:image/png;base64,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",
          "x": 0.6,
          "xanchor": "center",
          "y": 1
         },
         {
          "sizex": 0.2,
          "sizey": 0.2,
          "source": "data:image/png;base64,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",
          "x": 0.9,
          "xanchor": "center",
          "y": 1
         },
         {
          "sizex": 0.2,
          "sizey": 0.2,
          "source": "data:image/png;base64,iVBORw0KGgoAAAANSUhEUgAAAJkAAACQCAYAAAAbU8lyAAAjSUlEQVR4nO2deZgcVbnGfz1rZhKSQBICWUwgAQKRNaCACG6gXrko6HVjRwQUCIKAcMUFFxBFEfQiLhAXBEE0IiIoq7LJjuwhJISQEAgkk32Zme6+f7xddvU5p6tO9VT1LJn3eeoJM8ypOnXqO9/+fQcGMYiMkevtCfQjmGtV7JVZ9EMMEpnWoBHYCpgCTAImAGOB0cBIYBjQBjQBDUAB6ATWA6uAFcBS4DXgFWABMK/0+wKbOEFuakSWA5qBHYG3A7sDuwI7AFuk/KwiIrxngceBh4EHERF2p/ysPo1NgciagO2Ag4D3AnsDY3ppLkVgIXAPcBdwK+J+hV6azyB6gGbEqS4CnqMsspJehQRXLffvAu4HzkEboTGLxehtDCRO1gBsAxwBfAKYht/7BfpSAcgjXasDeBWJuxVI71qPiKKAiKEFaAdGIFG7JTAO2AwReWPo+T7zyAMPAL8B/gAsZ4DocgOByFqB9wCfA96PPn41hAlqAzAfeAx4Eni+9PMrwNoezGcL4C3AVKT77QrMQIZEC9oMceu+Arge+AnwFCLAQfQChgLHAU8QLa4CDrUG+BfwbeC/kOVYL+SAycD/AP8HzEGcMU7UdiO97UDEHQdRJ7QDJwIvEE1Y3Ygj3AgcC0zshblWQw6YDpwJ3Ic4ZxTBFYB/Ik49SGwZogVxgmeIJq51yHo7Afm++gN2AL6MjJROqhNbHvgbMmoaemWmAxQNwJ7AHbgXPxCHbyJRtEfvTDMVNCNuNRuJ92rEthG4kr7FnfstRgE/QPpLNeJ6GTgPKdYDCdOR4t9BdWJ7HRk8Q3ppjv0ajcAHqa535ZEVeBYK+wxkbIs49Aqqc/I7gJ0YGN6CumAkcBnSTVwLuhy4gPp47XNIXDchUdaMdMPm0u8CX1g9Pu5OwA2UrVJzbZYDJxHtwukV9DXK3x34BbZeFXjH/4IU5OdTfm4T+jgjUIB8cunfsUhkj0QiKSCuLrQJ1iFxtgw5b18GXir99xqkO6UZMsohd8YFwG7YEYIiIsSZKFw1iBAagSPRx3Jxr/nAJ0nPompCnHB/FNL5Iwpkr3E8v5ZQ1Ark5P0NcCpyxo4gvbBRO9JDl+Pmas+jGG1fYyK9hjbgu4g7mB9rI/BL0lHqW5Gr4DTgz8ga7SlBJSG8BcA1wFHAeEToPcWuyF3T7XjmCrRxB2Q8NAlGIS5i7sYCEjlH0jPu1Yhyw2airAeXlepLJGkFxQMCmI1irKN6+I7tSHyudsypC/g62mC9ht5kp5OA3yG2HkYBhX+OQ+GXWjAE2As5ZD8EbO4xJrBaA11rNfAGlUHy7tLfBDrccBSr3Kr0jM0QZ27GL0ZZRFby9cjv9SK155p9ELgC+c7Czy0CVwFfQOrAJoNpwNPYO7wT+DnSX2pBO/ARZNKb4te88oizLQLuRNzg08jxuzXJwzdtaOPsBxyPLOQHEJEGBkDUfFYDVyNvfq2hoyko/JR33P+PDHx3z3/wVrRjTXG0Fjib2kRHK3Aw1Rc4eEYecaUHgK8C78KPy9WKHEr/ORi4FBkXayPmWESEfy2ysGvRp4YDv8a9yW4l/QzgPofpyFI0P/4yZD0mRSOy3G7ErfyGCfgR4EuIyHsr7tcKvAMlU84lmsOtAX6E0oaSqjXNKNtkg+O+fyPbjdWr2A4trEkArwHvq+F+o4ALkZipJg7fQLv6XaTnpByD/GgTUKLicMpFJkmIYQQK+P8dt9IeXK8g8duWcJ454ItIvzTveRPSHwcUxgH/xiawRWhnJ0Ejckg+SXXiWoJintunMHcTVyAjYDmygF9AKdQ3AN9DBsteyO3SSjzhNSI97jpgJW5iyyNH9I4e9zNxEm7/328ZQDHPkcDduF0Ub094rxHAt3DvzkDsXobifVlhluPZLqJYjETTV4F90DpEiekcsrRno/dzEdsS5GdLypVPwF6zAnAx6fjrehUtyOttvtzryNueBNshK9DlU1sP/AmFpbKGD5GZVxfKg7sE2Bdl9VZDIzIUHsatZ3YBl5NcgZ+JraN1A6fQjyMDORT6MIliJfLpJLnPQSgm6OJec4HDqd+O/Bn6WBvRB+8mmWN2I8qGPRGJ1GofeDjwFRSZcN3/HpKpA7nS/Uyrcy3KYeuXOAR756xHOosvmkp/vxJ7kTcgvaLeiXvT0SY5FDgaKdffR2LuCWTIrCPaTRFskPnA/6IwUzViexsiShdXexFxRl9O1IR0SnNuryAfW7/CFKRzmaz5fPwXpBl9gI3YH+d1pND2NX2iGVmdBwLnIp1sCfHO2AXA6chidmE4ErUuXfQN4L/xX9d24GbHfO4s/b9+gTbgNmzCuAF/hbUV+XnM3VtAVqUZiuqryCFOeziqpXydaH/eY0gCuNapAcVyX8etgiTJUtkaZWqE71NARlW/0M/OwZ78k/gnGbagrAyTpeeRx3p8yvOtF3LIeDkXGQEmhw7rbFchJ6wL+2ATSBG5KT6FP5HsjXLhTHXm3cleq/7YA9s5uhJ/ztMEfAN7t3chp+rwlOfbWxiJdM3HcWcAF5H/rZpCPhU1bzEJbRXSFX1xKrYh8Ax9OMY5BLgXWw87y3N8A8oUMF+6C+W4J/V49weMQC6EF3Fz7m9EjB2H0pdMQluOIhw+aMKdanUxfVRszsQWk3/HXw/7OLZi24Wcq30ubz1lTEAbaRXlXLXbiVfEt8TtO1yIrGAfjEeRl/D4dciq7VOYiFJazB21k+f4vbBTr7tR2s9AJ7AADah9wtPI2vR1KWyFskpMQnsUfz34SGwJcjd9aO1ziBhMVn+25/itsHPLAmu035jUKWIcya3nyUiXMgntGvyyYhtRSropiY5IOI/MsAd2WvOj+OlQzSgwbBLYfVT3GW3qGI1qFUzsjnxy5mb/gud9d8R2er9IHzC2GlAuV3hinfiHKU7EVnhfJpvsiYGALZEb5znca3QoChOF13MFUkd8cCE2N/xij2acAt5BpSwvIKLzsUx2xNbD1iK9ZBA2tkbGQEAEj5R+Z+J8bBfQQ6i5chy2QJs8PHYxvZjkmEPJb6ZV4tPwpAX4qzE2D3wzk5kODFyLzWVuwiaeNmTVm/rVeZ7POcXxnDN7OPeasQeVjsQCUjR9cAyVYrKAfGxRKTCbOg5AwXdTf70IW3Js7/jblfi5NYZi12AswI8Tpo5fGhPZgErn4zAaTdpcgP7c8qleOAT50sLqxXdxxyxPwhabs/ErTjkZm5sd28O5J8Z47JTeP3mOvRB7Nw6KSX+ciiTIQhSrrEY0LUiHM53bPrl8w7EdtA9HPCsTnGtMoBs1B47DJOyg7Bxqr7PcFNGIkhDe6vG3e2Izgwfwc7J+nUpulid5PQZQW3yqGXVkDvtqHkdmclyX5svQTgyQRznrvrpcGmig3J2nhXIrqKBl+lAUh20tXS2U20Q1Uj72Jqgm70aZE8G1AYmxdZS7/3RSzqINrPF64SfIVRR86wIK4f0hZtxbUJ1oWE++CvhM0gnUQmTvQvGyYGwRWSSXx4ybiDz7Yefev5BC21nDPKqhCVlY7UhZHYPSnMciMb815XZQI0rzGUq5vUCYmIIrCuGdHsQdA2JahzhJcP5SB3LbLEWugVeRgr4MEeZ6RKRptlSfjJzj4ZqAh1CFVFfM2OtR2V6ADnRWwsokE6gls/RwKolzNfB7j3EnUklgeaSf1UpgQxARjUAB5qml6y2lnwNiakMcKauC3qAJnuv+ccUeecT91qAM19eRLjQf1S4sQMS4qvQ3cUThwgJU/HIG5e+2J9rct8eMnQV8lPK7bY78mNcmmUBSTtaGCjrCrZyuR91pojAceanHhX73MGVnbtwc2xHnmYCcuDujBMBtSvccisRan0xPqRFFRIArKBPeHKSqzEEEGZyUEodJqO41rPveBHyYaNHdiog9XEdxI+o34o2knGw/FNoIUESdeeJwCJXe6QIqwXcRWDPaMeMRMc1ASu6U0rOHkC4xBaIurGMF/x1cgRUcfJAclRysMXQ1Udbhgn9rQQ6961ala8/S7wtIDC9Gxx0+hbz/TyExHBQIh/EySjgI61MHovrUeRFz2IjcHjNDv3sP2vArkrxIEpiKewfaJatjnnEnlYl0ryCOtBZxoM3RC++N0ounI7E3tIY5BgiIJ3zGUfj/PQTcgvShDiSO1lLWjQJlvZNKfatIuS1UQEiB4RAYD4EBMbz0bluijkGTHPMM7tkT90AecbV5iGPdjwhvMeXu2TNKvw9blucjKzIK+6PkyLA6cBgivtTRgNh02ByOs1BAepKZYnwFctyejPS556leNR13daMFXoQMi1uREXImSkEy75lHC1TvgyR2R7UO5nzWoyrzryAd6A7K4nCt4+99rgJak8dRD94j0KZ+3Pi754hvU9WCnd3x89qXIRpTsUNBPubs2diLsJByFmiShduARMLTSDe4CIWoDkDidBhlFWBb7ILgPEot6i2/3A6oNtN8t79SdhUE6sJOwAeAz6Os2dtQ3v8y4nuvmVfQfMZMLM3jlwFrdgGYR0aG1HHGgzqR4h2FHHJTJN2JRbSQb6JkvOuRA/jDSE8bQbR4GYIalJhEegs9yygI9K+e6IQ7YccG84iTRd23GVnLM1D524XofeYi/SiumLjadZHHnI/Cdsx6FwMnWaxZiGsEmIt2ZjFizHhkFfl4mDsRUS1A+tLDlI8HDLieL05G+mN4tz2NOMPiBPcZjTj4HuhdRyNOuRH5uJ5BnOklkrXKPACJ7DDBr0YttB5KcJ8m5CaZivTYfUpzHV+6t4+e9yQS5VHrOxl977CheAzwqwRzjUUOye/wDrjKY9yRVN9B3UjveBBVRx+Ksgd62s5oMnYGQgf6AD4I6iPPR8W2Ubpi0LnxDuQHTKLnnYwt9u6iZ++fQ33HdkNr/3NERB0R79CF1izuvvOMcT/pwTyd2Bx7QU7wGDfLGNOJRMW1SPzuTLqlbjnUEMUkBN96g1Eo7+oVkivc3eiDHoEfobQgbmbO9UjPufogh1SLfVCG6y3IQDJF69Ee97rGGPNwivMEZMaaizEjZkwDEnfhcTcg52lW3vddsNOPH8CvIGVX4B/UrtsE10a0uXzOHtgeKeTh8c+SXe5WExKtJlf6mcfYM4wxa/Bs3e7rjDUj/huR+IzCWGzl8Gaky4TRjPSd7bF1t260IM8hyzIKObQQYYLqRJxpXczY/VF+nMuQySOxvrh0bUREMBFtmFFU6rYtiDNMLv27MOK5LyDdMdyIZhqKF86KmTNIwry1NA9Tv16NdMYgnRq0ni+iBNFwo8C9KQf+qyHolBk8Z2jpHnF04I3LsHdbHA4yxnQj8RjGFshntoyyp928ViK3w4SY521DZUJfEZV5xXHNPRAhuDjSP5FYD3TFsBN2GFKYz0Ef0+SABVS7GHcM9RaO5z9KvLG0L6rq2oB73boQgZ2B7Qv7vPG89cT3kB2PrTIdFjMmEW4xbj7bY8yZxpgOKtlrI/K/+Og+BaRcR+lvXzXGdBLfzXEMbr/VIqRz+oqtrZErwOwDUkAcMs7heS6V69BNdKuBKbg3huvqREQVxj7Y674n0WhABdvhMb66rheeNW5+sceYq4wxpqK4J8mcinmUEeBCK7b1ex/RJnwO+DH2Yj9L/IK70IAyVc0KrK7S76MwDvsDRlnvlzrmHXUtojIvbBR2rayPwfGoMSY1C7MBu+hzZuQI4S5jzNXG/z8N+2O8ZFzmQvywyrP2xo5GHB8zvz2we28sRMZDT/Apx33nEF8ke7UxZknEmCeMv+2gct1M67iADJswXjHu8TWPd/ujMeYvHmO8rLxh2PI6zqHZiN1mc77jvmG8hpyU4euJmDEBDqHyXVahVJYonE6l+O0s/e7JmHFx+B2KnRZDv9sOZaNG4RoqFe+xVO8Obq7DLCrX7XAqEx8D/1kYLxk/T46ZH9hGm9fpfT5ENgb7QKilMWMaqUwJArHsKOQRJwlfcRYl6B0ONH73ALIIq2Er1AIzjFvxL4aJQhGFfMJWZQ5V+0SJ73tQxCM85gOez1xJ5bqZxOCC+T3GOf+qEuaamrThhA+RmbG+gD1HoQ27hjKrk2RHY3cPuiVmzPuws3R/SHppz8uwdaoZVO+eCDIa7jd+906yS8Q0Ccan98hy4+cRpERkJpstEp0/BjLLw/cuYk8wLexKpdjLIz9QFMyPtxAZCmniBiqTMluJPxzjH8bP08guY2SZ8fNI4mOdq4yfh5ESkZlugyLxKb+mh72IPPFZYDcqX3QF8edkmpXUD5JuMQsooGxy77gK7oeo1OWGIX0uC5gB/TbiCcZ0ajfi4fX3ITKXjycuL998cBE5N7PANOPn+UQTdAO2wvpiqjMSurC9/XF6z4tUfsgc9vulBVPf9amRMDdiDo+zOX2IzPybwCSOgitclSRVJwnM0NXcmL9vxF6YrE60NdWKuGSAN7H13W1df5gCTP3T55Q71zeMTSfyITLzxkEBRRRcRxxnERR3caWXY8bksTlxVgFp875x1nIB+a/CyKqlvEkcQd+MKLi+YSzz8AmQu0RjXFzNFI05xxjzhdpQ5msYZtzPHBOcAx5GnHulUPqbqaHfZXHkSxO2NbnEY9wbxs8uq89ch2lUrt3WuItnwjDTkTodf2PC9Q1jdVkfIjOV/BzxbN9UEHPYu9rlc5kdc19TkQ6qxcMwLSAXnkUB5gBvQwuYpvI/FTuJ8RmPcWZ1titw/RqVm+QTRNe+BpkkYbi4bByRmQZdUJwcCR8RZuoVLu+xiQ4q2WgOu5r6NioXNFflCrAB24vfgL1RfAjlHioXdBLJz96Mw0ep3PmdyIqNgzl/l9T4A5Xzj1u7x1Baexjm91hBvJ/QlBpBM5dI+BCZqYjmiD+xYh02NzN39UJUPOFTAd2FgsJmkN1lhPjktd9O5eZpQg1809IbN8eu5HJ9aBfMObh0nispn18VhSLiYGdg68nm9zD9Zi6YhBnEtCPhIy6DzM1gZ+SIj1nlkd4TZskub/flaBE+j7iJafXlUYhkFipaMF+ogK0z+qQ+v4rK0D4Z+t3BpevPHuOjkEMpMJNDvyui+ftEFEzx7zIWVqP45BnAh9DHN3Ww9SgOexHu4hTze/iEosxQ4ZukRGRr0UuFWWWcvyePrKSw+e1SrvOo3O0v6AXM+eTRi1SLMHSW5hc2EHxL3n6AejoERNmCuOVcepbteRjKUgl/9Pn4tXMAe/4rqvzdm+ioxh/gDu9sQLqby9LPYX+PBR5zM797qqFCM1frex5jZhljHk1zQiE8YTznUs9xDcBPsfOynsROi/G930exc/a7SFYcEqQ5J32fJBiDfeDtUR7jHjHGeOWT+eogpu/Jx+Q3U7Snks0hXKZfabLnuALKpjUtvp2RyDwK/xNRxqB8rKuo5KpF1IbBl4u1YrdNj/P71YJp2KpJHPfOYddALEhrQqAM0jAF+5ji7zfGdOPXuDgpLjGeM4dkmQtvQ/lxRePagAyET6PFbaayk08bKuI4DXFTV47/fXjmXJWwDfY5mIckGO+LmcYz1hOfVDkOO5O5WqZyBXyrlUwq3wbt8qgqoKcQYQXPaESdmk3OUws6ka7yCja3GY84S5xTNsBDSJz9kspEy1bgvSgJ8NXSsxYh4htOudnelrgdnw+gGsyovDYT07E5zLZIwR+HXEdpHIlt9r94kfjQ2jRsy/35FObyHxxAJQXniW+J3ojdBSiLy8VBfI/dCWMG7tPWkl6dwG/xSwI0cYHH+2Vx/cJjbqcbY9bS82r/CmyBzSrjcuih7Hao93ULKldLmvA3Bh1kuoTkxJZHHP8zJNc9W1CbzBd6+N61Xsd6zNGsQXgk4TvGIoddDe5D/cdQv4UKXwUkpi7Gff5QFBpQpu13kKW3geheGKtQkuRp1BbM3hklOJqV7/W6uojP9MhhdyL6qe8LJtnpv6LSzJ1DfK7TBFQBHg6NLKTnxRpNSC8ai8RStRafRUQop6NC26TYEr3jjNK/4a4+S1CnoEfRB/CJmYbRhDbh13FXgIOIezXSCZdSborXE7ybytT4pxDXj3IUT0L+w7C+eCzSY1PF8VRScifu9pRhNFDO9gyuhyn3zq/1akVENgEpsWeilqHVuMEbaFF6GjYKYqU9zbtvB76PXfIXcOE3UHwyaEozFkVPerpuE7ALkH18nkdgl9hlkrG7HXZto48sP4fKl9qI/7HRSTAMVV3fgPvjrUHnDWRVmOGLdtTSyTz3qIi8+JciwsriaObjsYnF55RgU7d+iYyOwGlALDP8MJ/+/dtj94z9VhYTLGEI8DEkzk1dag3ptmZKimZERCaB5REnfjvZnV+UQ709ws99gXhibsH2I16Z0RwB2ym7jPis0gbsl1tA9ueLT8U+9zHgFr4N8dLGKdjO1k5EeL4x11qxu+PZPpt9P2w3yscymiMg/5PJbn080kcb4/LIk541RqFESJPQHqf+p9Hugd3vohMp/l59vnqIK4xnb8DvGO5LjHGryXjt2rE7KPscvjUCu033v0jHex2H0ciyNJXrb9fh2QFakTg053AJ2eheJiZin873V+L10xbss0l7mgrlhSuNh64gvgcX2OdcdqNcqHpgO+wGIx1kV9No4pPYetjt1O803O9gSxKfFggHYYvKIzKaYwXegy0yT/QYNwm7Sd29eNTtpYSjsD/0j+rw3Bbslksd+J1XmQYmUk4uDK5H8Fv3a7HnPTLpBGox51uQEzLMBR5BllGco/By4HOhn/Mow/O6GuaRFK0oZfmdod+9idwpZoXQOODLCe+/EqUOmUmC70PNXMJW40XItVMP/BhlHgffuojaW8Wt+XgUJgvXc/yKyjb7meI8bNF3gMe4bZF4DY99lvg0k7RwCDYXPtrxdzsbc/S5FuNW4GdhcwOzrVZW2B3b+foQfobGedhr9c7IESljIrZ33eecJZCH2VSAv5bBHF1ox47BueadFpG1YZ/l/ds0XygCzYiDmszAbJnlwjDKDY2D6zHqY6hVwIzKr8duPOzCltj9TjuoLeW5FlyKTRxmykpaRLY7th54aNovVAWfcTz7JvwI5URst49P1k3q2IvK9J8C8GvPscdjh6juJpv0bBMfoXLxurCtzMkoXSjJdTX2BzTPo1pHfU6nm4KC6uFnr8JvI7dj5wEuJL7WNhM0IF+LuYg+L9KKvPHhsXnqIza3wd7hpjkfVMknuVwJfN8xnvMC2YWNAgxB5yWY+tT5nuNPwuZi9TJSnNifyg9WQM1rfazWnbEdhKuRbyZLDHc897iMnvVr4zl3ZvScMM7D3kSP4mdcbY7K98Jjl+DXhTEzNGAf+bcR//TnU7GdffPIpgFKgFZsZfy0jJ4123iOr3FUKw6m3DogLCZ9Y7XfwOZiX0p/msmxF3YN3yP45X+3Uu7rEOaG/yC7+FgLtuHxReNvGpAOkuRyee9vMp6TpT9wF+zNkwfOwk+ybI/N4efTewfQViCHfTBEHlXY+CBw+pmEdi3ZGAIuIjvT+JvtkP8uyXU3the9XkQ2EWUAm1zo9/ht9ka02U097pgM5lozJmNXTr+JDubywT7YGQrdyFuddgDZh8jScmHUg8i2RKlUJoH9G/+az09h5/zdS32yQxLhDOydcDP+sckjsDNau1AxSJrxzYFEZKNx58wtwt/vOA7b8bqe3su5i0Q79nnj3aglkw8akJJpWkadKCUmrV01UIhsLIrFmgS2An8LvQk1vDHvcQkppqmnGSZYh8rf76RcDdOIfF/3El+nV0AdajZHHz3wJzWjjNLhiGDjzhBIA0uwjYE4rMHdQScLbINO2NuXSmJYg7z1t3ne53gUgQjfYw7wTURsfRI51NjOFJuP4e9raaV8OojJFW+itsrsMHw4WVrIgpPthbJgTO6zFinqvhxoL+wT7TZgHyHUJ9GOfUJcYC366lZtSBczRWdAsLUcFRigvxJZDvWFfRWbwFajfDnfkr+x2IRaQBGK3q7m8sYO2OnWXSTL0WpFoRCz+KFQuvdx1Cbu+yORbYZy0ExHaxFxo4/hT2Bt6KAyk1D/Sf0ydVPDYdgEso5kJWnNKJZmZtQGFtAskrcG8CGyoShkluTaG5sLpEFkM5APzlWn+RKqNfXlPo3oqG/zXovxKyrpc2hAnMjcMctRtmiS+xyM+zjkoMnJx/Hnaj5ENh1xjSTXXGyfXk+IbDMUmH4dew0LqANR3FlNYeSQ9W76w9ZRv1qLTDAEdRk0F+hVKvvo+2An1Brd1fxkHfJu++Sz9XUXRiPKCrkf9/HZXajZzRiPe4VxEvaJwt3Iv9lv9LBq2AK5MExCW4hEQdJ7fY/qPSSWIoPBbDsZRl8lshwyaK5DnNG1mV4HPut4ThyOwdbnCkh01quQJ3O8BbUANV/yJZIf0tCExOezuD92Hnm8L6Dy1I4AvuJyfcJrPrWJywakz/0GqRIu4sojz/4uJOc6x+LWaa8j+yr+umNHlMZjEtoi/IpQTGyFnLcuiyv4MK8h0bIf5R3rQ2StSDwnubYnmeK/GcrSvQlVOlXrgbYYVRsltfxyyIntWp9bqaG0rb9gN+yK5KBh3WE13K8JxdhuwW19BfdfjRTl0xE3MAt96+XCmI1aXX0bceL1VCeutajR3BSSc69m1P7ApVbciV8xdr/G7khMmoSwCiUP1tJDrB35iu4nusdqNxJJpoVVLyJbg94zao4bUHbx3tTmBxyGuLf5jkVUtW6eKjJgsTN2e9BggX9E7UULm6GWAPfgtsyqXU+gDjcfR41RxpE8xagN6Z77IkfxD7Ed0lHXWhSs3p/akwEmo7ili6vfRC+lUfem6ToFhZr2Mn6fR0TyWWo/tnko+tjHo4yEkR5jAk63EZn6HUiML0Xcbw3iDgXKffw3Qx9uK2T5bo64agtyRcStbxG5c2ajHiPPUvtxiAeiE0K2NZ5bREbFTOxjDjcJjEU7zOVsfBnF6nqyEZrRop+N3CguHcX3KjiuWu+1AuXaHYMItCcVTG2oPYLLeOhCjW7qUWrYpzEMFdya4q2AiOKn9FxRzSEOswsiuFuxMxCyvArI2LgBOAH58dLI+J2O9CyXarAScfK6V333VTSjBenAXqw80t8OI73zKFtQzPP9KPR1M6qJTKPNeQF94KeQjnU2cqGMJj3HZzsqEFmKm6PORbpdn/Dk94lJlJBD5v3PEMcJo4h0pdmIKOak/NxmFALbAinPk1Grq7Gl340o/f9mxBm6kO60Hm2M5Ui3ehlZzouRSNxAuomMORQQ/xZaK5NLFYEbUanhohSfO+AwGimwLhO8gApWvkn2llJwUFcj4nytiNCCqxURnY+Cnwa2Rwp80MvfpeedRspH0QxkNKG0YLMDT1iEzkMW08jemWLdMAn1/H8TN3EFfURqOeZnEMjy+jF28XCwuN2IEM8ieVZCX8cOqKBjKdWdt2+guoeh7lsMwheNSHF21RYGxBacVf59bH2uP6EJtUu9Bul61dwknajPxlQGuVeqaENZta5IQZjgViOv99H0nxDKFFQd9TjxB4bdhSzHQddEhhiBdDEzo8Mkti4kTq5DZwbUcoJbVsghcXgKClivRARUjbgKKC57CIOKfV0xEjU5dpWHuQiuAzVy+Qo6kbeecbwc6lfxEZSe9G/EcaMIq4h0zjtQ/ly/Ja6BIM+HovjkieiYvShPerH0bzf6yPNQid1TyPe2AOl2Ucdex2Ek4ppTELfaFQXdJyCR7+PyWIkqiq4oza/WeGafwEAgsgDNqBvPEegA9u3we7+wvtOJdKJlKINiKeKAq5Hjtav0d02ImNtRZfsopP+NK/0cOG6DmKTPPPKoyv4aFH56jZ6fbTmIjBDEKfdHLgDXaXFJQkS+Vy3370KE9TUUh6zHETh1x0DiZC7kkGd+R1SG915UrNFb7SmLKOR0P1L4/176uV+LwzgMdCIz0Yi43E6ogGU3dPzMVNLv7FhE4nYuOg77YeBBpPdtZBMShZsakZnIIcJrRdGFqSi7dSIKjo9CivxQpGc1oXhmHom6DUhfW4HcJa+hlJ4FyKgIUr0DcbpJYlMnsjjkjCv4XaBTQaWONYhBDGIQgxjEIAYxiEEMYhCDGMQgMsH/A1M36xdb8fZMAAAAAElFTkSuQmCC",
          "x": 0.65,
          "xanchor": "center",
          "y": 0.6
         }
        ],
        "template": {
         "data": {
          "bar": [
           {
            "error_x": {
             "color": "#2a3f5f"
            },
            "error_y": {
             "color": "#2a3f5f"
            },
            "marker": {
             "line": {
              "color": "#E5ECF6",
              "width": 0.5
             },
             "pattern": {
              "fillmode": "overlay",
              "size": 10,
              "solidity": 0.2
             }
            },
            "type": "bar"
           }
          ],
          "barpolar": [
           {
            "marker": {
             "line": {
              "color": "#E5ECF6",
              "width": 0.5
             },
             "pattern": {
              "fillmode": "overlay",
              "size": 10,
              "solidity": 0.2
             }
            },
            "type": "barpolar"
           }
          ],
          "carpet": [
           {
            "aaxis": {
             "endlinecolor": "#2a3f5f",
             "gridcolor": "white",
             "linecolor": "white",
             "minorgridcolor": "white",
             "startlinecolor": "#2a3f5f"
            },
            "baxis": {
             "endlinecolor": "#2a3f5f",
             "gridcolor": "white",
             "linecolor": "white",
             "minorgridcolor": "white",
             "startlinecolor": "#2a3f5f"
            },
            "type": "carpet"
           }
          ],
          "choropleth": [
           {
            "colorbar": {
             "outlinewidth": 0,
             "ticks": ""
            },
            "type": "choropleth"
           }
          ],
          "contour": [
           {
            "colorbar": {
             "outlinewidth": 0,
             "ticks": ""
            },
            "colorscale": [
             [
              0,
              "#0d0887"
             ],
             [
              0.1111111111111111,
              "#46039f"
             ],
             [
              0.2222222222222222,
              "#7201a8"
             ],
             [
              0.3333333333333333,
              "#9c179e"
             ],
             [
              0.4444444444444444,
              "#bd3786"
             ],
             [
              0.5555555555555556,
              "#d8576b"
             ],
             [
              0.6666666666666666,
              "#ed7953"
             ],
             [
              0.7777777777777778,
              "#fb9f3a"
             ],
             [
              0.8888888888888888,
              "#fdca26"
             ],
             [
              1,
              "#f0f921"
             ]
            ],
            "type": "contour"
           }
          ],
          "contourcarpet": [
           {
            "colorbar": {
             "outlinewidth": 0,
             "ticks": ""
            },
            "type": "contourcarpet"
           }
          ],
          "heatmap": [
           {
            "colorbar": {
             "outlinewidth": 0,
             "ticks": ""
            },
            "colorscale": [
             [
              0,
              "#0d0887"
             ],
             [
              0.1111111111111111,
              "#46039f"
             ],
             [
              0.2222222222222222,
              "#7201a8"
             ],
             [
              0.3333333333333333,
              "#9c179e"
             ],
             [
              0.4444444444444444,
              "#bd3786"
             ],
             [
              0.5555555555555556,
              "#d8576b"
             ],
             [
              0.6666666666666666,
              "#ed7953"
             ],
             [
              0.7777777777777778,
              "#fb9f3a"
             ],
             [
              0.8888888888888888,
              "#fdca26"
             ],
             [
              1,
              "#f0f921"
             ]
            ],
            "type": "heatmap"
           }
          ],
          "heatmapgl": [
           {
            "colorbar": {
             "outlinewidth": 0,
             "ticks": ""
            },
            "colorscale": [
             [
              0,
              "#0d0887"
             ],
             [
              0.1111111111111111,
              "#46039f"
             ],
             [
              0.2222222222222222,
              "#7201a8"
             ],
             [
              0.3333333333333333,
              "#9c179e"
             ],
             [
              0.4444444444444444,
              "#bd3786"
             ],
             [
              0.5555555555555556,
              "#d8576b"
             ],
             [
              0.6666666666666666,
              "#ed7953"
             ],
             [
              0.7777777777777778,
              "#fb9f3a"
             ],
             [
              0.8888888888888888,
              "#fdca26"
             ],
             [
              1,
              "#f0f921"
             ]
            ],
            "type": "heatmapgl"
           }
          ],
          "histogram": [
           {
            "marker": {
             "pattern": {
              "fillmode": "overlay",
              "size": 10,
              "solidity": 0.2
             }
            },
            "type": "histogram"
           }
          ],
          "histogram2d": [
           {
            "colorbar": {
             "outlinewidth": 0,
             "ticks": ""
            },
            "colorscale": [
             [
              0,
              "#0d0887"
             ],
             [
              0.1111111111111111,
              "#46039f"
             ],
             [
              0.2222222222222222,
              "#7201a8"
             ],
             [
              0.3333333333333333,
              "#9c179e"
             ],
             [
              0.4444444444444444,
              "#bd3786"
             ],
             [
              0.5555555555555556,
              "#d8576b"
             ],
             [
              0.6666666666666666,
              "#ed7953"
             ],
             [
              0.7777777777777778,
              "#fb9f3a"
             ],
             [
              0.8888888888888888,
              "#fdca26"
             ],
             [
              1,
              "#f0f921"
             ]
            ],
            "type": "histogram2d"
           }
          ],
          "histogram2dcontour": [
           {
            "colorbar": {
             "outlinewidth": 0,
             "ticks": ""
            },
            "colorscale": [
             [
              0,
              "#0d0887"
             ],
             [
              0.1111111111111111,
              "#46039f"
             ],
             [
              0.2222222222222222,
              "#7201a8"
             ],
             [
              0.3333333333333333,
              "#9c179e"
             ],
             [
              0.4444444444444444,
              "#bd3786"
             ],
             [
              0.5555555555555556,
              "#d8576b"
             ],
             [
              0.6666666666666666,
              "#ed7953"
             ],
             [
              0.7777777777777778,
              "#fb9f3a"
             ],
             [
              0.8888888888888888,
              "#fdca26"
             ],
             [
              1,
              "#f0f921"
             ]
            ],
            "type": "histogram2dcontour"
           }
          ],
          "mesh3d": [
           {
            "colorbar": {
             "outlinewidth": 0,
             "ticks": ""
            },
            "type": "mesh3d"
           }
          ],
          "parcoords": [
           {
            "line": {
             "colorbar": {
              "outlinewidth": 0,
              "ticks": ""
             }
            },
            "type": "parcoords"
           }
          ],
          "pie": [
           {
            "automargin": true,
            "type": "pie"
           }
          ],
          "scatter": [
           {
            "fillpattern": {
             "fillmode": "overlay",
             "size": 10,
             "solidity": 0.2
            },
            "type": "scatter"
           }
          ],
          "scatter3d": [
           {
            "line": {
             "colorbar": {
              "outlinewidth": 0,
              "ticks": ""
             }
            },
            "marker": {
             "colorbar": {
              "outlinewidth": 0,
              "ticks": ""
             }
            },
            "type": "scatter3d"
           }
          ],
          "scattercarpet": [
           {
            "marker": {
             "colorbar": {
              "outlinewidth": 0,
              "ticks": ""
             }
            },
            "type": "scattercarpet"
           }
          ],
          "scattergeo": [
           {
            "marker": {
             "colorbar": {
              "outlinewidth": 0,
              "ticks": ""
             }
            },
            "type": "scattergeo"
           }
          ],
          "scattergl": [
           {
            "marker": {
             "colorbar": {
              "outlinewidth": 0,
              "ticks": ""
             }
            },
            "type": "scattergl"
           }
          ],
          "scattermapbox": [
           {
            "marker": {
             "colorbar": {
              "outlinewidth": 0,
              "ticks": ""
             }
            },
            "type": "scattermapbox"
           }
          ],
          "scatterpolar": [
           {
            "marker": {
             "colorbar": {
              "outlinewidth": 0,
              "ticks": ""
             }
            },
            "type": "scatterpolar"
           }
          ],
          "scatterpolargl": [
           {
            "marker": {
             "colorbar": {
              "outlinewidth": 0,
              "ticks": ""
             }
            },
            "type": "scatterpolargl"
           }
          ],
          "scatterternary": [
           {
            "marker": {
             "colorbar": {
              "outlinewidth": 0,
              "ticks": ""
             }
            },
            "type": "scatterternary"
           }
          ],
          "surface": [
           {
            "colorbar": {
             "outlinewidth": 0,
             "ticks": ""
            },
            "colorscale": [
             [
              0,
              "#0d0887"
             ],
             [
              0.1111111111111111,
              "#46039f"
             ],
             [
              0.2222222222222222,
              "#7201a8"
             ],
             [
              0.3333333333333333,
              "#9c179e"
             ],
             [
              0.4444444444444444,
              "#bd3786"
             ],
             [
              0.5555555555555556,
              "#d8576b"
             ],
             [
              0.6666666666666666,
              "#ed7953"
             ],
             [
              0.7777777777777778,
              "#fb9f3a"
             ],
             [
              0.8888888888888888,
              "#fdca26"
             ],
             [
              1,
              "#f0f921"
             ]
            ],
            "type": "surface"
           }
          ],
          "table": [
           {
            "cells": {
             "fill": {
              "color": "#EBF0F8"
             },
             "line": {
              "color": "white"
             }
            },
            "header": {
             "fill": {
              "color": "#C8D4E3"
             },
             "line": {
              "color": "white"
             }
            },
            "type": "table"
           }
          ]
         },
         "layout": {
          "annotationdefaults": {
           "arrowcolor": "#2a3f5f",
           "arrowhead": 0,
           "arrowwidth": 1
          },
          "autotypenumbers": "strict",
          "coloraxis": {
           "colorbar": {
            "outlinewidth": 0,
            "ticks": ""
           }
          },
          "colorscale": {
           "diverging": [
            [
             0,
             "#8e0152"
            ],
            [
             0.1,
             "#c51b7d"
            ],
            [
             0.2,
             "#de77ae"
            ],
            [
             0.3,
             "#f1b6da"
            ],
            [
             0.4,
             "#fde0ef"
            ],
            [
             0.5,
             "#f7f7f7"
            ],
            [
             0.6,
             "#e6f5d0"
            ],
            [
             0.7,
             "#b8e186"
            ],
            [
             0.8,
             "#7fbc41"
            ],
            [
             0.9,
             "#4d9221"
            ],
            [
             1,
             "#276419"
            ]
           ],
           "sequential": [
            [
             0,
             "#0d0887"
            ],
            [
             0.1111111111111111,
             "#46039f"
            ],
            [
             0.2222222222222222,
             "#7201a8"
            ],
            [
             0.3333333333333333,
             "#9c179e"
            ],
            [
             0.4444444444444444,
             "#bd3786"
            ],
            [
             0.5555555555555556,
             "#d8576b"
            ],
            [
             0.6666666666666666,
             "#ed7953"
            ],
            [
             0.7777777777777778,
             "#fb9f3a"
            ],
            [
             0.8888888888888888,
             "#fdca26"
            ],
            [
             1,
             "#f0f921"
            ]
           ],
           "sequentialminus": [
            [
             0,
             "#0d0887"
            ],
            [
             0.1111111111111111,
             "#46039f"
            ],
            [
             0.2222222222222222,
             "#7201a8"
            ],
            [
             0.3333333333333333,
             "#9c179e"
            ],
            [
             0.4444444444444444,
             "#bd3786"
            ],
            [
             0.5555555555555556,
             "#d8576b"
            ],
            [
             0.6666666666666666,
             "#ed7953"
            ],
            [
             0.7777777777777778,
             "#fb9f3a"
            ],
            [
             0.8888888888888888,
             "#fdca26"
            ],
            [
             1,
             "#f0f921"
            ]
           ]
          },
          "colorway": [
           "#636efa",
           "#EF553B",
           "#00cc96",
           "#ab63fa",
           "#FFA15A",
           "#19d3f3",
           "#FF6692",
           "#B6E880",
           "#FF97FF",
           "#FECB52"
          ],
          "font": {
           "color": "#2a3f5f"
          },
          "geo": {
           "bgcolor": "white",
           "lakecolor": "white",
           "landcolor": "#E5ECF6",
           "showlakes": true,
           "showland": true,
           "subunitcolor": "white"
          },
          "hoverlabel": {
           "align": "left"
          },
          "hovermode": "closest",
          "mapbox": {
           "style": "light"
          },
          "paper_bgcolor": "white",
          "plot_bgcolor": "#E5ECF6",
          "polar": {
           "angularaxis": {
            "gridcolor": "white",
            "linecolor": "white",
            "ticks": ""
           },
           "bgcolor": "#E5ECF6",
           "radialaxis": {
            "gridcolor": "white",
            "linecolor": "white",
            "ticks": ""
           }
          },
          "scene": {
           "xaxis": {
            "backgroundcolor": "#E5ECF6",
            "gridcolor": "white",
            "gridwidth": 2,
            "linecolor": "white",
            "showbackground": true,
            "ticks": "",
            "zerolinecolor": "white"
           },
           "yaxis": {
            "backgroundcolor": "#E5ECF6",
            "gridcolor": "white",
            "gridwidth": 2,
            "linecolor": "white",
            "showbackground": true,
            "ticks": "",
            "zerolinecolor": "white"
           },
           "zaxis": {
            "backgroundcolor": "#E5ECF6",
            "gridcolor": "white",
            "gridwidth": 2,
            "linecolor": "white",
            "showbackground": true,
            "ticks": "",
            "zerolinecolor": "white"
           }
          },
          "shapedefaults": {
           "line": {
            "color": "#2a3f5f"
           }
          },
          "ternary": {
           "aaxis": {
            "gridcolor": "white",
            "linecolor": "white",
            "ticks": ""
           },
           "baxis": {
            "gridcolor": "white",
            "linecolor": "white",
            "ticks": ""
           },
           "bgcolor": "#E5ECF6",
           "caxis": {
            "gridcolor": "white",
            "linecolor": "white",
            "ticks": ""
           }
          },
          "title": {
           "x": 0.05
          },
          "xaxis": {
           "automargin": true,
           "gridcolor": "white",
           "linecolor": "white",
           "ticks": "",
           "title": {
            "standoff": 15
           },
           "zerolinecolor": "white",
           "zerolinewidth": 2
          },
          "yaxis": {
           "automargin": true,
           "gridcolor": "white",
           "linecolor": "white",
           "ticks": "",
           "title": {
            "standoff": 15
           },
           "zerolinecolor": "white",
           "zerolinewidth": 2
          }
         }
        },
        "width": 980
       }
      },
      "image/png": "[encoded data removed]",
      "text/html": [
       "<div>                            <div id=\"c0d40987-922b-486a-a0a0-914102dcddc6\" class=\"plotly-graph-div\" style=\"height:500px; width:980px;\"></div>            <script type=\"text/javascript\">                require([\"plotly\"], function(Plotly) {                    window.PLOTLYENV=window.PLOTLYENV || {};                                    if (document.getElementById(\"c0d40987-922b-486a-a0a0-914102dcddc6\")) {                    Plotly.newPlot(                        \"c0d40987-922b-486a-a0a0-914102dcddc6\",                        [{\"domain\":{\"x\":[0,0.5],\"y\":[0,1]},\"gauge\":{\"axis\":{\"range\":[null,10000]},\"steps\":[{\"color\":\"lightgray\",\"range\":[0,1200]},{\"color\":\"gray\",\"range\":[1200,2800]}]},\"mode\":\"gauge+number\",\"title\":{\"text\":\"Images\\u002fsecond\"},\"value\":1325.2397691504225,\"type\":\"indicator\"}],                        {\"autosize\":false,\"height\":500,\"width\":980,\"template\":{\"data\":{\"histogram2dcontour\":[{\"type\":\"histogram2dcontour\",\"colorbar\":{\"outlinewidth\":0,\"ticks\":\"\"},\"colorscale\":[[0.0,\"#0d0887\"],[0.1111111111111111,\"#46039f\"],[0.2222222222222222,\"#7201a8\"],[0.3333333333333333,\"#9c179e\"],[0.4444444444444444,\"#bd3786\"],[0.5555555555555556,\"#d8576b\"],[0.6666666666666666,\"#ed7953\"],[0.7777777777777778,\"#fb9f3a\"],[0.8888888888888888,\"#fdca26\"],[1.0,\"#f0f921\"]]}],\"choropleth\":[{\"type\":\"choropleth\",\"colorbar\":{\"outlinewidth\":0,\"ticks\":\"\"}}],\"histogram2d\":[{\"type\":\"histogram2d\",\"colorbar\":{\"outlinewidth\":0,\"ticks\":\"\"},\"colorscale\":[[0.0,\"#0d0887\"],[0.1111111111111111,\"#46039f\"],[0.2222222222222222,\"#7201a8\"],[0.3333333333333333,\"#9c179e\"],[0.4444444444444444,\"#bd3786\"],[0.5555555555555556,\"#d8576b\"],[0.6666666666666666,\"#ed7953\"],[0.7777777777777778,\"#fb9f3a\"],[0.8888888888888888,\"#fdca26\"],[1.0,\"#f0f921\"]]}],\"heatmap\":[{\"type\":\"heatmap\",\"colorbar\":{\"outlinewidth\":0,\"ticks\":\"\"},\"colorscale\":[[0.0,\"#0d0887\"],[0.1111111111111111,\"#46039f\"],[0.2222222222222222,\"#7201a8\"],[0.3333333333333333,\"#9c179e\"],[0.4444444444444444,\"#bd3786\"],[0.5555555555555556,\"#d8576b\"],[0.6666666666666666,\"#ed7953\"],[0.7777777777777778,\"#fb9f3a\"],[0.8888888888888888,\"#fdca26\"],[1.0,\"#f0f921\"]]}],\"heatmapgl\":[{\"type\":\"heatmapgl\",\"colorbar\":{\"outlinewidth\":0,\"ticks\":\"\"},\"colorscale\":[[0.0,\"#0d0887\"],[0.1111111111111111,\"#46039f\"],[0.2222222222222222,\"#7201a8\"],[0.3333333333333333,\"#9c179e\"],[0.4444444444444444,\"#bd3786\"],[0.5555555555555556,\"#d8576b\"],[0.6666666666666666,\"#ed7953\"],[0.7777777777777778,\"#fb9f3a\"],[0.8888888888888888,\"#fdca26\"],[1.0,\"#f0f921\"]]}],\"contourcarpet\":[{\"type\":\"contourcarpet\",\"colorbar\":{\"outlinewidth\":0,\"ticks\":\"\"}}],\"contour\":[{\"type\":\"contour\",\"colorbar\":{\"outlinewidth\":0,\"ticks\":\"\"},\"colorscale\":[[0.0,\"#0d0887\"],[0.1111111111111111,\"#46039f\"],[0.2222222222222222,\"#7201a8\"],[0.3333333333333333,\"#9c179e\"],[0.4444444444444444,\"#bd3786\"],[0.5555555555555556,\"#d8576b\"],[0.6666666666666666,\"#ed7953\"],[0.7777777777777778,\"#fb9f3a\"],[0.8888888888888888,\"#fdca26\"],[1.0,\"#f0f921\"]]}],\"surface\":[{\"type\":\"surface\",\"colorbar\":{\"outlinewidth\":0,\"ticks\":\"\"},\"colorscale\":[[0.0,\"#0d0887\"],[0.1111111111111111,\"#46039f\"],[0.2222222222222222,\"#7201a8\"],[0.3333333333333333,\"#9c179e\"],[0.4444444444444444,\"#bd3786\"],[0.5555555555555556,\"#d8576b\"],[0.6666666666666666,\"#ed7953\"],[0.7777777777777778,\"#fb9f3a\"],[0.8888888888888888,\"#fdca26\"],[1.0,\"#f0f921\"]]}],\"mesh3d\":[{\"type\":\"mesh3d\",\"colorbar\":{\"outlinewidth\":0,\"ticks\":\"\"}}],\"scatter\":[{\"fillpattern\":{\"fillmode\":\"overlay\",\"size\":10,\"solidity\":0.2},\"type\":\"scatter\"}],\"parcoords\":[{\"type\":\"parcoords\",\"line\":{\"colorbar\":{\"outlinewidth\":0,\"ticks\":\"\"}}}],\"scatterpolargl\":[{\"type\":\"scatterpolargl\",\"marker\":{\"colorbar\":{\"outlinewidth\":0,\"ticks\":\"\"}}}],\"bar\":[{\"error_x\":{\"color\":\"#2a3f5f\"},\"error_y\":{\"color\":\"#2a3f5f\"},\"marker\":{\"line\":{\"color\":\"#E5ECF6\",\"width\":0.5},\"pattern\":{\"fillmode\":\"overlay\",\"size\":10,\"solidity\":0.2}},\"type\":\"bar\"}],\"scattergeo\":[{\"type\":\"scattergeo\",\"marker\":{\"colorbar\":{\"outlinewidth\":0,\"ticks\":\"\"}}}],\"scatterpolar\":[{\"type\":\"scatterpolar\",\"marker\":{\"colorbar\":{\"outlinewidth\":0,\"ticks\":\"\"}}}],\"histogram\":[{\"marker\":{\"pattern\":{\"fillmode\":\"overlay\",\"size\":10,\"solidity\":0.2}},\"type\":\"histogram\"}],\"scattergl\":[{\"type\":\"scattergl\",\"marker\":{\"colorbar\":{\"outlinewidth\":0,\"ticks\":\"\"}}}],\"scatter3d\":[{\"type\":\"scatter3d\",\"line\":{\"colorbar\":{\"outlinewidth\":0,\"ticks\":\"\"}},\"marker\":{\"colorbar\":{\"outlinewidth\":0,\"ticks\":\"\"}}}],\"scattermapbox\":[{\"type\":\"scattermapbox\",\"marker\":{\"colorbar\":{\"outlinewidth\":0,\"ticks\":\"\"}}}],\"scatterternary\":[{\"type\":\"scatterternary\",\"marker\":{\"colorbar\":{\"outlinewidth\":0,\"ticks\":\"\"}}}],\"scattercarpet\":[{\"type\":\"scattercarpet\",\"marker\":{\"colorbar\":{\"outlinewidth\":0,\"ticks\":\"\"}}}],\"carpet\":[{\"aaxis\":{\"endlinecolor\":\"#2a3f5f\",\"gridcolor\":\"white\",\"linecolor\":\"white\",\"minorgridcolor\":\"white\",\"startlinecolor\":\"#2a3f5f\"},\"baxis\":{\"endlinecolor\":\"#2a3f5f\",\"gridcolor\":\"white\",\"linecolor\":\"white\",\"minorgridcolor\":\"white\",\"startlinecolor\":\"#2a3f5f\"},\"type\":\"carpet\"}],\"table\":[{\"cells\":{\"fill\":{\"color\":\"#EBF0F8\"},\"line\":{\"color\":\"white\"}},\"header\":{\"fill\":{\"color\":\"#C8D4E3\"},\"line\":{\"color\":\"white\"}},\"type\":\"table\"}],\"barpolar\":[{\"marker\":{\"line\":{\"color\":\"#E5ECF6\",\"width\":0.5},\"pattern\":{\"fillmode\":\"overlay\",\"size\":10,\"solidity\":0.2}},\"type\":\"barpolar\"}],\"pie\":[{\"automargin\":true,\"type\":\"pie\"}]},\"layout\":{\"autotypenumbers\":\"strict\",\"colorway\":[\"#636efa\",\"#EF553B\",\"#00cc96\",\"#ab63fa\",\"#FFA15A\",\"#19d3f3\",\"#FF6692\",\"#B6E880\",\"#FF97FF\",\"#FECB52\"],\"font\":{\"color\":\"#2a3f5f\"},\"hovermode\":\"closest\",\"hoverlabel\":{\"align\":\"left\"},\"paper_bgcolor\":\"white\",\"plot_bgcolor\":\"#E5ECF6\",\"polar\":{\"bgcolor\":\"#E5ECF6\",\"angularaxis\":{\"gridcolor\":\"white\",\"linecolor\":\"white\",\"ticks\":\"\"},\"radialaxis\":{\"gridcolor\":\"white\",\"linecolor\":\"white\",\"ticks\":\"\"}},\"ternary\":{\"bgcolor\":\"#E5ECF6\",\"aaxis\":{\"gridcolor\":\"white\",\"linecolor\":\"white\",\"ticks\":\"\"},\"baxis\":{\"gridcolor\":\"white\",\"linecolor\":\"white\",\"ticks\":\"\"},\"caxis\":{\"gridcolor\":\"white\",\"linecolor\":\"white\",\"ticks\":\"\"}},\"coloraxis\":{\"colorbar\":{\"outlinewidth\":0,\"ticks\":\"\"}},\"colorscale\":{\"sequential\":[[0.0,\"#0d0887\"],[0.1111111111111111,\"#46039f\"],[0.2222222222222222,\"#7201a8\"],[0.3333333333333333,\"#9c179e\"],[0.4444444444444444,\"#bd3786\"],[0.5555555555555556,\"#d8576b\"],[0.6666666666666666,\"#ed7953\"],[0.7777777777777778,\"#fb9f3a\"],[0.8888888888888888,\"#fdca26\"],[1.0,\"#f0f921\"]],\"sequentialminus\":[[0.0,\"#0d0887\"],[0.1111111111111111,\"#46039f\"],[0.2222222222222222,\"#7201a8\"],[0.3333333333333333,\"#9c179e\"],[0.4444444444444444,\"#bd3786\"],[0.5555555555555556,\"#d8576b\"],[0.6666666666666666,\"#ed7953\"],[0.7777777777777778,\"#fb9f3a\"],[0.8888888888888888,\"#fdca26\"],[1.0,\"#f0f921\"]],\"diverging\":[[0,\"#8e0152\"],[0.1,\"#c51b7d\"],[0.2,\"#de77ae\"],[0.3,\"#f1b6da\"],[0.4,\"#fde0ef\"],[0.5,\"#f7f7f7\"],[0.6,\"#e6f5d0\"],[0.7,\"#b8e186\"],[0.8,\"#7fbc41\"],[0.9,\"#4d9221\"],[1,\"#276419\"]]},\"xaxis\":{\"gridcolor\":\"white\",\"linecolor\":\"white\",\"ticks\":\"\",\"title\":{\"standoff\":15},\"zerolinecolor\":\"white\",\"automargin\":true,\"zerolinewidth\":2},\"yaxis\":{\"gridcolor\":\"white\",\"linecolor\":\"white\",\"ticks\":\"\",\"title\":{\"standoff\":15},\"zerolinecolor\":\"white\",\"automargin\":true,\"zerolinewidth\":2},\"scene\":{\"xaxis\":{\"backgroundcolor\":\"#E5ECF6\",\"gridcolor\":\"white\",\"linecolor\":\"white\",\"showbackground\":true,\"ticks\":\"\",\"zerolinecolor\":\"white\",\"gridwidth\":2},\"yaxis\":{\"backgroundcolor\":\"#E5ECF6\",\"gridcolor\":\"white\",\"linecolor\":\"white\",\"showbackground\":true,\"ticks\":\"\",\"zerolinecolor\":\"white\",\"gridwidth\":2},\"zaxis\":{\"backgroundcolor\":\"#E5ECF6\",\"gridcolor\":\"white\",\"linecolor\":\"white\",\"showbackground\":true,\"ticks\":\"\",\"zerolinecolor\":\"white\",\"gridwidth\":2}},\"shapedefaults\":{\"line\":{\"color\":\"#2a3f5f\"}},\"annotationdefaults\":{\"arrowcolor\":\"#2a3f5f\",\"arrowhead\":0,\"arrowwidth\":1},\"geo\":{\"bgcolor\":\"white\",\"landcolor\":\"#E5ECF6\",\"subunitcolor\":\"white\",\"showland\":true,\"showlakes\":true,\"lakecolor\":\"white\"},\"title\":{\"x\":0.05},\"mapbox\":{\"style\":\"light\"}}},\"annotations\":[{\"align\":\"center\",\"font\":{\"size\":28},\"showarrow\":false,\"text\":\"GPU : 1.33 k\",\"x\":0.25,\"xanchor\":\"center\",\"y\":0.1},{\"align\":\"center\",\"font\":{\"size\":24},\"showarrow\":false,\"text\":\"1 GPU\",\"x\":0.6,\"xanchor\":\"center\",\"y\":0.8},{\"align\":\"center\",\"font\":{\"size\":20},\"showarrow\":false,\"text\":\"kg@JZ_391945_1nodes_1tasks_2024-10-25_15\",\"x\":0.5,\"xanchor\":\"center\",\"y\":1.2},{\"align\":\"center\",\"font\":{\"size\":24},\"showarrow\":false,\"text\":\"batch size: 512\",\"x\":0.9,\"xanchor\":\"center\",\"y\":0.8},{\"align\":\"left\",\"font\":{\"size\":16},\"showarrow\":false,\"text\":\" SGD (\\n\\u003cbr\\u003eParameter Group 0\\n\\u003cbr\\u003e    dampening: 0\\n\\u003cbr\\u003e    differentiable: False\\n\\u003cbr\\u003e    foreach: None\\n\\u003cbr\\u003e    lr: 0.1\\n\\u003cbr\\u003e    maximize: False\\n\\u003cbr\\u003e    momentum: 0.9\\n\\u003cbr\\u003e    nesterov: False\\n\\u003cbr\\u003e    weight_decay: 0.0\\n\\u003cbr\\u003e)\\n\\u003cbr\\u003e\",\"x\":0.85,\"xanchor\":\"center\",\"y\":0.0},{\"align\":\"center\",\"font\":{\"size\":28},\"showarrow\":false,\"text\":\"409 W\",\"x\":0.25,\"xanchor\":\"center\",\"y\":0.5}],\"images\":[{\"sizex\":0.2,\"sizey\":0.2,\"source\":\"data:image\\u002fpng;base64,iVBORw0KGgoAAAANSUhEUgAAAJQAAABuCAYAAADBNTqrAAAPfElEQVR4nO2debRXVRXHPz\\u002fe48FjEEUxLEwJSVJxyABxTCnHlVOgNmgmpCzUyhwqXQ2rLLXMHMocKofS1ASn1CTJjBQtxAlRKAEhBEHmx\\u002fSG3+uP7+927+\\u002fe+3u\\u002fO\\u002f+Gd75r7aWP986559677zln7\\u002f3d+4CBgYGBgYGBgYGBgYGBgYGBL3KVHkBK6A\\u002fsD+wG9KnsUP6PTmA98G\\u002fgDaC1ssMxKIcewPHAn4At6AVWq6wGfg3sm8qTMIiNPYAZQJ7KK0sYaQNuRjOqQZXgSOB9Kq8cceRlYNekH0wlUOt7qIOA6Xi\\u002f8E5gLTATWFj4+cPAYcDOBLvvVuBfwGtAC7AjMAYYATQEaJ8H3gZmASuB3sBewNjC\\u002f7vHMA\\u002f4JLAqQN8GKWBHYBHer\\u002f19YAr+m\\u002fEm4Ezgvz7tLGlH+5vdS1x3NPAMpZfXPDAbOAp\\u002fxf0A8BNgq0\\u002fbh9Be0KACuAHvC1kADA\\u002fQdhc0+7jbb0UKVw6NwM\\u002fxKlUe+D3QHKCPo5HV525\\u002fSoC2BgljF2AjxS9jHfCxEH18iOKZKg9cFKJ9A\\u002fCAawzPAL1C9HEamhGdfbxIsCXVIEFciHd2uSJCP1\\u002fGnmVmAz1Dth+CFNma3aK4AR6j+D46IvZjEAOPUvwSWtCsFRb9gBWFPr4ScSx3F9r\\u002fJWL7Y\\u002fEunWFmyqpCY6UHEAENyNJy4r3Cv7n\\u002fPQiWIMuvHbkgwsKyypZFbN8MbEOWn4WREfoxiIg+SIEq7TtKUx5L7GlljFqcofJoNnFiMXBlxP6moLjf5cjlEBZj0HI5FXgyQvtm5EZwWoYmzpcxZlP8Ra8FBkTopycK1nYCp0Ycy3WF9g9GbD8abcSd9\\u002fOziH0ZRMTNeP03EyP0cwz2hvhxwkcOtsN2PWwgWvjkFrxL3oQI\\u002fRjEwNF4LaN3gEEh+ugLzHG0bwM+E3IcP3aN4W7CebpHAZtdfaxDUQCDDNEEvI73y34azRrl0Bu416f9SuDAgGP4EtrruH1I3yLYTDcMxfrcY7gl4PUNEsbJePcenWjWGUPpl7o38miXsrDWok12U4n22wM\\u002fRTOaX\\u002fsO4LfA4BLtG4DPIjeDu+0aFMSuWdQy2yAH3A6cg\\u002fc+2oG\\u002fI6vrP2h53B0tlZ+ifHikE23WHwJeQWGeQYgpcArBltb1yAE7E3gXWXEjgROB\\u002fXzG3AFMAu4M0LdBSugDPEHtEev8ZrXvU9sfeN2gD5qp3EHWWpEW4HyMMlUVcmgpeRX\\u002ffVU1SityVdRVmKXevopG4AikXGPQvqnU5roSaEGcrZnANGSp1hXqTaH8UC3cok6016trdAeFcmIQ2ebpvYvcC90GlVSoDyKTfz\\u002fkHX4I+DPpfsXTyJZiuw9K6kwLg4ALUHIDwLPATXTDRIfD8FJQ8sgH07t0s9i4ALiP9N0M84A7EM04LYxAPjb3tRei7Jpug3HYtFm35NEs0jfF6w8mfUvwphTHD7IMl3Rx\\u002fWWIklP3OB5F5bt6GXm09AWJyUXBLtS2Qn0CWB5gDCtQ8LlucTKwieAv5W8o6n4cMDChMeRQHC3tJW8myaaXjwU+DRyC9kdBx7Gq0KbucAbRClgsQHzr54GdEhjHL\\u002fAyBNKS5ajmQlwcioprbMKbxxdE1hCN6161OAspRZyXsxI4IIGxTIs5jrCydwJjHoPuP8441iMyYc3jPOLPCMvRviEJ1KJCQfB9U1fSQngCYVXhq5TmDAWVJdhJjw0ojy4Oak2hPoztK9wXWBpzPJuB8THH1CXSyHrJAZciemycsMdC4ATgLTTO69D0fyLyYUXtc06MMYXF1hhtT0B1Eq5GWTGvIT7XE5Qu5FEOzYU+ewH3xBhbZsgB3yG+Wf4WosiCgru3YVtmr6AU8HrGqWiJ6sTmSllc9eHYmTpRZRvRkjrKIsnQSw\\u002fgh8C3Y\\u002fY7F32dS9CXdBuqiOLsc17hbxaH7PsQYIcYYwuDPOK4h82x+zwqJ+TM08sj2vEVSMF2RzNVmOIgbrQDX0MZRFWHBpRLFte\\u002f8xJ2jYJmvNVNnBK0dI8Ts2KOL4y0olpQYXAO\\u002fnWjOtGzvR57mzIE8b\\u002fijLEd+AZVRhJoBH5JfGV6Hpur3Rd4JECbRYSLW1WzQk2hvEWcR1kxVpWYwXiTXsNKB\\u002fFXlcTQE03PcW4oj7JQLG\\u002f4dij0ErT9UrqOW+UKfX4EbWyzUqg2ZEQMoOtcvRxwMcEtYiuIbiVaDCL+h9IB\\u002fKDMOFNHL2QxxFUmZ9xuB7pOcSolyymOW+VQBskfkBKtpjLU4DxKy5qPMmB+RHESZw7ti6Lw4e\\u002fD3mcNRNSVOKtEHlmTFSEk9gb+GGKwpW7gEWxmwU7AczH6c8etDia+hzlJaaN4v9IDFfiIo+gPO57fAFSjKq5S3UjGStUHb8GvKAO\\u002fH\\u002fsLS2Iv0IniVuMcYx2FXVCsktKKuFiWMjUA15LMrPkkdiC6H0p8iKtUtxK+ml8k9AeeijFYa8B3YScPJGGtOGU9YihYOICuq\\u002f6mLduAcx3j6UkyRoxTZqCMZtAHPy2B\\u002fp3vKBU0IN9HXGW6Bdv0HYp8Skm\\u002fxI0UU333QT6rrJVpK6rjaaEJ+A3p0Gf+gb0\\u002f600yzNTrSRFHxxxcHpVittbn4fhTWJOSzYg2Y2FP\\u002fItTpCVbgC84rt8bhTvS5GL9E9tV0YRmmTjXayVFGvN3YwysA8X2LLN0L7KZMbYAZzvuYRiyuNK+7iaKazz1QQXJskiZfxVbCXpSHLaKIqnRXi6KOKB2FN+zNqT7k+2eZhsw2XEfu6FMlLSutxGxUy30RydkZVl\\u002f4Y3CfYK2FzfGuH5S1CEPhhGeddkGXIKtTKOpjNW1Efio416GoCBz0tfZgGKMTownPo0niizAZow2oFhgWKvyVVJ2IUwm+MOxTGULh1KZU6Ocy89QbINgMP7Hc0SVdWifaaEZe+k5n+yox05ZhB1AtoL3QZVqORnVXZhE+YfjpkeMQx7jrB\\u002foBsSfAjk630OVWixzOImwRSfyxDt52\\u002f2Q0\\u002fZt7Nrpkygd+E1TlmKTFIN65pcSUZmiBgS\\u002fiGJ4foW7tqKHZxG4jkNOzKwPGVyPzlKZjl72gyhE0YnKIVoveCClT44KijcR7Qbksb4fezO7FC2Dr6PndjvpJrP6YQWi\\u002f84u\\u002fHwxIu75ESwXo3f2ViYjc2A83oKjmyguz3wKNlEsS1mNnZ59DN7E0jxSsKTrHAzEPxa5DLt25wQq80xWoVnawgV4V5oF2MTGSIhLWbgS+9Cejcjv80Th5zNQOnbWX+NKZGXNAk5CAWw\\u002fLnonCkzfmdB1c4iwNraLcZ0EvIBmi3vIftZehz74Zwo\\u002fT0Je+yb0PE5EFmlFMABVF+lEAz3K8buzqcx+4V3smeA0wiWWZiHvA4cXxuc3c2Yh69GBRRbOdLyrJ6kwL+pwNE06o\\u002fyTqYxFswR7I3kW1Xsy+lpUOBa0LK+uwBha0GxpYQLK1A5T5z01OLnPZ1MZn4vTmjqX+Imlact6VOcBtERWgmazmWIOWSLsgqSnt6Fo2twz4X67wnxkRS1EBzNeS7yH046WzvnI4lmFZrsc2osNRg7D4YjDFfUZtqDl5mHkjX6UaGf+RUEnCslcSA0URBuC\\u002fykHacjr2MmQlxF9dtyCNujnImUJQtvoi\\u002fZrV6Bcvyjcpk1orwfyFXVVoicpcSc71ASSIsx1JXNQFbwewPeIRqNdg2ivsUxlFJ44GLFYwy63W7APzh5BuoyIPPI\\u002fVUvd0VDYifSyTGahUzh7AFcRfnZoRVN+GtSM0WiDGyYYuw2Z8JAeI8KdMFqT2AGR55N8MM8iB6J11H1YZVqIbWWVQg7NsmORBTQR5cyNR5ks5ayhnsDXCefAbEUxPxBTYG6Cz6yd4IcaVT22Q+GPJB7MdOT\\u002f6gn8ivCUjBmUPtQnh6g1V6FMmU0l+s8jRXkJZbHs08W9H0y4fVEbCovk0HL+cgLPrA0VLqkr9MV7nHwYyRfa90Mb5jsIp0x5dISrX+3OHPIHzSDapn4bSgwo5SHfg3BLWDs6rjaH2JcvxnhuraikUl2iGcXPoiiTFXfrjXLtws5Mj1HsL7MwCPgdyfjOtiG+\\u002fPY+1xlGOIaqM\\u002fFyR1RiMex4tiIHb12jF3qBYZTJKj8TNZvjFfxf8ijS4bTPxb8u1CjKF6x1K9U1SKm2RzNo0LabgdN9xlCXCJq+nkcZIk0oiPp4gDZu2YA\\u002fr2ccchkkrUyWrEDWnhvnEc6IyAM3IDO\\u002fP8GyjtxhlW6BRlRAtdRsky\\u002f8vhF9nU+X+LtyL+NSn2uPIl1lciqVu9xOA+HqNlj3YRXI6INOnCj13NyB324Fi+fsfjgdKHzSQPT9Qyci6rv3TTuTbSrVa3jrrY8kfOA6jwyRJkrn3K2lzqr9RoGb59yBOFY90MuPauHkETvSiRzh9m9JyQ0+931XxHu6FylUE+JxWUrlJs91a1g857bCf5PwwSzGOzsdTmWYEFvQAUlOHBhxLJb7ow9aAm8l2SrJdYMc2sTmULA3bt7cVT79h927JCn3+ownTqzT8sk1ALuWfbrdGL2Iny\\u002fXgdfCGkFlSH+WtOCNG14Rs89p1HhcLiscS7QjKCxZgZfHfnmM\\u002fpISZwUWgIOIns3rTMIwCIAjiW7aT\\u002ffpL4xTMC15wDWmAUTjlJfycRmUgZMaOwfvgY2l5EZXP83YyRSVlPl4eUhvlmmTR4po1SV\\u002fhzo7RT1rfBy4G33NI1FqdbkXd5mrj52p7P7JkrV4fVJdOWw7kJ+uEVm99xO+jLZBGQylPL14sqvNsDJ\\u002fn5W04uVRTS3xt23AN6nBTXetDXgRisM938XfuA\\u002fBrpZ7zOEluPkd2G2VH7qmxO+rGtXysMNgJcq9f7zE792cpxa0fFQaW\\u002fAe0+E31jNQUNwgY\\u002fTGv+Tf1a6\\u002f60e4Y1XTkkV407tecvx+FXBEjOdhkAAaUSDZqVRTff7uBbJXILe4Z9Re2FbsErrJKea1gB6IgG+lUb2Ndym\\u002fmsor1CWuMe2JNt\\u002fziJ\\u002fGZZACJiLa6za85vUYKnM0hyWteLOpJ6KZs1TShEEV4GRUVuhC1783kGz5w7AyHa+FNwX51wyqHEeg\\u002fYr7BU4g20q8lnRQfFyIhVq0sLstRiIajBONwF\\u002fJXqGmUicJlgZejCDb4rHLMXylusd4sontbaZ8yrtBnSDtKntbKT5nxqAb4HPIIkxamdagoqwG3RD7URz+iCvPkW31PoMqRC\\u002fkt1pGdEVaiByVNVUVziBdNKPiEk\\u002fhLejvJy2oLubp+J8o0S1h\\u002fCP+6I\\u002fYonujmqFWgfr16KiNuShvcHNFRmdgYGBgYGBgYGBgYGBgYGBgYNDN8T+LqYykeCWDcQAAAABJRU5ErkJggg==\",\"x\":0.6,\"xanchor\":\"center\",\"y\":1.0},{\"sizex\":0.2,\"sizey\":0.2,\"source\":\"data:image\\u002fpng;base64,iVBORw0KGgoAAAANSUhEUgAAAHgAAAB\\u002fCAYAAAAkYQZqAAAObUlEQVR4nO2deZAcVR3HPzN7ZbMJ2dwbsgmXYZNwqBUkIIcgWISIAS0RxbMoj\\u002fKiLCy0Sqr4wypLKUVKwfsoVCgULQQVOUKRVMAAEgxHSASiZCFcYswCyR7Z3Vn\\u002f+E7X9PS8nunXMz19ZD5Vv8qkp6en9\\u002f3mvf693+\\u002f3fg9atGjRokWLFi1aNJxc3DeQAHJAHmhz\\u002fdsOzALmAnOAmUAP0AFMAHuB3cAgMAyMA1PNvvEgZFnBjrIchXUC84FFRekDFhaPzQfmFWU2Um5HgO94A3gSuA\\u002f4C\\u002fAIUnhilJ1WBTtKa0OKmAEcCiwuSj\\u002flilyAemMQpYVlCtgB3AD8CniJBCg66QruQsNjP3AEsARYWvzXUdwCoBf12KTwCnAt8BPgvzHfS+LoAo4FvgZsBIZQT0ijbAfWEe3IkRqmA+cCt1N6jmVBxlBvntu4pkoX7cBpwN3IQo1bIVHJfcDyBrVZapgPfAfYR\\u002fwKaIbsBE4h+bZP3eSAVcBm4m\\u002f0ZsuLwNlkWMltwAXoD427seOSl4EzyKCS24FPAq8TfyPHLc8BJ9TXnMmiHfgs2bKQ65Un0Pw+9eSBT3DwGFM2cjtyjaaWHLAWOejjbswkSgH4BhrhUslxKOoSd0MmWYZRJ0gd84BNxN+AaZAdKGCSGjqAq9EQFHfjpUWuJUVD9Xm0LGZbGQbODNPYzaYP2Eb8DZZG2Yji24mlDfgW8TdUWmUS+Lh1qzeRt5LuGG4SZBtKHaqbRmdBdKFA\\u002fawGX\\u002fdgYyXwobhvwsSZKMAddw\\u002fIgmxHqUh10UiTvAu4HGUvZp0pYD\\u002fwPMq\\u002fGkMZKYtQ\\u002flgX9UeKlqOo2\\u002fV1XqdhvAM4QPy\\u002f\\u002fCilgEJ9P0ajVR\\u002f6QeeAaSgZ8Dzgt8gOqdcH8CDQbaGDyOgAfk\\u002f8CohSxlHu84loplCNTmAN8HdkFYf9zgngrBrf1RSOQUNW3EqISoaBb2Nv2faj3uysfAgjNxKzdyuP8qriVkJUMgJciYbgMMxCz9GwSt6LfiixMYfsRosmgO9S\\u002f3NwNnAb4YfrL9b5\\u002fXVxEdkMKBTQM3eOz9+dQz3rvcBXga8gq3cxZgv6cJTBEaatNhLT7KQD+KPFjaZJdgHH+\\u002fzdM4Evobmqe94\\u002fVjx2KWZ\\u002f8lrgtRD3Mgoc7XMvkdJPuBtOuhwAPo+5J84DbqK6Q2cMLULz9v424AeEG6ovM9xL5FwS4kbTIBvx9yKtJdh8fxLlP3s5DI0Otvd0DyHWONXji25Hk\\u002fqsMQpcgxwVJpwF37XIodHNyyBylExa3tfJNHl90xxgD\\u002fH3tkbLeqrHY5cRLGl\\u002fD\\u002f7Tm4XAv0Pc24VV7stIPT14NQ0KaSWIceBnKL3Xj+eQu7IWT2HuwSD\\u002f9W+QRW2D9ZKXsArOIRda1pZePAncW+OcMWBrgGs9QfUfyo3IiWHD27GcLoVVcCdaJZclpoBbCbYi\\u002fwFq974Hitf04xlkzFU7x8sAqmgQmLAKngW8OeRnk8prwJ8Mx\\u002fvQKn33aLUVfyMMZIg94Dn2QcqnTVPAzQQz2Bw60KMxcs4hfmOo0bIBxXS9XIBylpe6jvWgIdjvWg9TntXSDzwLvNtz7bnAC5b3eZXhHn0J24Ob8itqMutRz\\u002fNyHhoaz3cd249CgX5sQSsoHS5EseL3UN7me9DKfxvegkV0KYyC28je8DyM2bjqBU5Cw\\u002fOFwCGu9+7BPLxOAXdRerZ2AR9G7XaK5xoUz52wuNdjibioSzfwT+IfUhsp2zAbL6spZYgOI2U7LEVTJu+1dlG+BOV0VDBtCnnAjvV8x3LsslAn0WgQiDA9uAc4MsTnksw24FXD8VWUelw3ihw5PI+sYC93onmuwwWozUA971TP+c+g53BQ8ijrMvDJtryJ7NV98pvSrKbcej6HkrtwCgXy33C9v794zHFDHoIMK\\u002fc13kZ5u0+i3CsbBoKeGEbBWSsFNI7ZcTGNyuF0JeW9x6lR6QyfNwH\\u002fcL1\\u002fEpXD6UoqrfUt2Hm1jgp6Yphcn6wNz\\u002f\\u002fBPET2I5+xmw7kLnQs33EU7M8XX1+JnrMO76Qy1WcA+brdXq4dyEMWNHPkCGS01QxY2Co4j8JdWeJlzN6rRZh97ScjpY0W\\u002f\\u002f88WkvkGFEOOZRK7HXn9iIjzO3P3lm8XlAFLyaggm2H6LbixbPEi5TPWR0Ow9zgy1DQ380Y5coFtZOpM+SofMy9iH9gwsQiAurOVsF5KoettLMTs4E1gDmYshhV6KvFUSi1x4TXSCqg8GFQ5hPQ0A3Tg62c3Slg0Oe436Oog2B2SD9m1yfI8PL+eHYFuKZDO\\u002f7JgGWEUXDWYsC7fY5XcyYEeUwtwj+cupDKsJ\\u002ffffjhfUwYsVXwTFJUQyIABWRFe5lO9R7idTeamIm\\u002fghdQqeBXMD8q\\u002fIikB\\u002feSrSD\\u002fCHJOeJlB\\u002fcnu1ZTVS2VH2YtdnlagMg+2Cu6pfUqqGKU03XHTg4IEfuwNcG0nX83ELCoV\\u002fDoJULCf0ZBWxjBHhKbjvxZpCvmPa7HL59qgId6r4GHsvFmBdGGr4Kwt7h7HrIRO\\u002fG2NV4CnA1z7ceB\\u002fPu91UjnNcRLpgxLZNClLFDD3mg78FbyJYNGfQeB+n\\u002fdyVD4CnO0MghLI2A3j6MgSTpDAi7Mnk5c3UDW6oHlU1+DvofIq2DaFNhJPlu1NJB1nWzsveSpnC5OoNKM3ma4am4ufMf0gvD8g29ExkEFmq2Cb1JI04OxX6MVZ4knx3zGkqKuwX3LyzeJnRykfLbzXacduChpIF7YKHrM8P+mYjB2QIgpICY8CH0D1v0xTqlpMAFcA70NxZ+dZ61VwN3b68AY3jNh6pUxOgTTThXlmMAhch4L3d1D\\u002f310oXmcjyqw8icrlLz3YKTgSXRxN\\u002fAlyjZQRkrMxxkex2xjs\\u002fCAXtR2ih7Az5ZNOF8H8ys1gLnb6MMWwK7BV8H6y9RzOoaUpSaAPOyNrT5CTwkyTAl04RQTOMUaG0GnAxVQvv78E7Q91NsHduzb3MUVE29Z2oV2u4352NlJ+FPBvPwK4BY1gBTQfNvX+PkpZkk51vCB7I9ls8zdCRIGfduCvFjeSBrmL2k6GAbQWyV0CqQB82XDu5VQWWXmE6lVyOrFbhLaL6tGu0OTQrtZxK6WR8jjVsyOOpFK5jmygvCfl8e+JW1CtLBPLsFu+spmIgg1T+OcwpZU+\\u002fJPoZqOyRydgNoCWU14YpR9\\u002fJa4Cfoi5WPoy7Eol7iYiVyXAv0J8JsnMxT\\u002fB7hLgXVRPvXEnIS6leiB+DfAxw\\u002fFjsAvFPkvAuEAYBe9APTkr5FGJYBOnU\\u002f35nKfc+l1A9VSfXPGaXg+idw1ULXYGPTGMggcxL5ROM6sxu20fovaP2d2D51LbYNtKeaBgGhq+bdgR9MQwCh5FJYKyxHKU5uplE7V9vu5nai\\u002fVe+IEstrdHEfAFNgi41i0fxgFj6NyQ1liCeZVk9vQ864a031em9hO5fB6aoDPuRmkfMlqVcIouECwOlFpogMZQF6GKC\\u002fHYKLd57WJOyj3ITtb79ro4XEsKvOETcF5kGwZWgBnYE4mv5WAjn2qD8+jlPa1cDgcbSRmw1Yskg7CKng79lXaks5KzPWhtyBPlB9jPq+9bKLSODoX+72RHrI5OayCh1EtqCwxDWVueNtkDPgl\\u002fhkUoz6v3UwCv6B89tGOiqPZ5GINU15BoCZhFTyOf0pomllDecEzh9uBx3w+M+J67deDHwHu9hw7EdW8suFRLAwsqC8Ndj3Zy7I8HHOmxBDwfcw9tFYPHkcbewy5juWQl8x2G9n7CJiL1QhmEK5yedJlK+Y10NOBP1MZdLjIdc7FhvdvozK0twKtarS5rwLmCvKRkQd+bnmTaZAJ4HM+f\\u002fMqVJPDff45rvfXUV7ufzeVVQFzKOhgu\\u002fvKqzRgs0pb1oW40TTIdqoHIF6n1Kvc1e\\u002fOorQD3D6USOedOp1IuEr5NxPD0qE52FdLTYMU0G5upphrB8qR3oeeuW4P2Alo+rgPBf69n+9GBluYTmGKQkVOHvhpiJtNgwwhL5OJTuALKG3HnZt1KEoO+Azm8N+lhNtfeYgYkwPPxC6fN03yGArGm3BqhrndkzmUf2WanZyGkt3D3McfiLF0Rg+yPONWRhTibG9Xb+8ZQD7kMENzgRC7rTSay4hfGVHJJPA7wit5gNIeD2G+f5AEVDZajP28Lk0yicoEH2PRJk72xlbqm2lcTQLWZeeB7xG\\u002fIqKUAird8ClqlzA6FK0ofIn6lDuCEgJC08iSSCtQGDEpa32iYgz5hG8B\\u002foYMJ6dS7BI0F16Hpk\\u002f1Gka3oeevzc4skdFO9nKmq8kkcvw\\u002fhzJNX6BUKacR1x9HGZ2JYiWa6Mfd+FmQDdRfjK3hD++nkH+6RX1MogjUSK0T46CfbEaZminraUDvjYocWjqZVe9W1DKKvIOJZgbZW4XYLPk1KdnV5nhKJXJbEkxexmLLnLjJAZ9G5n7cDZcGKaBoU6rKNXejbMK4Gy8Ncif+ezwkmoUoAzPuBkyyvETlJlypYgWaI8fdkEmUUeAjpGxoNnEy5t06D2ZxUoMyUYfbCZ95sxIPZrkFc0mH1JJDPflp4m\\u002fcuOV+qtfaSjUrUJZ+3I0clzxMsNpZqWYBqmATJsswzbKZ7O3g6ksX8H6yt2W8SZwEvv6GtFzK6AO+Tvi00qTLAZTS1Nug9kolebR08wpUAyQrS2J2o3luJqZCjSCH8rpORfsd3Ivmz2l7Vo8BN6BtZmNzYiTde5JDv\\u002fwu5NdehHr5UvQs6yvKwqLMI\\u002f5Q2wRKt7mKJq\\u002fnNZF0Bdcij1bctSPFdiGFL0ZzzP7i64WUyg7Op\\u002frOoGF5FRlR16M6GokonJ52BQchh34EjrSjhASn5y+gNALMRznPs5FBNBt5mropb6txFOt+BtXM2IBWLwyRsKoHB4OCbchT2hTL2VOpDY0O04v\\u002fjqPloQfw3\\u002fuwRYsWLVq0aNGiRZb5Py2nB4N+q9O8AAAAAElFTkSuQmCC\",\"x\":0.9,\"xanchor\":\"center\",\"y\":1.0},{\"sizex\":0.2,\"sizey\":0.2,\"source\":\"data:image\\u002fpng;base64,iVBORw0KGgoAAAANSUhEUgAAAJkAAACQCAYAAAAbU8lyAAAjSUlEQVR4nO2deZgcVbnGfz1rZhKSQBICWUwgAQKRNaCACG6gXrko6HVjRwQUCIKAcMUFFxBFEfQiLhAXBEE0IiIoq7LJjuwhJISQEAgkk32Zme6+f7xddvU5p6tO9VT1LJn3eeoJM8ypOnXqO9\\u002f+fQcGMYiMkevtCfQjmGtV7JVZ9EMMEpnWoBHYCpgCTAImAGOB0cBIYBjQBjQBDUAB6ATWA6uAFcBS4DXgFWABMK\\u002f0+wKbOEFuakSWA5qBHYG3A7sDuwI7AFuk\\u002fKwiIrxngceBh4EHERF2p\\u002fysPo1NgciagO2Ag4D3AnsDY3ppLkVgIXAPcBdwK+J+hV6azyB6gGbEqS4CnqMsspJehQRXLffvAu4HzkEboTGLxehtDCRO1gBsAxwBfAKYht\\u002f7BfpSAcgjXasDeBWJuxVI71qPiKKAiKEFaAdGIFG7JTAO2AwReWPo+T7zyAMPAL8B\\u002fgAsZ4DocgOByFqB9wCfA96PPn41hAlqAzAfeAx4Eni+9PMrwNoezGcL4C3AVKT77QrMQIZEC9oMceu+Arge+AnwFCLAQfQChgLHAU8QLa4CDrUG+BfwbeC\\u002fkOVYL+SAycD\\u002fAP8HzEGcMU7UdiO97UDEHQdRJ7QDJwIvEE1Y3Ygj3AgcC0zshblWQw6YDpwJ3Ic4ZxTBFYB\\u002fIk49SGwZogVxgmeIJq51yHo7Afm++gN2AL6MjJROqhNbHvgbMmoaemWmAxQNwJ7AHbgXPxCHbyJRtEfvTDMVNCNuNRuJ92rEthG4kr7FnfstRgE\\u002fQPpLNeJ6GTgPKdYDCdOR4t9BdWJ7HRk8Q3ppjv0ajcAHqa535ZEVeBYK+wxkbIs49Aqqc\\u002fI7gJ0YGN6CumAkcBnSTVwLuhy4gPp47XNIXDchUdaMdMPm0u8CX1g9Pu5OwA2UrVJzbZYDJxHtwukV9DXK3x34BbZeFXjH\\u002f4IU5OdTfm4T+jgjUIB8cunfsUhkj0QiKSCuLrQJ1iFxtgw5b18GXir99xqkO6UZMsohd8YFwG7YEYIiIsSZKFw1iBAagSPRx3Jxr\\u002fnAJ0nPompCnHB\\u002fFNL5Iwpkr3E8v5ZQ1Ark5P0NcCpyxo4gvbBRO9JDl+Pmas+jGG1fYyK9hjbgu4g7mB9rI\\u002fBL0lHqW5Gr4DTgz8ga7SlBJSG8BcA1wFHAeEToPcWuyF3T7XjmCrRxB2Q8NAlGIS5i7sYCEjlH0jPu1Yhyw2airAeXlepLJGkFxQMCmI1irKN6+I7tSHyudsypC\\u002fg62mC9ht5kp5OA3yG2HkYBhX+OQ+GXWjAE2As5ZD8EbO4xJrBaA11rNfAGlUHy7tLfBDrccBSr3Kr0jM0QZ27GL0ZZRFby9cjv9SK155p9ELgC+c7Czy0CVwFfQOrAJoNpwNPYO7wT+DnSX2pBO\\u002fARZNKb4te88oizLQLuRNzg08jxuzXJwzdtaOPsBxyPLOQHEJEGBkDUfFYDVyNvfq2hoyko\\u002fJR33P+PDHx3z3\\u002fwVrRjTXG0Fjib2kRHK3Aw1Rc4eEYecaUHgK8C78KPy9WKHEr\\u002fORi4FBkXayPmWESEfy2ysGvRp4YDv8a9yW4l\\u002fQzgPofpyFI0P\\u002f4yZD0mRSOy3G7ErfyGCfgR4EuIyHsr7tcKvAMlU84lmsOtAX6E0oaSqjXNKNtkg+O+fyPbjdWr2A4trEkArwHvq+F+o4ALkZipJg7fQLv6XaTnpByD\\u002fGgTUKLicMpFJkmIYQQK+P8dt9IeXK8g8duWcJ454ItIvzTveRPSHwcUxgH\\u002fxiawRWhnJ0Ejckg+SXXiWoJintunMHcTVyAjYDmygF9AKdQ3AN9DBsteyO3SSjzhNSI97jpgJW5iyyNH9I4e9zNxEm7\\u002f328ZQDHPkcDduF0Ub094rxHAt3DvzkDsXobifVlhluPZLqJYjETTV4F90DpEiekcsrRno\\u002fdzEdsS5GdLypVPwF6zAnAx6fjrehUtyOttvtzryNueBNshK9DlU1sP\\u002fAmFpbKGD5GZVxfKg7sE2Bdl9VZDIzIUHsatZ3YBl5NcgZ+JraN1A6fQjyMDORT6MIliJfLpJLnPQSgm6OJec4HDqd+O\\u002fBn6WBvRB+8mmWN2I8qGPRGJ1GofeDjwFRSZcN3\\u002fHpKpA7nS\\u002fUyrcy3KYeuXOAR756xHOosvmkp\\u002fvxJ7kTcgvaLeiXvT0SY5FDgaKdffR2LuCWTIrCPaTRFskPnA\\u002f6IwUzViexsiShdXexFxRl9O1IR0SnNuryAfW7\\u002fCFKRzmaz5fPwXpBl9gI3YH+d1pND2NX2iGVmdBwLnIp1sCfHO2AXA6chidmE4ErUuXfQN4L\\u002fxX9d24GbHfO4s\\u002fb9+gTbgNmzCuAF\\u002fhbUV+XnM3VtAVqUZiuqryCFOeziqpXydaH\\u002feY0gCuNapAcVyX8etgiTJUtkaZWqE71NARlW\\u002f0M\\u002fOwZ78k\\u002fgnGbagrAyTpeeRx3p8yvOtF3LIeDkXGQEmhw7rbFchJ6wL+2ATSBG5KT6FP5HsjXLhTHXm3cleq\\u002f7YA9s5uhJ\\u002fztMEfAN7t3chp+rwlOfbWxiJdM3HcWcAF5H\\u002frZpCPhU1bzEJbRXSFX1xKrYh8Ax9OMY5BLgXWw87y3N8A8oUMF+6C+W4J\\u002fV49weMQC6EF3Fz7m9EjB2H0pdMQluOIhw+aMKdanUxfVRszsQWk3\\u002fHXw\\u002f7OLZi24Wcq30ubz1lTEAbaRXlXLXbiVfEt8TtO1yIrGAfjEeRl\\u002fD4dciq7VOYiFJazB21k+f4vbBTr7tR2s9AJ7AADah9wtPI2vR1KWyFskpMQnsUfz34SGwJcjd9aO1ziBhMVn+25\\u002fitsHPLAmu035jUKWIcya3nyUiXMgntGvyyYhtRSropiY5IOI\\u002fMsAd2WvOj+OlQzSgwbBLYfVT3GW3qGI1qFUzsjnxy5mb\\u002fgud9d8R2er9IHzC2GlAuV3hinfiHKU7EVnhfJpvsiYGALZEb5znca3QoChOF13MFUkd8cCE2N\\u002fxij2acAt5BpSwvIKLzsUx2xNbD1iK9ZBA2tkbGQEAEj5R+Z+J8bBfQQ6i5chy2QJs8PHYxvZjkmEPJb6ZV4tPwpAX4qzE2D3wzk5kODFyLzWVuwiaeNmTVm\\u002frVeZ7POcXxnDN7OPeasQeVjsQCUjR9cAyVYrKAfGxRKTCbOg5AwXdTf70IW3Js7\\u002fjblfi5NYZi12AswI8Tpo5fGhPZgErn4zAaTdpcgP7c8qleOAT50sLqxXdxxyxPwhabs\\u002fErTjkZm5sd28O5J8Z47JTeP3mOvRB7Nw6KSX+ciiTIQhSrrEY0LUiHM53bPrl8w7EdtA9HPCsTnGtMoBs1B47DJOyg7Bxqr7PcFNGIkhDe6vG3e2Izgwfwc7J+nUpulid5PQZQW3yqGXVkDvtqHkdmclyX5svQTgyQRznrvrpcGmig3J2nhXIrqKBl+lAUh20tXS2U20Q1Uj72Jqgm70aZE8G1AYmxdZS7\\u002f3RSzqINrPF64SfIVRR86wIK4f0hZtxbUJ1oWE++CvhM0gnUQmTvQvGyYGwRWSSXx4ybiDz7Yefev5BC21nDPKqhCVlY7UhZHYPSnMciMb815XZQI0rzGUq5vUCYmIIrCuGdHsQdA2JahzhJcP5SB3LbLEWugVeRgr4MEeZ6RKRptlSfjJzj4ZqAh1CFVFfM2OtR2V6ADnRWwsokE6gls\\u002fRwKolzNfB7j3EnUklgeaSf1UpgQxARjUAB5qml6y2lnwNiakMcKauC3qAJnuv+ccUeecT91qAM19eRLjQf1S4sQMS4qvQ3cUThwgJU\\u002fHIG5e+2J9rct8eMnQV8lPK7bY78mNcmmUBSTtaGCjrCrZyuR91pojAceanHhX73MGVnbtwc2xHnmYCcuDujBMBtSvccisRan0xPqRFFRIArKBPeHKSqzEEEGZyUEodJqO41rPveBHyYaNHdiog9XEdxI+o34o2knGw\\u002fFNoIUESdeeJwCJXe6QIqwXcRWDPaMeMRMc1ASu6U0rOHkC4xBaIurGMF\\u002fx1cgRUcfJAclRysMXQ1Udbhgn9rQQ6961ala8\\u002fS7wtIDC9Gxx0+hbz\\u002fTyExHBQIh\\u002fEySjgI61MHovrUeRFz2IjcHjNDv3sP2vArkrxIEpiKewfaJatjnnEnlYl0ryCOtBZxoM3RC++N0ounI7E3tIY5BgiIJ3zGUfj\\u002fPQTcgvShDiSO1lLWjQJlvZNKfatIuS1UQEiB4RAYD4EBMbz0bluijkGTHPMM7tkT90AecbV5iGPdjwhvMeXu2TNKvw9blucjKzIK+6PkyLA6cBgivtTRgNh02ByOs1BAepKZYnwFctyejPS556leNR13daMFXoQMi1uREXImSkEy75lHC1TvgyR2R7UO5nzWoyrzryAd6A7K4nCt4+99rgJak8dRD94j0KZ+3Pi754hvU9WCnd3x89qXIRpTsUNBPubs2diLsJByFmiShduARMLTSDe4CIWoDkDidBhlFWBb7ILgPEot6i2\\u002f3A6oNtN8t79SdhUE6sJOwAeAz6Os2dtQ3v8y4nuvmVfQfMZMLM3jlwFrdgGYR0aG1HHGgzqR4h2FHHJTJN2JRbSQb6JkvOuRA\\u002fjDSE8bQbR4GYIalJhEegs9yygI9K+e6IQ7YccG84iTRd23GVnLM1D524XofeYi\\u002fSiumLjadZHHnI\\u002fCdsx6FwMnWaxZiGsEmIt2ZjFizHhkFfl4mDsRUS1A+tLDlI8HDLieL05G+mN4tz2NOMPiBPcZjTj4HuhdRyNOuRH5uJ5BnOklkrXKPACJ7DDBr0YttB5KcJ8m5CaZivTYfUpzHV+6t4+e9yQS5VHrOxl977CheAzwqwRzjUUOye\\u002fwDrjKY9yRVN9B3UjveBBVRx+Ksgd62s5oMnYGQgf6AD4I6iPPR8W2Ubpi0LnxDuQHTKLnnYwt9u6iZ++fQ33HdkNr\\u002f3NERB0R79CF1izuvvOMcT\\u002fpwTyd2Bx7QU7wGDfLGNOJRMW1SPzuTLqlbjnUEMUkBN96g1Eo7+oVkivc3eiDHoEfobQgbmbO9UjPufogh1SLfVCG6y3IQDJF69Ee97rGGPNwivMEZMaaizEjZkwDEnfhcTcg52lW3vddsNOPH8CvIGVX4B\\u002fUrtsE10a0uXzOHtgeKeTh8c+SXe5WExKtJlf6mcfYM4wxa\\u002fBs3e7rjDUj\\u002fhuR+IzCWGzl8Gaky4TRjPSd7bF1t260IM8hyzIKObQQYYLqRJxpXczY\\u002fVF+nMuQySOxvrh0bUREMBFtmFFU6rYtiDNMLv27MOK5LyDdMdyIZhqKF86KmTNIwry1NA9Tv16NdMYgnRq0ni+iBNFwo8C9KQf+qyHolBk8Z2jpHnF04I3LsHdbHA4yxnQj8RjGFshntoyyp928ViK3w4SY521DZUJfEZV5xXHNPRAhuDjSP5FYD3TFsBN2GFKYz0Ef0+SABVS7GHcM9RaO5z9KvLG0L6rq2oB73boQgZ2B7Qv7vPG89cT3kB2PrTIdFjMmEW4xbj7bY8yZxpgOKtlrI\\u002fK\\u002f+Og+BaRcR+lvXzXGdBLfzXEMbr\\u002fVIqRz+oqtrZErwOwDUkAcMs7heS6V69BNdKuBKbg3huvqREQVxj7Y674n0WhABdvhMb66rheeNW5+sceYq4wxpqK4J8mcinmUEeBCK7b1ex\\u002fRJnwO+DH2Yj9L\\u002fIK70IAyVc0KrK7S76MwDvsDRlnvlzrmHXUtojIvbBR2rayPwfGoMSY1C7MBu+hzZuQI4S5jzNXG\\u002fz8N+2O8ZFzmQvywyrP2xo5GHB8zvz2we28sRMZDT\\u002fApx33nEF8ke7UxZknEmCeMv+2gct1M67iADJswXjHu8TWPd\\u002fujMeYvHmO8rLxh2PI6zqHZiN1mc77jvmG8hpyU4euJmDEBDqHyXVahVJYonE6l+O0s\\u002fe7JmHFx+B2KnRZDv9sOZaNG4RoqFe+xVO8Obq7DLCrX7XAqEx8D\\u002f1kYLxk\\u002fT46ZH9hGm9fpfT5ENgb7QKilMWMaqUwJArHsKOQRJwlfcRYl6B0ONH73ALIIq2Er1AIzjFvxL4aJQhGFfMJWZQ5V+0SJ73tQxCM85gOez1xJ5bqZxOCC+T3GOf+qEuaamrThhA+RmbG+gD1HoQ27hjKrk2RHY3cPuiVmzPuws3R\\u002fSHppz8uwdaoZVO+eCDIa7jd+906yS8Q0Ccan98hy4+cRpERkJpstEp0\\u002fBjLLw\\u002fcuYk8wLexKpdjLIz9QFMyPtxAZCmniBiqTMluJPxzjH8bP08guY2SZ8fNI4mOdq4yfh5ESkZlugyLxKb+mh72IPPFZYDcqX3QF8edkmpXUD5JuMQsooGxy77gK7oeo1OWGIX0uC5gB\\u002fTbiCcZ0ajfi4fX3ITKXjycuL998cBE5N7PANOPn+UQTdAO2wvpiqjMSurC9\\u002fXF6z4tUfsgc9vulBVPf9amRMDdiDo+zOX2IzPybwCSOgitclSRVJwnM0NXcmL9vxF6YrE60NdWKuGSAN7H13W1df5gCTP3T55Q71zeMTSfyITLzxkEBRRRcRxxnERR3caWXY8bksTlxVgFp875x1nIB+a\\u002fCyKqlvEkcQd+MKLi+YSzz8AmQu0RjXFzNFI05xxjzhdpQ5msYZtzPHBOcAx5GnHulUPqbqaHfZXHkSxO2NbnEY9wbxs8uq89ch2lUrt3WuItnwjDTkTodf2PC9Q1jdVkfIjOV\\u002fBzxbN9UEHPYu9rlc5kdc19TkQ6qxcMwLSAXnkUB5gBvQwuYpvI\\u002fFTuJ8RmPcWZ1titw\\u002fRqVm+QTRNe+BpkkYbi4bByRmQZdUJwcCR8RZuoVLu+xiQ4q2WgOu5r6NioXNFflCrAB24vfgL1RfAjlHioXdBLJz96Mw0ep3PmdyIqNgzl\\u002fl9T4A5Xzj1u7x1Baexjm91hBvJ\\u002fQlBpBM5dI+BCZqYjmiD+xYh02NzN39UJUPOFTAd2FgsJmkN1lhPjktd9O5eZpQg1809IbN8eu5HJ9aBfMObh0nispn18VhSLiYGdg68nm9zD9Zi6YhBnEtCPhIy6DzM1gZ+SIj1nlkd4TZskub\\u002fflaBE+j7iJafXlUYhkFipaMF+ogK0z+qQ+v4rK0D4Z+t3BpevPHuOjkEMpMJNDvyui+ftEFEzx7zIWVqP45BnAh9DHN3Ww9SgOexHu4hTze\\u002fiEosxQ4ZukRGRr0UuFWWWcvyePrKSw+e1SrvOo3O0v6AXM+eTRi1SLMHSW5hc2EHxL3n6AejoERNmCuOVcepbteRjKUgl\\u002f9Pn4tXMAe\\u002f4rqvzdm+ioxh\\u002fgDu9sQLqby9LPYX+PBR5zM797qqFCM1frex5jZhljHk1zQiE8YTznUs9xDcBPsfOynsROi\\u002fG930exc\\u002fa7SFYcEqQ5J32fJBiDfeDtUR7jHjHGeOWT+eogpu\\u002fJx+Q3U7Snks0hXKZfabLnuALKpjUtvp2RyDwK\\u002fxNRxqB8rKuo5KpF1IbBl4u1YrdNj\\u002fP71YJp2KpJHPfOYddALEhrQqAM0jAF+5ji7zfGdOPXuDgpLjGeM4dkmQtvQ\\u002flxRePagAyET6PFbaayk08bKuI4DXFTV47\\u002ffXjmXJWwDfY5mIckGO+LmcYz1hOfVDkOO5O5WqZyBXyrlUwq3wbt8qgqoKcQYQXPaESdmk3OUws6ka7yCja3GY84S5xTNsBDSJz9kspEy1bgvSgJ8NXSsxYh4htOudnelrgdnw+gGsyovDYT07E5zLZIwR+HXEdpHIlt9r94kfjQ2jRsy\\u002f35FObyHxxAJQXniW+J3ojdBSiLy8VBfI\\u002fdCWMG7tPWkl6dwG\\u002fxSwI0cYHH+2Vx\\u002fcJjbqcbY9bS82r\\u002fCmyBzSrjcuih7Hao93ULKldLmvA3Bh1kuoTkxJZHHP8zJNc9W1CbzBd6+N61Xsd6zNGsQXgk4TvGIoddDe5D\\u002fcdQv4UKXwUkpi7Gff5QFBpQpu13kKW3geheGKtQkuRp1BbM3hklOJqV7\\u002fW6uojP9MhhdyL6qe8LJtnpv6LSzJ1DfK7TBFQBHg6NLKTnxRpNSC8ai8RStRafRUQop6NC26TYEr3jjNK\\u002f4a4+S1CnoEfRB\\u002fCJmYbRhDbh13FXgIOIezXSCZdSborXE7ybytT4pxDXj3IUT0L+w7C+eCzSY1PF8VRScifu9pRhNFDO9gyuhyn3zq\\u002f1akVENgEpsWeilqHVuMEbaFF6GjYKYqU9zbtvB76PXfIXcOE3UHwyaEozFkVPerpuE7ALkH18nkdgl9hlkrG7HXZto48sP4fKl9qI\\u002f7HRSTAMVV3fgPvjrUHnDWRVmOGLdtTSyTz3qIi8+JciwsriaObjsYnF55RgU7d+iYyOwGlALDP8MJ\\u002f+\\u002fdtj94z9VhYTLGEI8DEkzk1dag3ptmZKimZERCaB5REnfjvZnV+UQ709ws99gXhibsH2I16Z0RwB2ym7jPis0gbsl1tA9ueLT8U+9zHgFr4N8dLGKdjO1k5EeL4x11qxu+PZPpt9P2w3yscymiMg\\u002f5PJbn080kcb4\\u002fLIk541RqFESJPQHqf+p9Hugd3vohMp\\u002fl59vnqIK4xnb8DvGO5LjHGryXjt2rE7KPscvjUCu033v0jHex2H0ciyNJXrb9fh2QFakTg053AJ2eheJiZin873V+L10xbss0l7mgrlhSuNh64gvgcX2OdcdqNcqHpgO+wGIx1kV9No4pPYetjt1O803O9gSxKfFggHYYvKIzKaYwXegy0yT\\u002fQYNwm7Sd29eNTtpYSjsD\\u002f0j+rw3Bbslksd+J1XmQYmUk4uDK5H8Fv3a7HnPTLpBGox51uQEzLMBR5BllGco\\u002fBy4HOhn\\u002fMow\\u002fO6GuaRFK0oZfmdod+9idwpZoXQOODLCe+\\u002fEqUOmUmC70PNXMJW40XItVMP\\u002fBhlHgffuojaW8Wt+XgUJgvXc\\u002fyKyjb7meI8bNF3gMe4bZF4DY99lvg0k7RwCDYXPtrxdzsbc\\u002fS5FuNW4GdhcwOzrVZW2B3b+foQfobGedhr9c7IESljIrZ33eecJZCH2VSAv5bBHF1ox47BueadFpG1YZ\\u002fl\\u002fds0XygCzYiDmszAbJnlwjDKDY2D6zHqY6hVwIzKr8duPOzCltj9TjuoLeW5FlyKTRxmykpaRLY7th54aNovVAWfcTz7JvwI5URst49P1k3q2IvK9J8C8GvPscdjh6juJpv0bBMfoXLxurCtzMkoXSjJdTX2BzTPo1pHfU6nm4KC6uFnr8JvI7dj5wEuJL7WNhM0IF+LuYg+L9KKvPHhsXnqIza3wd7hpjkfVMknuVwJfN8xnvMC2YWNAgxB5yWY+tT5nuNPwuZi9TJSnNifyg9WQM1rfazWnbEdhKuRbyZLDHc897iMnvVr4zl3ZvScMM7D3kSP4mdcbY7K98Jjl+DXhTEzNGAf+bcR\\u002f\\u002fTnU7GdffPIpgFKgFZsZfy0jJ4123iOr3FUKw6m3DogLCZ9Y7XfwOZiX0p\\u002fmsmxF3YN3yP45X+3Uu7rEOaG\\u002fyC7+FgLtuHxReNvGpAOkuRyee9vMp6TpT9wF+zNkwfOwk+ybI\\u002fN4efTewfQViCHfTBEHlXY+CBw+pmEdi3ZGAIuIjvT+JvtkP8uyXU3the9XkQ2EWUAm1zo9\\u002fht9ka02U097pgM5lozJmNXTr+JDubywT7YGQrdyFuddgDZh8jScmHUg8i2RKlUJoH9G\\u002f+az09h5\\u002fzdS32yQxLhDOydcDP+sckjsDNau1AxSJrxzYFEZKNx58wtwt\\u002fvOA7b8bqe3su5i0Q79nnj3aglkw8akJJpWkadKCUmrV01UIhsLIrFmgS2An8LvQk1vDHvcQkppqmnGSZYh8rf76RcDdOIfF\\u002f3El+nV0AdajZHHz3wJzWjjNLhiGDjzhBIA0uwjYE4rMHdQScLbINO2NuXSmJYg7z1t3ne53gUgQjfYw7wTURsfRI51NjOFJuP4e9raaV8OojJFW+itsrsMHw4WVrIgpPthbJgTO6zFinqvhxoL+wT7TZgHyHUJ9GOfUJcYC366lZtSBczRWdAsLUcFRigvxJZDvWFfRWbwFajfDnfkr+x2IRaQBGK3q7m8sYO2OnWXSTL0WpFoRCz+KFQuvdx1Cbu+yORbYZy0ExHaxFxo4\\u002fhT2Bt6KAyk1D\\u002fSf0ydVPDYdgEso5kJWnNKJZmZtQGFtAskrcG8CGyoShkluTaG5sLpEFkM5APzlWn+RKqNfXlPo3oqG\\u002fzXovxKyrpc2hAnMjcMctRtmiS+xyM+zjkoMnJx\\u002fHnaj5ENh1xjSTXXGyfXk+IbDMUmH4dew0LqANR3FlNYeSQ9W76w9ZRv1qLTDAEdRk0F+hVKvvo+2An1Brd1fxkHfJu++Sz9XUXRiPKCrkf9\\u002fHZXajZzRiPe4VxEvaJwt3Iv9lv9LBq2AK5MExCW4hEQdJ7fY\\u002fqPSSWIoPBbDsZRl8lshwyaK5DnNG1mV4HPut4ThyOwdbnCkh01quQJ3O8BbUANV\\u002fyJZIf0tCExOezuD92Hnm8L6Dy1I4AvuJyfcJrPrWJywakz\\u002f0GqRIu4sojz\\u002f4uJOc6x+LWaa8j+yr+umNHlMZjEtoi\\u002fIpQTGyFnLcuiyv4MK8h0bIf5R3rQ2StSDwnubYnmeK\\u002fGcrSvQlVOlXrgbYYVRsltfxyyIntWp9bqaG0rb9gN+yK5KBh3WE13K8JxdhuwW19BfdfjRTl0xE3MAt96+XCmI1aXX0bceL1VCeutajR3BSSc69m1P7ApVbciV8xdr\\u002fG7khMmoSwCiUP1tJDrB35iu4nusdqNxJJpoVVLyJbg94zao4bUHbx3tTmBxyGuLf5jkVUtW6eKjJgsTN2e9BggX9E7UULm6GWAPfgtsyqXU+gDjcfR41RxpE8xagN6Z77IkfxD7Ed0lHXWhSs3p\\u002fakwEmo7ili6vfRC+lUfem6ToFhZr2Mn6fR0TyWWo\\u002ftnko+tjHo4yEkR5jAk63EZn6HUiML0Xcbw3iDgXKffw3Qx9uK2T5bo64agtyRcStbxG5c2ajHiPPUvtxiAeiE0K2NZ5bREbFTOxjDjcJjEU7zOVsfBnF6nqyEZrRop+N3CguHcX3KjiuWu+1AuXaHYMItCcVTG2oPYLLeOhCjW7qUWrYpzEMFdya4q2AiOKn9FxRzSEOswsiuFuxMxCyvArI2LgBOAH58dLI+J2O9CyXarAScfK6V333VTSjBenAXqw80t8OI73zKFtQzPP9KPR1M6qJTKPNeQF94KeQjnU2cqGMJj3HZzsqEFmKm6PORbpdn\\u002fDk94lJlJBD5v3PEMcJo4h0pdmIKOak\\u002fNxmFALbAinPk1Grq7Gl340o\\u002ff9mxBm6kO60Hm2M5Ui3ehlZzouRSNxAuomMORQQ\\u002fxZaK5NLFYEbUanhohSfO+AwGimwLhO8gApWvkn2llJwUFcj4nytiNCCqxURnY+Cnwa2Rwp80MvfpeedRspH0QxkNKG0YLMDT1iEzkMW08jemWLdMAn1\\u002fH8TN3EFfURqOeZnEMjy+jF28XCwuN2IEM8ieVZCX8cOqKBjKdWdt2+guoeh7lsMwheNSHF21RYGxBacVf59bH2uP6EJtUu9Bul61dwknajPxlQGuVeqaENZta5IQZjgViOv99H0nxDKFFQd9TjxB4bdhSzHQddEhhiBdDEzo8Mkti4kTq5DZwbUcoJbVsghcXgKClivRARUjbgKKC57CIOKfV0xEjU5dpWHuQiuAzVy+Qo6kbeecbwc6lfxEZSe9G\\u002fEcaMIq4h0zjtQ\\u002fly\\u002fJa6BIM+HovjkieiYvShPerH0bzf6yPNQid1TyPe2AOl2Ucdex2Ek4ppTELfaFQXdJyCR7+PyWIkqiq4oza\\u002fWeGafwEAgsgDNqBvPEegA9u3we7+wvtOJdKJlKINiKeKAq5Hjtav0d02ImNtRZfsopP+NK\\u002f0cOG6DmKTPPPKoyv4aFH56jZ6fbTmIjBDEKfdHLgDXaXFJQkS+Vy3370KE9TUUh6zHETh1x0DiZC7kkGd+R1SG915UrNFb7SmLKOR0P1L4\\u002f176uV+LwzgMdCIz0Yi43E6ogGU3dPzMVNLv7FhE4nYuOg77YeBBpPdtZBMShZsakZnIIcJrRdGFqSi7dSIKjo9CivxQpGc1oXhmHom6DUhfW4HcJa+hlJ4FyKgIUr0DcbpJYlMnsjjkjCv4XaBTQaWONYhBDGIQgxjEIAYxiEEMYhCDGMQgMsH\\u002fA1M36xdb8fZMAAAAAElFTkSuQmCC\",\"x\":0.65,\"xanchor\":\"center\",\"y\":0.6}]},                        {\"responsive\": true}                    ).then(function(){\n",
       "                            \n",
       "var gd = document.getElementById('c0d40987-922b-486a-a0a0-914102dcddc6');\n",
       "var x = new MutationObserver(function (mutations, observer) {{\n",
       "        var display = window.getComputedStyle(gd).display;\n",
       "        if (!display || display === 'none') {{\n",
       "            console.log([gd, 'removed!']);\n",
       "            Plotly.purge(gd);\n",
       "            observer.disconnect();\n",
       "        }}\n",
       "}});\n",
       "\n",
       "// Listen for the removal of the full notebook cells\n",
       "var notebookContainer = gd.closest('#notebook-container');\n",
       "if (notebookContainer) {{\n",
       "    x.observe(notebookContainer, {childList: true});\n",
       "}}\n",
       "\n",
       "// Listen for the clearing of the current output cell\n",
       "var outputEl = gd.closest('.output');\n",
       "if (outputEl) {{\n",
       "    x.observe(outputEl, {childList: true});\n",
       "}}\n",
       "\n",
       "                        })                };                });            </script>        </div>"
      ]
     },
     "metadata": {},
     "output_type": "display_data"
    },
    {
     "name": "stdout",
     "output_type": "stream",
     "text": [
      "Train throughput: 1325.24 images/second\n",
      "GPU throughput: 1326.66 images/second\n",
      "epoch time: 967.02 seconds\n",
      "-----------\n",
      "training step time average (fwd/bkwd on GPU): 0.385931 sec (23.7%/76.6%) +/- 0.005637\n",
      "loading step time average (IO + CPU to GPU transfer): 0.000414 sec +/- 0.000268\n"
     ]
    },
    {
     "data": {
      "text/markdown": [
       "[Click here to display the log file](./slurm/log/kg@JZ_391945_1nodes_1tasks_2024-10-25_15.20.05.out)"
      ],
      "text/plain": [
       "<IPython.core.display.Markdown object>"
      ]
     },
     "metadata": {},
     "output_type": "display_data"
    }
   ],
   "source": [
    "controle_technique(jobid)"
   ]
  },
  {
   "cell_type": "markdown",
   "id": "8fe291c2-50c5-4ebe-a8e1-f2bddf030136",
   "metadata": {
    "tags": []
   },
   "source": [
    "### Streamlining Training with Advanced Torch.compile Techniques\n"
   ]
  },
  {
   "cell_type": "markdown",
   "id": "8ae3c4a4-63a6-477e-890f-4a197ff42c13",
   "metadata": {},
   "source": [
    "\n",
    "When enhancing your training setup with Torch.compile, incorporating it with Distributed Data Parallel (DDP) and the optimizer involves precise steps for optimal performance:\n",
    "\n",
    "#### Integrating DDP with Torch.compile\n",
    "\n",
    "Ensure DDP is applied before Torch.compile to maintain proper functionality across multiple GPUs:\n",
    "\n",
    "```python\n",
    "from torch.nn.parallel import DistributedDataParallel as DDP\n",
    "\n",
    "model_ddp = DDP(model_raw)  # Wrap model with DDP\n",
    "model = torch.compile(model_ddp, backend='inductor')  # Then compile\n",
    "```\n",
    "\n",
    "#### Compiling the Optimizer\n",
    "\n",
    "With PyTorch 2.2.0+, optimizers can be compiled in an experimental feature to enhance the training loop. Wrap the optimizer step in a function and compile it for execution optimization:\n",
    "\n",
    "```python\n",
    "import torch\n",
    "\n",
    "model = YourModel()  # Initialize your model\n",
    "opt = torch.optim.Adam(model.parameters(), lr=0.01)  # Define the optimizer\n",
    "\n",
    "@torch.compile(fullgraph=False)\n",
    "def optimized_step():\n",
    "    opt.step()  # Compile the optimizer step\n",
    "```\n",
    "\n",
    "> **Task:** After applying Torch.compile to your model in `train_pipeline.py`, try compiling the optimizer step as shown. This advanced, experimental technique aims to refine the training process further.\n",
    "\n",
    "Leveraging these advanced Torch.compile strategies can significantly enhance the efficiency and speed of your model training, offering a cutting-edge approach to deep learning optimization."
   ]
  },
  {
   "cell_type": "markdown",
   "id": "57647413-ca8a-48ec-9e9f-94065be2cfe4",
   "metadata": {
    "tags": []
   },
   "source": [
    "---\n",
    "---\n",
    "### Enhancing Inference with Torch.compile\n",
    "\n"
   ]
  },
  {
   "cell_type": "markdown",
   "id": "746d260f-b38f-46fb-8be2-45782311ce4d",
   "metadata": {
    "tags": []
   },
   "source": [
    "Torch.compile now offers an experimental feature that integrates with NVIDIA's TensorRT, a leading deep learning inference optimizer. This collaboration aims to boost inference performance on NVIDIA GPUs, utilizing TensorRT's capabilities for neural network optimization, including layer fusion and precision calibration. The goal is to markedly improve inference speed and efficiency, a crucial advantage for deployment in performance-sensitive production settings.\n",
    "\n",
    "The synergy between TensorRT and Torch.compile simplifies achieving optimal inference speeds, making it easier to enhance model performance in critical production environments.\n",
    "\n",
    "Additionally, it's important to select a backend that aligns with your specific hardware capabilities. For instance, Intel architectures can benefit from using the Intel Extension for PyTorch (IPEX), which optimizes performance on Intel CPUs. This tailored approach ensures that you leverage the best possible optimization techniques for your hardware, further enhancing inference efficiency and model responsiveness."
   ]
  }
 ],
 "metadata": {
  "kernelspec": {
   "display_name": "pytorch-gpu-2.4.0_py3.11.5",
   "language": "python",
   "name": "module-conda-env-pytorch-gpu-2.4.0_py3.11.5"
  },
  "language_info": {
   "file_extension": ".py",
   "mimetype": "text/x-python",
   "name": "python",
   "version": "3.11.7"
  }
 },
 "nbformat": 4,
 "nbformat_minor": 5
}
